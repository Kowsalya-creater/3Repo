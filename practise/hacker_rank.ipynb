{
 "cells": [
  {
   "cell_type": "code",
   "execution_count": 1,
   "metadata": {},
   "outputs": [
    {
     "data": {
      "text/plain": [
       "31"
      ]
     },
     "execution_count": 1,
     "metadata": {},
     "output_type": "execute_result"
    }
   ],
   "source": [
    "#Given an array of integers, find the sum of its elements.\n",
    "ar = [1, 2, 3, 4, 10, 11]\n",
    "\n",
    "\n",
    "def simpleArraySum(ar):\n",
    "    sum = 0\n",
    "    for i in ar:\n",
    "        sum = sum+i\n",
    "    return sum\n",
    "        \n",
    "simpleArraySum(ar)\n",
    "        "
   ]
  },
  {
   "cell_type": "code",
   "execution_count": 15,
   "metadata": {},
   "outputs": [
    {
     "name": "stdout",
     "output_type": "stream",
     "text": [
      "Alice recieves 1 point\n",
      "Nobody recieves point\n",
      "Bob receives 1 point\n"
     ]
    }
   ],
   "source": [
    "a = [5,6,7]\n",
    "b = [3,6,10]\n",
    "def compareTriplets(a, b):\n",
    "\n",
    "    for i in range (len(a)):\n",
    "        if a[i] > b[i]:\n",
    "            print(\"Alice recieves 1 point\")\n",
    "        elif a[i] < b[i]:\n",
    "            print(\"Bob receives 1 point\")\n",
    "        elif a[i] == b[i]:\n",
    "            print(\"Nobody recieves point\")\n",
    "            \n",
    "compareTriplets(a, b)"
   ]
  },
  {
   "cell_type": "code",
   "execution_count": 38,
   "metadata": {},
   "outputs": [
    {
     "data": {
      "text/plain": [
       "[2, 1]"
      ]
     },
     "execution_count": 38,
     "metadata": {},
     "output_type": "execute_result"
    }
   ],
   "source": [
    "\n",
    "a = [17, 28, 30]\n",
    "b = [99, 16, 8]\n",
    "\n",
    "def compareTriplets(a, b):\n",
    "    answer = []\n",
    "    alice_score = 0\n",
    "    bob_score = 0\n",
    "\n",
    "    for i in range (len(a)):\n",
    "        if a[i] > b[i]:\n",
    "            alice_score = alice_score + 1\n",
    "        \n",
    "        elif a[i] < b[i]:\n",
    "            bob_score = bob_score +1\n",
    "        elif a[i] == b[i]:\n",
    "            pass\n",
    "            \n",
    "\n",
    "    answer.append(alice_score)\n",
    "    answer.append(bob_score)\n",
    "    return answer\n",
    "  \n",
    "            \n",
    "compareTriplets(a, b)\n"
   ]
  },
  {
   "cell_type": "code",
   "execution_count": 41,
   "metadata": {},
   "outputs": [
    {
     "data": {
      "text/plain": [
       "5000000015"
      ]
     },
     "execution_count": 41,
     "metadata": {},
     "output_type": "execute_result"
    }
   ],
   "source": [
    "ar = [1000000001, 1000000002, 1000000003, 1000000004, 1000000005]\n",
    "\n",
    "def aVeryBigSum(ar):\n",
    "    long = 0\n",
    "    for i in ar:\n",
    "        long +=i\n",
    "    return long\n",
    "    \n",
    "aVeryBigSum(ar)\n"
   ]
  },
  {
   "cell_type": "code",
   "execution_count": 47,
   "metadata": {},
   "outputs": [
    {
     "data": {
      "text/plain": [
       "-2"
      ]
     },
     "execution_count": 47,
     "metadata": {},
     "output_type": "execute_result"
    }
   ],
   "source": [
    "arr = [1,2, 3]\n",
    "ar1 = [4,5, 6]\n",
    "ar2 = [9,8, 9]  \n",
    "\n",
    "def diagonaldifference(ar):\n",
    "    i = 0\n",
    "    d = arr[i] + ar1[i+1] + ar2[i+2]\n",
    "    d1 = arr[-1] + ar1[-2] + ar2[-3]\n",
    "    diagonalDifference = d - d1\n",
    "    return diagonalDifference\n",
    "\n",
    "diagonaldifference(ar)\n",
    "\n"
   ]
  },
  {
   "cell_type": "code",
   "execution_count": 11,
   "metadata": {},
   "outputs": [
    {
     "data": {
      "text/plain": [
       "15"
      ]
     },
     "execution_count": 11,
     "metadata": {},
     "output_type": "execute_result"
    }
   ],
   "source": [
    "# Diagonal difference\n",
    "arr = [\n",
    "    [11, 2, 4], \n",
    "    [4, 5, 6],\n",
    "    [10, 8, -12]\n",
    "      ]\n",
    "def diagonalDiff(arr):\n",
    "    l = 0\n",
    "    r = 0\n",
    "    for i in range(len(arr)):\n",
    "        l += arr[i][i]\n",
    "        r += arr [i][-i-1]\n",
    "        absolute_return = l - r\n",
    "    return abs(absolute_return)\n",
    "\n",
    "diagonalDiff(arr) "
   ]
  },
  {
   "cell_type": "code",
   "execution_count": 14,
   "metadata": {},
   "outputs": [
    {
     "data": {
      "text/plain": [
       "15"
      ]
     },
     "execution_count": 14,
     "metadata": {},
     "output_type": "execute_result"
    }
   ],
   "source": []
  },
  {
   "cell_type": "code",
   "execution_count": 36,
   "metadata": {},
   "outputs": [
    {
     "name": "stdout",
     "output_type": "stream",
     "text": [
      "Area of the rectangle: 50\n"
     ]
    }
   ],
   "source": [
    "class rectangle:\n",
    "    def __init__(self,length, width):\n",
    "        self.length = length\n",
    "        self.width = width\n",
    "\n",
    "    def calculate_area(self):\n",
    "        area = self.length * self.width\n",
    "        print(f\"Area of the rectangle: {area}\")\n",
    "\n",
    "r = rectangle(10,5)\n",
    "r.calculate_area()"
   ]
  },
  {
   "cell_type": "code",
   "execution_count": 32,
   "metadata": {},
   "outputs": [
    {
     "name": "stdout",
     "output_type": "stream",
     "text": [
      " 0.500000\n",
      " 0.333333\n",
      " 0.166667\n"
     ]
    }
   ],
   "source": [
    "# Print the ratios of positive, negative and zero values in the array.\n",
    "#  Each value should be printed on a separate line with  digits after the decimal. \n",
    "# The function should not return a value.\n",
    "arr = [-4,3,-9,0,4,1]\n",
    "l = len(arr)\n",
    "positive_count = 0\n",
    "negative_count = 0\n",
    "zero_count = 0\n",
    "for i in arr:\n",
    "    if i > 0:\n",
    "        positive_count +=1\n",
    "    elif i < 0:\n",
    "        negative_count +=1\n",
    "    else:\n",
    "        zero_count +=1\n",
    "\n",
    "positive_ratio = positive_count / l\n",
    "negative_ratio = negative_count / l\n",
    "zero_ratio = zero_count / l\n",
    "\n",
    "print(f\"{positive_ratio: .6f}\")\n",
    "print(f\"{negative_ratio: .6f}\")\n",
    "print(f\"{zero_ratio: .6f}\")\n",
    "\n",
    "\n",
    "\n"
   ]
  }
 ],
 "metadata": {
  "kernelspec": {
   "display_name": "Python 3",
   "language": "python",
   "name": "python3"
  },
  "language_info": {
   "codemirror_mode": {
    "name": "ipython",
    "version": 3
   },
   "file_extension": ".py",
   "mimetype": "text/x-python",
   "name": "python",
   "nbconvert_exporter": "python",
   "pygments_lexer": "ipython3",
   "version": "3.12.5"
  }
 },
 "nbformat": 4,
 "nbformat_minor": 2
}
