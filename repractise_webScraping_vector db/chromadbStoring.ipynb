{
 "cells": [
  {
   "cell_type": "code",
   "execution_count": 45,
   "metadata": {},
   "outputs": [
    {
     "name": "stdout",
     "output_type": "stream",
     "text": [
      "Requirement already satisfied: langchain_text_splitters in /Library/Frameworks/Python.framework/Versions/3.12/lib/python3.12/site-packages (0.3.4)\n",
      "Requirement already satisfied: langchain-core<0.4.0,>=0.3.26 in /Library/Frameworks/Python.framework/Versions/3.12/lib/python3.12/site-packages (from langchain_text_splitters) (0.3.28)\n",
      "Requirement already satisfied: PyYAML>=5.3 in /Library/Frameworks/Python.framework/Versions/3.12/lib/python3.12/site-packages (from langchain-core<0.4.0,>=0.3.26->langchain_text_splitters) (6.0.2)\n",
      "Requirement already satisfied: jsonpatch<2.0,>=1.33 in /Library/Frameworks/Python.framework/Versions/3.12/lib/python3.12/site-packages (from langchain-core<0.4.0,>=0.3.26->langchain_text_splitters) (1.33)\n",
      "Requirement already satisfied: langsmith<0.3,>=0.1.125 in /Library/Frameworks/Python.framework/Versions/3.12/lib/python3.12/site-packages (from langchain-core<0.4.0,>=0.3.26->langchain_text_splitters) (0.1.142)\n",
      "Requirement already satisfied: packaging<25,>=23.2 in /Users/kowsalyasitharthaun/Library/Python/3.12/lib/python/site-packages (from langchain-core<0.4.0,>=0.3.26->langchain_text_splitters) (24.1)\n",
      "Requirement already satisfied: pydantic<3.0.0,>=2.7.4 in /Library/Frameworks/Python.framework/Versions/3.12/lib/python3.12/site-packages (from langchain-core<0.4.0,>=0.3.26->langchain_text_splitters) (2.9.2)\n",
      "Requirement already satisfied: tenacity!=8.4.0,<10.0.0,>=8.1.0 in /Library/Frameworks/Python.framework/Versions/3.12/lib/python3.12/site-packages (from langchain-core<0.4.0,>=0.3.26->langchain_text_splitters) (9.0.0)\n",
      "Requirement already satisfied: typing-extensions>=4.7 in /Library/Frameworks/Python.framework/Versions/3.12/lib/python3.12/site-packages (from langchain-core<0.4.0,>=0.3.26->langchain_text_splitters) (4.12.2)\n",
      "Requirement already satisfied: jsonpointer>=1.9 in /Library/Frameworks/Python.framework/Versions/3.12/lib/python3.12/site-packages (from jsonpatch<2.0,>=1.33->langchain-core<0.4.0,>=0.3.26->langchain_text_splitters) (3.0.0)\n",
      "Requirement already satisfied: httpx<1,>=0.23.0 in /Library/Frameworks/Python.framework/Versions/3.12/lib/python3.12/site-packages (from langsmith<0.3,>=0.1.125->langchain-core<0.4.0,>=0.3.26->langchain_text_splitters) (0.27.2)\n",
      "Requirement already satisfied: orjson<4.0.0,>=3.9.14 in /Library/Frameworks/Python.framework/Versions/3.12/lib/python3.12/site-packages (from langsmith<0.3,>=0.1.125->langchain-core<0.4.0,>=0.3.26->langchain_text_splitters) (3.10.11)\n",
      "Requirement already satisfied: requests<3,>=2 in /Library/Frameworks/Python.framework/Versions/3.12/lib/python3.12/site-packages (from langsmith<0.3,>=0.1.125->langchain-core<0.4.0,>=0.3.26->langchain_text_splitters) (2.32.3)\n",
      "Requirement already satisfied: requests-toolbelt<2.0.0,>=1.0.0 in /Library/Frameworks/Python.framework/Versions/3.12/lib/python3.12/site-packages (from langsmith<0.3,>=0.1.125->langchain-core<0.4.0,>=0.3.26->langchain_text_splitters) (1.0.0)\n",
      "Requirement already satisfied: annotated-types>=0.6.0 in /Library/Frameworks/Python.framework/Versions/3.12/lib/python3.12/site-packages (from pydantic<3.0.0,>=2.7.4->langchain-core<0.4.0,>=0.3.26->langchain_text_splitters) (0.7.0)\n",
      "Requirement already satisfied: pydantic-core==2.23.4 in /Library/Frameworks/Python.framework/Versions/3.12/lib/python3.12/site-packages (from pydantic<3.0.0,>=2.7.4->langchain-core<0.4.0,>=0.3.26->langchain_text_splitters) (2.23.4)\n",
      "Requirement already satisfied: anyio in /Library/Frameworks/Python.framework/Versions/3.12/lib/python3.12/site-packages (from httpx<1,>=0.23.0->langsmith<0.3,>=0.1.125->langchain-core<0.4.0,>=0.3.26->langchain_text_splitters) (4.6.2.post1)\n",
      "Requirement already satisfied: certifi in /Library/Frameworks/Python.framework/Versions/3.12/lib/python3.12/site-packages (from httpx<1,>=0.23.0->langsmith<0.3,>=0.1.125->langchain-core<0.4.0,>=0.3.26->langchain_text_splitters) (2024.8.30)\n",
      "Requirement already satisfied: httpcore==1.* in /Library/Frameworks/Python.framework/Versions/3.12/lib/python3.12/site-packages (from httpx<1,>=0.23.0->langsmith<0.3,>=0.1.125->langchain-core<0.4.0,>=0.3.26->langchain_text_splitters) (1.0.6)\n",
      "Requirement already satisfied: idna in /Library/Frameworks/Python.framework/Versions/3.12/lib/python3.12/site-packages (from httpx<1,>=0.23.0->langsmith<0.3,>=0.1.125->langchain-core<0.4.0,>=0.3.26->langchain_text_splitters) (3.10)\n",
      "Requirement already satisfied: sniffio in /Library/Frameworks/Python.framework/Versions/3.12/lib/python3.12/site-packages (from httpx<1,>=0.23.0->langsmith<0.3,>=0.1.125->langchain-core<0.4.0,>=0.3.26->langchain_text_splitters) (1.3.1)\n",
      "Requirement already satisfied: h11<0.15,>=0.13 in /Library/Frameworks/Python.framework/Versions/3.12/lib/python3.12/site-packages (from httpcore==1.*->httpx<1,>=0.23.0->langsmith<0.3,>=0.1.125->langchain-core<0.4.0,>=0.3.26->langchain_text_splitters) (0.14.0)\n",
      "Requirement already satisfied: charset-normalizer<4,>=2 in /Library/Frameworks/Python.framework/Versions/3.12/lib/python3.12/site-packages (from requests<3,>=2->langsmith<0.3,>=0.1.125->langchain-core<0.4.0,>=0.3.26->langchain_text_splitters) (3.4.0)\n",
      "Requirement already satisfied: urllib3<3,>=1.21.1 in /Library/Frameworks/Python.framework/Versions/3.12/lib/python3.12/site-packages (from requests<3,>=2->langsmith<0.3,>=0.1.125->langchain-core<0.4.0,>=0.3.26->langchain_text_splitters) (2.2.3)\n",
      "Note: you may need to restart the kernel to use updated packages.\n"
     ]
    }
   ],
   "source": [
    "#langchain_text_splitter sentence_transformers psycopg2\n",
    "%pip install langchain_text_splitters "
   ]
  },
  {
   "cell_type": "code",
   "execution_count": 46,
   "metadata": {},
   "outputs": [
    {
     "name": "stdout",
     "output_type": "stream",
     "text": [
      "Requirement already satisfied: sentence-transformers in /Library/Frameworks/Python.framework/Versions/3.12/lib/python3.12/site-packages (3.3.1)\n",
      "Requirement already satisfied: transformers<5.0.0,>=4.41.0 in /Library/Frameworks/Python.framework/Versions/3.12/lib/python3.12/site-packages (from sentence-transformers) (4.46.2)\n",
      "Requirement already satisfied: tqdm in /Library/Frameworks/Python.framework/Versions/3.12/lib/python3.12/site-packages (from sentence-transformers) (4.67.0)\n",
      "Requirement already satisfied: torch>=1.11.0 in /Library/Frameworks/Python.framework/Versions/3.12/lib/python3.12/site-packages (from sentence-transformers) (2.2.2)\n",
      "Requirement already satisfied: scikit-learn in /Library/Frameworks/Python.framework/Versions/3.12/lib/python3.12/site-packages (from sentence-transformers) (1.5.2)\n",
      "Requirement already satisfied: scipy in /Library/Frameworks/Python.framework/Versions/3.12/lib/python3.12/site-packages (from sentence-transformers) (1.13.1)\n",
      "Requirement already satisfied: huggingface-hub>=0.20.0 in /Library/Frameworks/Python.framework/Versions/3.12/lib/python3.12/site-packages (from sentence-transformers) (0.26.2)\n",
      "Requirement already satisfied: Pillow in /Library/Frameworks/Python.framework/Versions/3.12/lib/python3.12/site-packages (from sentence-transformers) (10.4.0)\n",
      "Requirement already satisfied: filelock in /Library/Frameworks/Python.framework/Versions/3.12/lib/python3.12/site-packages (from huggingface-hub>=0.20.0->sentence-transformers) (3.16.1)\n",
      "Requirement already satisfied: fsspec>=2023.5.0 in /Library/Frameworks/Python.framework/Versions/3.12/lib/python3.12/site-packages (from huggingface-hub>=0.20.0->sentence-transformers) (2024.9.0)\n",
      "Requirement already satisfied: packaging>=20.9 in /Users/kowsalyasitharthaun/Library/Python/3.12/lib/python/site-packages (from huggingface-hub>=0.20.0->sentence-transformers) (24.1)\n",
      "Requirement already satisfied: pyyaml>=5.1 in /Library/Frameworks/Python.framework/Versions/3.12/lib/python3.12/site-packages (from huggingface-hub>=0.20.0->sentence-transformers) (6.0.2)\n",
      "Requirement already satisfied: requests in /Library/Frameworks/Python.framework/Versions/3.12/lib/python3.12/site-packages (from huggingface-hub>=0.20.0->sentence-transformers) (2.32.3)\n",
      "Requirement already satisfied: typing-extensions>=3.7.4.3 in /Library/Frameworks/Python.framework/Versions/3.12/lib/python3.12/site-packages (from huggingface-hub>=0.20.0->sentence-transformers) (4.12.2)\n",
      "Requirement already satisfied: sympy in /Library/Frameworks/Python.framework/Versions/3.12/lib/python3.12/site-packages (from torch>=1.11.0->sentence-transformers) (1.13.3)\n",
      "Requirement already satisfied: networkx in /Library/Frameworks/Python.framework/Versions/3.12/lib/python3.12/site-packages (from torch>=1.11.0->sentence-transformers) (3.4.2)\n",
      "Requirement already satisfied: jinja2 in /Library/Frameworks/Python.framework/Versions/3.12/lib/python3.12/site-packages (from torch>=1.11.0->sentence-transformers) (3.1.4)\n",
      "Requirement already satisfied: numpy>=1.17 in /Library/Frameworks/Python.framework/Versions/3.12/lib/python3.12/site-packages (from transformers<5.0.0,>=4.41.0->sentence-transformers) (1.26.4)\n",
      "Requirement already satisfied: regex!=2019.12.17 in /Library/Frameworks/Python.framework/Versions/3.12/lib/python3.12/site-packages (from transformers<5.0.0,>=4.41.0->sentence-transformers) (2024.11.6)\n",
      "Requirement already satisfied: safetensors>=0.4.1 in /Library/Frameworks/Python.framework/Versions/3.12/lib/python3.12/site-packages (from transformers<5.0.0,>=4.41.0->sentence-transformers) (0.4.5)\n",
      "Requirement already satisfied: tokenizers<0.21,>=0.20 in /Library/Frameworks/Python.framework/Versions/3.12/lib/python3.12/site-packages (from transformers<5.0.0,>=4.41.0->sentence-transformers) (0.20.3)\n",
      "Requirement already satisfied: joblib>=1.2.0 in /Library/Frameworks/Python.framework/Versions/3.12/lib/python3.12/site-packages (from scikit-learn->sentence-transformers) (1.4.2)\n",
      "Requirement already satisfied: threadpoolctl>=3.1.0 in /Library/Frameworks/Python.framework/Versions/3.12/lib/python3.12/site-packages (from scikit-learn->sentence-transformers) (3.5.0)\n",
      "Requirement already satisfied: MarkupSafe>=2.0 in /Library/Frameworks/Python.framework/Versions/3.12/lib/python3.12/site-packages (from jinja2->torch>=1.11.0->sentence-transformers) (3.0.2)\n",
      "Requirement already satisfied: charset-normalizer<4,>=2 in /Library/Frameworks/Python.framework/Versions/3.12/lib/python3.12/site-packages (from requests->huggingface-hub>=0.20.0->sentence-transformers) (3.4.0)\n",
      "Requirement already satisfied: idna<4,>=2.5 in /Library/Frameworks/Python.framework/Versions/3.12/lib/python3.12/site-packages (from requests->huggingface-hub>=0.20.0->sentence-transformers) (3.10)\n",
      "Requirement already satisfied: urllib3<3,>=1.21.1 in /Library/Frameworks/Python.framework/Versions/3.12/lib/python3.12/site-packages (from requests->huggingface-hub>=0.20.0->sentence-transformers) (2.2.3)\n",
      "Requirement already satisfied: certifi>=2017.4.17 in /Library/Frameworks/Python.framework/Versions/3.12/lib/python3.12/site-packages (from requests->huggingface-hub>=0.20.0->sentence-transformers) (2024.8.30)\n",
      "Requirement already satisfied: mpmath<1.4,>=1.1.0 in /Library/Frameworks/Python.framework/Versions/3.12/lib/python3.12/site-packages (from sympy->torch>=1.11.0->sentence-transformers) (1.3.0)\n",
      "Note: you may need to restart the kernel to use updated packages.\n"
     ]
    }
   ],
   "source": [
    "%pip install -U sentence-transformers"
   ]
  },
  {
   "cell_type": "code",
   "execution_count": 47,
   "metadata": {},
   "outputs": [],
   "source": [
    "from langchain_text_splitters import RecursiveCharacterTextSplitter"
   ]
  },
  {
   "cell_type": "code",
   "execution_count": 48,
   "metadata": {},
   "outputs": [
    {
     "data": {
      "text/plain": [
       "'\\nGenerative artificial intelligence (generative AI, GenAI,[1] or GAI) is a subset of artificial intelligence that uses generative models to produce text, images, videos, or other forms of data.[2][3][4] These models learn the underlying patterns and structures of their training data and use them to produce new data[5][6] based on the input, which often comes in the form of natural language prompts.[7][8]\\nImprovements in transformer-based deep neural networks, particularly large language models (LLMs), enabled an AI boom of generative AI systems in the early 2020s. These include chatbots such as ChatGPT, Copilot, Gemini, and LLaMA; text-to-image artificial intelligence image generation systems such as Stable Diffusion, Midjourney, and DALL-E; and text-to-video AI generators such as Sora.[9][10][11][12] Companies such as OpenAI, Anthropic, Microsoft, Google, and Baidu as well as numerous smaller firms have developed generative AI models.[7][13][14]\\nGenerative AI has uses across a wide range of industries, including software development, healthcare, finance, entertainment, customer service,[15] sales and marketing,[16] art, writing,[17] fashion,[18] and product design.[19] However, concerns have been raised about the potential misuse of generative AI such as cybercrime, the use of fake news or deepfakes to deceive or manipulate people, and the mass replacement of human jobs.[20][21] Intellectual property law concerns also exist around generative models that are trained on and emulate copyrighted works of art.[22]\\nSince its inception, researchers in the field have raised philosophical and ethical arguments about the nature of the human mind and the consequences of creating artificial beings with human-like intelligence; these issues have previously been explored by myth, fiction and philosophy since antiquity.[23] The concept of automated art dates back at least to the automata of ancient Greek civilization, where inventors such as Daedalus and Hero of Alexandria were described as having designed machines capable of writing text, generating sounds, and playing music.[24][25] The tradition of creative automations has flourished throughout history, exemplified by Maillardet\\'s automaton created in the early 1800s.[26] Markov chains have long been used to model natural languages since their development by Russian mathematician Andrey Markov in the early 20th century. Markov published his first paper on the topic in 1906,[27][28] and analyzed the pattern of vowels and consonants in the novel Eugeny Onegin using Markov chains. Once a Markov chain is learned on a text corpus, it can then be used as a probabilistic text generator.[29][30]\\nThe academic discipline of artificial intelligence was established at a research workshop held at Dartmouth College in 1956 and has experienced several waves of advancement and optimism in the decades since.[31] Artificial Intelligence research began in the 1950s with works like Computing Machinery and Intelligence (1950) and the 1956 Dartmouth Summer Research Project on AI. Since the 1950s, artists and researchers have used artificial intelligence to create artistic works. By the early 1970s, Harold Cohen was creating and exhibiting generative AI works created by AARON, the computer program Cohen created to generate paintings.[32]\\nThe terms generative AI planning or generative planning were used in the 1980s and 1990s to refer to AI planning systems, especially computer-aided process planning, used to generate sequences of actions to reach a specified goal.[33][34] Generative AI planning systems used symbolic AI methods such as state space search and constraint satisfaction and were a \"relatively mature\" technology by the early 1990s. They were used to generate crisis action plans for military use,[35] process plans for manufacturing[33] and decision plans such as in prototype autonomous spacecraft.[36]\\nSince its inception, the field of machine learning used both discriminative models and generative models, to model and predict data. Beginning in the late 2000s, the emergence of deep learning drove progress and research in image classification, speech recognition, natural language processing and other tasks. Neural networks in this era were typically trained as discriminative models, due to the difficulty of generative modeling.[37]\\nIn 2014, advancements such as the variational autoencoder and generative adversarial network produced the first practical deep neural networks capable of learning generative models, as opposed to discriminative ones, for complex data such as images. These deep generative models were the first to output not only class labels for images but also entire images.\\nIn 2017, the Transformer network enabled advancements in generative models compared to older Long-Short Term Memory models,[38] leading to the first generative pre-trained transformer (GPT), known as GPT-1, in 2018.[39] This was followed in 2019 by GPT-2 which demonstrated the ability to generalize unsupervised to many different tasks as a Foundation model.[40]\\nThe new generative models introduced during this period allowed for large neural networks to be trained using unsupervised learning or semi-supervised learning, rather than the supervised learning typical of discriminative models. Unsupervised learning removed the need for humans to manually label data, allowing for larger networks to be trained.[41]\\nIn 2021, the release of DALL-E, a transformer-based pixel generative model, followed by Midjourney and Stable Diffusion marked the emergence of practical high-quality artificial intelligence art from natural language prompts.\\nIn 2022, the public release of ChatGPT popularized the use of generative AI for general-purpose text-based tasks.[42]\\nIn March 2023, GPT-4 was released. A team from Microsoft Research argued that \"it could reasonably be viewed as an early (yet still incomplete) version of an artificial general intelligence (AGI) system\".[43] Other scholars have disputed that GPT-4 reaches this threshold, calling generative AI \"still far from reaching the benchmark of ‘general human intelligence’\" as of 2023.[44] In 2023, Meta released an AI model called ImageBind which combines data from text, images, video, thermal data, 3D data, audio, and motion which is expected to allow for more immersive generative AI content.[45][46]\\nAccording to a survey by SAS and Coleman Parkes Research, China is leading the world in adopting generative AI, with 83% of Chinese respondents using the technology, surpassing the global average of 54% and the U.S. at 65%. A UN report revealed China filed over 38,000 GenAI patents from 2014 to 2023, far exceeding the U.S.[47]\\nA generative AI system is constructed by applying unsupervised machine learning (invoking  for instance neural network architectures such as GANs, VAE, Transformer, ...)  or self-supervised machine learning to a data set. The capabilities of a generative AI system depend on the modality or type of the data set used.\\nGenerative AI can be either unimodal or multimodal; unimodal systems take only one type of input, whereas multimodal systems can take more than one type of input.[48] For example, one version of OpenAI\\'s GPT-4 accepts both text and image inputs.[49]\\nGenerative AI systems trained on words or word tokens include GPT-3, GPT-4, GPT-4o, LaMDA, LLaMA, BLOOM, Gemini and others (see List of large language models). They are capable of natural language processing, machine translation, and natural language generation and can be used as foundation models for other tasks.[51] Data sets include BookCorpus, Wikipedia, and others (see List of text corpora).\\nIn addition to natural language text, large language models can be trained on programming language text, allowing them to generate source code for new computer programs.[52] Examples include OpenAI Codex.\\nProducing high-quality visual art is a prominent application of generative AI.[53] Generative AI systems trained on sets of images with text captions include Imagen, DALL-E, Midjourney, Adobe Firefly, FLUX.1, Stable Diffusion and others (see Artificial intelligence art, Generative art, and Synthetic media). They are commonly used for text-to-image generation and neural style transfer.[54] Datasets include LAION-5B and others (see List of datasets in computer vision and image processing).\\n\\nGenerative AI can also be trained extensively on audio clips to produce natural-sounding speech synthesis and text-to-speech capabilities, exemplified by ElevenLabs\\' context-aware synthesis tools or Meta Platform\\'s Voicebox.[55]Generative AI systems such as MusicLM[56] and MusicGen[57] can also be trained on the audio waveforms of recorded music along with text annotations, in order to generate new musical samples based on text descriptions such as a calming violin melody backed by a distorted guitar riff.\\nAudio deepfakes of lyrics have been generated, like the song Savages, which used AI to mimic rapper Jay-Z\\'s vocals. Music artist\\'s instrumentals and lyrics are copyrighted but their voices aren\\'t protected from regenerative AI yet, raising a debate about whether artists should get royalties from audio deepfakes.[58]\\nMany AI music generators have been created that can be generated using a text phrase, genre options, and looped libraries of bars and riffs.[59]\\nGenerative AI trained on annotated video can generate temporally-coherent, detailed and photorealistic video clips. Examples include Sora by OpenAI,[12] Gen-1 and Gen-2 by Runway,[60] and Make-A-Video by Meta Platforms.[61]\\nGenerative AI can also be trained on the motions of a robotic system to generate new trajectories for motion planning or navigation. For example, UniPi from Google Research uses prompts like \"pick up blue bowl\" or \"wipe plate with yellow sponge\" to control movements of a robot arm.[62] Multimodal \"vision-language-action\" models such as Google\\'s RT-2 can perform rudimentary reasoning in response to user prompts and visual input, such as picking up a toy dinosaur when given the prompt pick up the extinct animal at a table filled with toy animals and other objects.[63]\\nArtificially intelligent computer-aided design (CAD) can use text-to-3D, image-to-3D, and video-to-3D to automate 3D modeling.[64] AI-based CAD libraries could also be developed using linked open data of schematics and diagrams.[65] AI CAD assistants are used as tools to help streamline workflow.[66]\\nGenerative AI models are used to power chatbot products such as ChatGPT, programming tools such as GitHub Copilot,[67] text-to-image products such as Midjourney, and text-to-video products such as Runway Gen-2.[68] Generative AI features have been integrated into a variety of existing commercially available products such as Microsoft Office (Microsoft Copilot),[69] Google Photos,[70] and the Adobe Suite (Adobe Firefly).[71] Many generative AI models are also available as open-source software, including Stable Diffusion and the LLaMA[72] language model.\\nSmaller generative AI models with up to a few billion parameters can run on smartphones, embedded devices, and personal computers. For example, LLaMA-7B (a version with 7 billion parameters) can run on a Raspberry Pi 4[73] and one version of Stable Diffusion can run on an iPhone 11.[74]\\nLarger models with tens of billions of parameters can run on laptop or desktop computers. To achieve an acceptable speed, models of this size may require accelerators such as the GPU chips produced by NVIDIA and AMD or the Neural Engine included in Apple silicon products. For example, the 65 billion parameter version of LLaMA can be configured to run on a desktop PC.[75]\\nThe advantages of running generative AI locally include protection of privacy and intellectual property, and avoidance of rate limiting and censorship. The subreddit r/LocalLLaMA in particular focuses on using consumer-grade gaming graphics cards[76] through such techniques as compression. That forum is one of only two sources Andrej Karpathy trusts for language model benchmarks.[77] Yann LeCun has advocated open-source models for their value to vertical applications[78] and for improving AI safety.[79]\\nLanguage models with hundreds of billions of parameters, such as GPT-4 or PaLM, typically run on datacenter computers equipped with arrays of GPUs (such as NVIDIA\\'s H100) or AI accelerator chips (such as Google\\'s TPU). These very large models are typically accessed as cloud services over the Internet.\\nIn 2022, the United States New Export Controls on Advanced Computing and Semiconductors to China imposed restrictions on exports to China of GPU and AI accelerator chips used for generative AI.[80] Chips such as the NVIDIA A800[81] and the Biren Technology BR104[82] were developed to meet the requirements of the sanctions.\\nThere is free software on the market capable of recognizing text generated by generative artificial intelligence (such as GPTZero), as well as images, audio or video coming from it.[83] Potential mitigation strategies for detecting generative AI content include digital watermarking, content authentication, information retrieval, and machine learning classifier models.[84] Despite claims of accuracy, both free and paid AI text detectors have frequently produced false positives, mistakenly accusing students of submitting AI-generated work.[85][86]\\nIn the United States, a group of companies including OpenAI, Alphabet, and Meta signed a voluntary agreement with the Biden administration in July 2023 to watermark AI-generated content.[87] In October 2023, Executive Order 14110 applied the Defense Production Act to require all US companies to report information to the federal government when training certain high-impact AI models.[88][89]\\nIn the European Union, the proposed Artificial Intelligence Act includes requirements to disclose copyrighted material used to train generative AI systems, and to label any AI-generated output as such.[90][91]\\nIn China, the Interim Measures for the Management of Generative AI Services introduced by the Cyberspace Administration of China regulates any public-facing generative AI. It includes requirements to watermark generated images or videos, regulations on training data and label quality, restrictions on personal data collection, and a guideline that generative AI must \"adhere to socialist core values\".[92][93]\\nGenerative AI systems such as ChatGPT and Midjourney are trained on large, publicly available datasets that include copyrighted works. AI developers have argued that such training is protected under fair use, while copyright holders have argued that it infringes their rights.[94]\\nProponents of fair use training have argued that it is a transformative use and does not involve making copies of copyrighted works available to the public.[94] Critics have argued that image generators such as Midjourney can create nearly-identical copies of some copyrighted images,[95] and that generative AI programs compete with the content they are trained on.[96]\\nAs of 2024, several lawsuits related to the use of copyrighted material in training are ongoing.\\nGetty Images has sued Stability AI over the use of its images to train Stable diffusion.[97] Both the Authors Guild and The New York Times have sued Microsoft and OpenAI over the use of their works to train ChatGPT.[98][99]\\nA separate question is whether AI-generated works can qualify for copyright protection. The United States Copyright Office has ruled that works created by artificial intelligence without any human input cannot be copyrighted, because they lack human authorship.[100] However, the office has also begun taking public input to determine if these rules need to be refined for generative AI.[101]\\nThe development of generative AI has raised concerns from governments, businesses, and individuals, resulting in protests, legal actions, calls to pause AI experiments, and actions by multiple governments. In a July 2023 briefing of the United Nations Security Council, Secretary-General António Guterres stated \"Generative AI has enormous potential for good and evil at scale\", that AI may \"turbocharge global development\" and contribute between $10 and $15 trillion to the global economy by 2030, but that its malicious use \"could cause horrific levels of death and destruction, widespread trauma, and deep psychological damage on an unimaginable scale\".[102]\\nFrom the early days of the development of AI, there have been arguments put forward by ELIZA creator Joseph Weizenbaum and others about whether tasks that can be done by computers actually should be done by them, given the difference between computers and humans, and between quantitative calculations and qualitative, value-based judgements.[104] In April 2023, it was reported that image generation AI has resulted in 70% of the jobs for video game illustrators in China being lost.[105][106] In July 2023, developments in generative AI contributed to the 2023 Hollywood labor disputes. Fran Drescher, president of the Screen Actors Guild, declared that \"artificial intelligence poses an existential threat to creative professions\" during the 2023 SAG-AFTRA strike.[107] Voice generation AI has been seen as a potential challenge to the voice acting sector.[108][109]\\nThe intersection of AI and employment concerns among underrepresented groups globally remains a critical facet. While AI promises efficiency enhancements and skill acquisition, concerns about job displacement and biased recruiting processes persist among these groups, as outlined in surveys by Fast Company. To leverage AI for a more equitable society, proactive steps encompass mitigating biases, advocating transparency, respecting privacy and consent, and embracing diverse teams and ethical considerations. Strategies involve redirecting policy emphasis on regulation, inclusive design, and education\\'s potential for personalized teaching to maximize benefits while minimizing harms.[110]\\nGenerative AI models can reflect and amplify any cultural bias present in the underlying data. For example, a language model might assume that doctors and judges are male, and that secretaries or nurses are female, if those biases are common in the training data.[111] Similarly, an image model prompted with the text \"a photo of a CEO\" might disproportionately generate images of white male CEOs,[112] if trained on a racially biased data set. A number of methods for mitigating bias have been attempted, such as altering input prompts[113] and reweighting training data.[114]\\nDeepfakes (a portmanteau of \"deep learning\" and \"fake\"[115]) are AI-generated media that take a person in an existing image or video and replace them with someone else\\'s likeness using artificial neural networks.[116] Deepfakes have garnered widespread attention and concerns for their uses in deepfake celebrity pornographic videos, revenge porn, fake news, hoaxes, health disinformation, financial fraud, and covert foreign election interference.[117][118][119][120][121][122][123] This has elicited responses from both industry and government to detect and limit their use.[124][125]\\nIn July 2023, the fact-checking company Logically found that the popular generative AI models Midjourney, DALL-E 2 and Stable Diffusion would produce plausible disinformation images when prompted to do so, such as images of electoral fraud in the United States and Muslim women supporting India\\'s Hindu nationalist Bharatiya Janata Party.[126][127]\\nIn April 2024, a paper proposed to use blockchain (distributed ledger technology) to promote \"transparency, verifiability, and decentralization in AI development and usage\".[128]\\nInstances of users abusing software to generate controversial statements in the vocal style of celebrities, public officials, and other famous individuals have raised ethical concerns over voice generation AI.[129][130][131][132][133][134] In response, companies such as ElevenLabs have stated that they would work on mitigating potential abuse through safeguards and identity verification.[135]\\nConcerns and fandom have spawned from AI-generated music. The same software used to clone voices has been used on famous musicians\\' voices to create songs that mimic their voices, gaining both tremendous popularity and criticism.[136][137][138] Similar techniques have also been used to create improved quality or full-length versions of songs that have been leaked or have yet to be released.[139]\\nGenerative AI has also been used to create new digital artist personalities, with some of these receiving enough attention to receive record deals at major labels.[140] The developers of these virtual artists have also faced their fair share of criticism for their personified programs, including backlash for \"dehumanizing\" an artform, and also creating artists which create unrealistic or immoral appeals to their audiences.[141]\\nGenerative AI\\'s ability to create realistic fake content has been exploited in numerous types of cybercrime, including phishing scams.[142] Deepfake video and audio have been used to create disinformation and fraud. Former Google fraud czar Shuman Ghosemajumder has predicted that while deepfake videos initially created a stir in the media, they would soon become commonplace, and as a result, more dangerous.[143] Additionally, large-language models and other forms of text-generation AI have been at a broad scale to create fake reviews on e-commerce websites to boost ratings.[144] Cybercriminals have created large language models focused on fraud, including WormGPT and FraudGPT.[145]\\nRecent research done in 2023 has revealed that generative AI has weaknesses that can be manipulated by criminals to extract harmful information bypassing ethical safeguards. The study presents example attacks done on ChatGPT including Jailbreaks and reverse psychology. Additionally, malicious individuals can use ChatGPT for social engineering attacks and phishing attacks, revealing the harmful side of these technologies.[146]\\nTraining frontier AI models requires an enormous amount of computing power. Usually only Big Tech companies have the financial resources to make such investments. Smaller start-ups such as Cohere and OpenAI end up buying access to data centers from Google and Microsoft respectively.[147]\\nScientists and journalists have expressed concerns about the environmental impact that the development and deployment of generative models are having: high CO2 emissions,[148][149][150] large amounts of freshwater used for data centers,[151][152] and high amounts of electricity usage.[153][149][154] There is also concern that these impacts may increase as these models are incorporated into widely used search engines such as Google Search and Bing;[153] as chatbots and other applications become more popular;[153][152] and as models need to be retrained.[153]\\nProposed mitigation strategies include factoring potential environmental costs prior to model development or data collection,[148] increasing efficiency of data centers to reduce electricity/energy usage,[151][153][149][152][154][150] building more efficient machine learning models,[151][149][152] minimizing the number of times that models need to be retrained,[150] developing a government-directed framework for auditing the environmental impact of these models,[151][150] regulating for transparency of these models,[150] regulating their energy and water usage,[151] encouraging researchers to publish data on their models\\' carbon footprint,[153][150] and increasing the number of subject matter experts who understand both machine learning and climate science.[150]\\nThe New York Times defines slop as analogous to spam: \"shoddy or unwanted A.I. content in social media, art, books and ... in search results.\"[155] Journalists have expressed concerns about the scale of low-quality generated content with respect to social media content moderation,[156] the monetary incentives from social media companies to spread such content,[156][157] false political messaging,[157] spamming of scientific research paper submissions,[158] increased time and effort to find higher quality or desired content on the Internet,[159] the indexing of generated content by search engines,[160] and on journalism itself.[161]\\nA paper published by researchers at Amazon Web Services AI Labs found that over 57% of sentences from a sample of over 6 billion sentences from Common Crawl, a snapshot of web pages, were machine translated. Many of these automated translations were seen as lower quality, especially for sentences were translated across at least three languages. Many lower-resource languages (ex. Wolof, Xhosa) were translated across more languages than higher-resource languages (ex. English, French).[162][163]\\nIn September 2024, Robyn Speer, the author of wordfreq, an open source database that calculated word frequencies based on text from the Internet, announced that she had stopped updating the data for several reasons: high costs for obtaining data from Reddit and Twitter, excessive focus on generative AI compared to other methods in the natural language processing community, and that \"generative AI has polluted the data\".[164]\\nThe adoption of generative AI tools led to an explosion of AI-generated content across multiple domains. A study from University College London estimated that in 2023, more than 60,000 scholarly articles—over 1% of all publications—were likely written with LLM assistance.[165] According to Stanford University\\'s Institute for Human-Centered AI, approximately 17.5% of newly published computer science papers and 16.9% of peer review text now incorporate content generated by LLMs.[166]\\nVisual content follows a similar trend. Since the launch of DALL-E 2 in 2022, it’s estimated that an average of 34 million images have been created daily. As of August 2023, more than 15 billion images had been generated using text-to-image algorithms, with 80% of these created by models based on Stable Diffusion.[167]\\nIf AI-generated content is included in new data crawls from the Internet for additional training of AI models, defects in the resulting models may occur.[168] Training an AI model exclusively on the output of another AI model produces a lower-quality model. Repeating this process, where each new model is trained on the previous model\\'s output, leads to progressive degradation and eventually results in a \"model collapse\" after multiple iterations.[169] Tests have been conducted with pattern recognition of handwritten letters and with pictures of human faces.[170] As a consequence, the value of data collected from genuine human interactions with systems may become increasingly valuable in the presence of LLM-generated content in data crawled from the Internet.\\nOn the other side, synthetic data is often used as an alternative to data produced by real-world events. Such data can be deployed to validate mathematical models and to train machine learning models while preserving user privacy,[171] including for structured data.[172] The approach is not limited to text generation; image generation has been employed to train computer vision models.[173]\\nIn January 2023, Futurism.com broke the story that CNET had been using an undisclosed internal AI tool to write at least 77 of its stories; after the news broke, CNET posted corrections to 41 of the stories.[174]\\nIn April 2023, the German tabloid Die Aktuelle published a fake AI-generated interview with former racing driver Michael Schumacher, who had not made any public appearances since 2013 after sustaining a brain injury in a skiing accident. The story included two possible disclosures: the cover included the line \"deceptively real\", and the interview included an acknowledgment at the end that it was AI-generated. The editor-in-chief was fired shortly thereafter amid the controversy.[175]\\nOther outlets that have published articles whose content and/or byline have been confirmed or suspected to be created by generative AI models – often with false content, errors, and/or non-disclosure of generative AI use - include:\\nIn May 2024, Futurism noted that a content management system video by AdVon Commerce, who had used generative AI to produce articles for many of the aforementioned outlets, appeared to show that they \"had produced tens of thousands of articles for more than 150 publishers.\"[184]\\nNews broadcasters in Kuwait, Greece, South Korea, India, China and Taiwan have presented news with anchors based on Generative AI models, prompting concerns about job losses for human anchors and audience trust in news that has historically been influenced by parasocial relationships with broadcasters, content creators or social media influencers.[201][202][203] Algorithmically-generated anchors have also been used by allies of ISIS for their broadcasts.[204]\\nIn 2023, Google reportedly pitched a tool to news outlets that claimed to \"produce news stories\" based on input data provided, such as \"details of current events\". Some news company executives who viewed the pitch described it as \"[taking] for granted the effort that went into producing accurate and artful news stories.\"[205]\\nIn February 2024, Google launched a program to pay small publishers to write three articles per day using a beta generative AI model. The program does not require the knowledge or consent of the websites that the publishers are using as sources, nor does it require the published articles to be labeled as being created or assisted by these models.[206]\\nMany defunct news sites (The Hairpin, The Frisky, Apple Daily, Ashland Daily Tidings, Clayton County Register, Southwest Journal) and blogs (The Unofficial Apple Weblog, iLounge) have undergone cybersquatting, with articles created by generative AI.[207][208][209][210][211][212][213][214]\\nUnited States Senators Richard Blumenthal and Amy Klobuchar have expressed concern that generative AI could have a harmful impact on local news.[215] In July 2023, OpenAI partnered with the American Journalism Project to fund local news outlets for experimenting with generative AI, with Axios noting the possibility of generative AI companies creating a dependency for these news outlets.[216]\\nMeta AI, a chatbot based on Llama 3 which summarizes news stories, was noted by The Washington Post to copy sentences from those stories without direct attribution and to potentially further decrease the traffic of online news outlets.[217]\\nIn response to potential pitfalls around the use and misuse of generative AI in journalism and worries about declining audience trust, outlets around the world, including publications such as Wired, Associated Press, The Quint, Rappler or The Guardian have published guidelines around how they plan to use and not use AI and generative AI in their work.[218][219][220][221]\\nIn June 2024, Reuters Institute published their Digital New Report for 2024. In a survey of people in America and Europe, Reuters Institute reports that 52% and 47% respectively are uncomfortable with news produced by \"mostly AI with some human oversight\", and 23% and 15% respectively report being comfortable. 42% of Americans and 33% of Europeans reported that they were comfortable with news produced by \"mainly human with some help from AI\". The results of global surveys reported that people were more uncomfortable with news topics including politics (46%), crime (43%), and local news (37%) produced by AI than other news topics.[222]\\n'"
      ]
     },
     "execution_count": 48,
     "metadata": {},
     "output_type": "execute_result"
    }
   ],
   "source": [
    "text_splitter = RecursiveCharacterTextSplitter(\n",
    "    # Set a really small chunk size, just to show.\n",
    "    chunk_size=200,\n",
    "    chunk_overlap=20,\n",
    "    length_function=len,\n",
    "    is_separator_regex=False,\n",
    ")\n",
    "\n",
    "with open('GenerativeAI.txt', mode ='r', encoding='utf-8') as file:\n",
    "    text = file.read()\n",
    "\n",
    "\n",
    "text"
   ]
  },
  {
   "cell_type": "code",
   "execution_count": 49,
   "metadata": {},
   "outputs": [
    {
     "name": "stdout",
     "output_type": "stream",
     "text": [
      "page_content='Generative artificial intelligence (generative AI, GenAI,[1] or GAI) is a subset of artificial intelligence that uses generative models to produce text, images, videos, or other forms of'\n",
      "page_content='or other forms of data.[2][3][4] These models learn the underlying patterns and structures of their training data and use them to produce new data[5][6] based on the input, which often comes in the'\n"
     ]
    },
    {
     "data": {
      "text/plain": [
       "206"
      ]
     },
     "execution_count": 49,
     "metadata": {},
     "output_type": "execute_result"
    }
   ],
   "source": [
    "text_chunks = text_splitter.create_documents([text])\n",
    "print(text_chunks[0])\n",
    "print(text_chunks[1])\n",
    "len(text_chunks)"
   ]
  },
  {
   "cell_type": "code",
   "execution_count": 50,
   "metadata": {},
   "outputs": [
    {
     "name": "stdout",
     "output_type": "stream",
     "text": [
      "Requirement already satisfied: langchain in /Library/Frameworks/Python.framework/Versions/3.12/lib/python3.12/site-packages (0.3.13)\n",
      "Requirement already satisfied: PyYAML>=5.3 in /Library/Frameworks/Python.framework/Versions/3.12/lib/python3.12/site-packages (from langchain) (6.0.2)\n",
      "Requirement already satisfied: SQLAlchemy<3,>=1.4 in /Library/Frameworks/Python.framework/Versions/3.12/lib/python3.12/site-packages (from langchain) (2.0.36)\n",
      "Requirement already satisfied: aiohttp<4.0.0,>=3.8.3 in /Library/Frameworks/Python.framework/Versions/3.12/lib/python3.12/site-packages (from langchain) (3.11.10)\n",
      "Requirement already satisfied: langchain-core<0.4.0,>=0.3.26 in /Library/Frameworks/Python.framework/Versions/3.12/lib/python3.12/site-packages (from langchain) (0.3.28)\n",
      "Requirement already satisfied: langchain-text-splitters<0.4.0,>=0.3.3 in /Library/Frameworks/Python.framework/Versions/3.12/lib/python3.12/site-packages (from langchain) (0.3.4)\n",
      "Requirement already satisfied: langsmith<0.3,>=0.1.17 in /Library/Frameworks/Python.framework/Versions/3.12/lib/python3.12/site-packages (from langchain) (0.1.142)\n",
      "Requirement already satisfied: numpy<3,>=1.26.2 in /Library/Frameworks/Python.framework/Versions/3.12/lib/python3.12/site-packages (from langchain) (1.26.4)\n",
      "Requirement already satisfied: pydantic<3.0.0,>=2.7.4 in /Library/Frameworks/Python.framework/Versions/3.12/lib/python3.12/site-packages (from langchain) (2.9.2)\n",
      "Requirement already satisfied: requests<3,>=2 in /Library/Frameworks/Python.framework/Versions/3.12/lib/python3.12/site-packages (from langchain) (2.32.3)\n",
      "Requirement already satisfied: tenacity!=8.4.0,<10,>=8.1.0 in /Library/Frameworks/Python.framework/Versions/3.12/lib/python3.12/site-packages (from langchain) (9.0.0)\n",
      "Requirement already satisfied: aiohappyeyeballs>=2.3.0 in /Library/Frameworks/Python.framework/Versions/3.12/lib/python3.12/site-packages (from aiohttp<4.0.0,>=3.8.3->langchain) (2.4.4)\n",
      "Requirement already satisfied: aiosignal>=1.1.2 in /Library/Frameworks/Python.framework/Versions/3.12/lib/python3.12/site-packages (from aiohttp<4.0.0,>=3.8.3->langchain) (1.3.2)\n",
      "Requirement already satisfied: attrs>=17.3.0 in /Library/Frameworks/Python.framework/Versions/3.12/lib/python3.12/site-packages (from aiohttp<4.0.0,>=3.8.3->langchain) (24.2.0)\n",
      "Requirement already satisfied: frozenlist>=1.1.1 in /Library/Frameworks/Python.framework/Versions/3.12/lib/python3.12/site-packages (from aiohttp<4.0.0,>=3.8.3->langchain) (1.5.0)\n",
      "Requirement already satisfied: multidict<7.0,>=4.5 in /Library/Frameworks/Python.framework/Versions/3.12/lib/python3.12/site-packages (from aiohttp<4.0.0,>=3.8.3->langchain) (6.1.0)\n",
      "Requirement already satisfied: propcache>=0.2.0 in /Library/Frameworks/Python.framework/Versions/3.12/lib/python3.12/site-packages (from aiohttp<4.0.0,>=3.8.3->langchain) (0.2.1)\n",
      "Requirement already satisfied: yarl<2.0,>=1.17.0 in /Library/Frameworks/Python.framework/Versions/3.12/lib/python3.12/site-packages (from aiohttp<4.0.0,>=3.8.3->langchain) (1.18.3)\n",
      "Requirement already satisfied: jsonpatch<2.0,>=1.33 in /Library/Frameworks/Python.framework/Versions/3.12/lib/python3.12/site-packages (from langchain-core<0.4.0,>=0.3.26->langchain) (1.33)\n",
      "Requirement already satisfied: packaging<25,>=23.2 in /Users/kowsalyasitharthaun/Library/Python/3.12/lib/python/site-packages (from langchain-core<0.4.0,>=0.3.26->langchain) (24.1)\n",
      "Requirement already satisfied: typing-extensions>=4.7 in /Library/Frameworks/Python.framework/Versions/3.12/lib/python3.12/site-packages (from langchain-core<0.4.0,>=0.3.26->langchain) (4.12.2)\n",
      "Requirement already satisfied: httpx<1,>=0.23.0 in /Library/Frameworks/Python.framework/Versions/3.12/lib/python3.12/site-packages (from langsmith<0.3,>=0.1.17->langchain) (0.27.2)\n",
      "Requirement already satisfied: orjson<4.0.0,>=3.9.14 in /Library/Frameworks/Python.framework/Versions/3.12/lib/python3.12/site-packages (from langsmith<0.3,>=0.1.17->langchain) (3.10.11)\n",
      "Requirement already satisfied: requests-toolbelt<2.0.0,>=1.0.0 in /Library/Frameworks/Python.framework/Versions/3.12/lib/python3.12/site-packages (from langsmith<0.3,>=0.1.17->langchain) (1.0.0)\n",
      "Requirement already satisfied: annotated-types>=0.6.0 in /Library/Frameworks/Python.framework/Versions/3.12/lib/python3.12/site-packages (from pydantic<3.0.0,>=2.7.4->langchain) (0.7.0)\n",
      "Requirement already satisfied: pydantic-core==2.23.4 in /Library/Frameworks/Python.framework/Versions/3.12/lib/python3.12/site-packages (from pydantic<3.0.0,>=2.7.4->langchain) (2.23.4)\n",
      "Requirement already satisfied: charset-normalizer<4,>=2 in /Library/Frameworks/Python.framework/Versions/3.12/lib/python3.12/site-packages (from requests<3,>=2->langchain) (3.4.0)\n",
      "Requirement already satisfied: idna<4,>=2.5 in /Library/Frameworks/Python.framework/Versions/3.12/lib/python3.12/site-packages (from requests<3,>=2->langchain) (3.10)\n",
      "Requirement already satisfied: urllib3<3,>=1.21.1 in /Library/Frameworks/Python.framework/Versions/3.12/lib/python3.12/site-packages (from requests<3,>=2->langchain) (2.2.3)\n",
      "Requirement already satisfied: certifi>=2017.4.17 in /Library/Frameworks/Python.framework/Versions/3.12/lib/python3.12/site-packages (from requests<3,>=2->langchain) (2024.8.30)\n",
      "Requirement already satisfied: greenlet!=0.4.17 in /Library/Frameworks/Python.framework/Versions/3.12/lib/python3.12/site-packages (from SQLAlchemy<3,>=1.4->langchain) (3.1.1)\n",
      "Requirement already satisfied: anyio in /Library/Frameworks/Python.framework/Versions/3.12/lib/python3.12/site-packages (from httpx<1,>=0.23.0->langsmith<0.3,>=0.1.17->langchain) (4.6.2.post1)\n",
      "Requirement already satisfied: httpcore==1.* in /Library/Frameworks/Python.framework/Versions/3.12/lib/python3.12/site-packages (from httpx<1,>=0.23.0->langsmith<0.3,>=0.1.17->langchain) (1.0.6)\n",
      "Requirement already satisfied: sniffio in /Library/Frameworks/Python.framework/Versions/3.12/lib/python3.12/site-packages (from httpx<1,>=0.23.0->langsmith<0.3,>=0.1.17->langchain) (1.3.1)\n",
      "Requirement already satisfied: h11<0.15,>=0.13 in /Library/Frameworks/Python.framework/Versions/3.12/lib/python3.12/site-packages (from httpcore==1.*->httpx<1,>=0.23.0->langsmith<0.3,>=0.1.17->langchain) (0.14.0)\n",
      "Requirement already satisfied: jsonpointer>=1.9 in /Library/Frameworks/Python.framework/Versions/3.12/lib/python3.12/site-packages (from jsonpatch<2.0,>=1.33->langchain-core<0.4.0,>=0.3.26->langchain) (3.0.0)\n",
      "Note: you may need to restart the kernel to use updated packages.\n"
     ]
    }
   ],
   "source": [
    "%pip install langchain"
   ]
  },
  {
   "cell_type": "code",
   "execution_count": 111,
   "metadata": {},
   "outputs": [],
   "source": [
    "#chroma db was designed for open ai embeddings\n",
    "from langchain.embeddings.base import Embeddings\n",
    "from sentence_transformers import SentenceTransformer\n",
    "\n",
    "class SentenceTransformerEmbeddingModel(Embeddings):\n",
    "    def __init__(self,modelname : str):\n",
    "        self.model = SentenceTransformer(modelname)\n",
    "\n",
    "    def embed_documents(self,texts):\n",
    "        return [self.model.encode(d).tolist() for d in texts]\n",
    "    \n",
    "    def embed_query(self, query):\n",
    "        return self.model.encode([query])[0].tolist()"
   ]
  },
  {
   "cell_type": "code",
   "execution_count": 112,
   "metadata": {},
   "outputs": [],
   "source": [
    "model = 'sentence-transformers/paraphrase-multilingual-MiniLM-L12-v2'\n",
    "\n",
    "myembeddingmodel = SentenceTransformerEmbeddingModel(model)"
   ]
  },
  {
   "cell_type": "code",
   "execution_count": 113,
   "metadata": {},
   "outputs": [
    {
     "name": "stderr",
     "output_type": "stream",
     "text": [
      "huggingface/tokenizers: The current process just got forked, after parallelism has already been used. Disabling parallelism to avoid deadlocks...\n",
      "To disable this warning, you can either:\n",
      "\t- Avoid using `tokenizers` before the fork if possible\n",
      "\t- Explicitly set the environment variable TOKENIZERS_PARALLELISM=(true | false)\n"
     ]
    },
    {
     "name": "stdout",
     "output_type": "stream",
     "text": [
      "Requirement already satisfied: langchain-community in /Library/Frameworks/Python.framework/Versions/3.12/lib/python3.12/site-packages (0.3.13)\n",
      "Requirement already satisfied: PyYAML>=5.3 in /Library/Frameworks/Python.framework/Versions/3.12/lib/python3.12/site-packages (from langchain-community) (6.0.2)\n",
      "Requirement already satisfied: SQLAlchemy<3,>=1.4 in /Library/Frameworks/Python.framework/Versions/3.12/lib/python3.12/site-packages (from langchain-community) (2.0.36)\n",
      "Requirement already satisfied: aiohttp<4.0.0,>=3.8.3 in /Library/Frameworks/Python.framework/Versions/3.12/lib/python3.12/site-packages (from langchain-community) (3.11.10)\n",
      "Requirement already satisfied: dataclasses-json<0.7,>=0.5.7 in /Library/Frameworks/Python.framework/Versions/3.12/lib/python3.12/site-packages (from langchain-community) (0.6.7)\n",
      "Requirement already satisfied: httpx-sse<0.5.0,>=0.4.0 in /Library/Frameworks/Python.framework/Versions/3.12/lib/python3.12/site-packages (from langchain-community) (0.4.0)\n",
      "Requirement already satisfied: langchain<0.4.0,>=0.3.13 in /Library/Frameworks/Python.framework/Versions/3.12/lib/python3.12/site-packages (from langchain-community) (0.3.13)\n",
      "Requirement already satisfied: langchain-core<0.4.0,>=0.3.27 in /Library/Frameworks/Python.framework/Versions/3.12/lib/python3.12/site-packages (from langchain-community) (0.3.28)\n",
      "Requirement already satisfied: langsmith<0.3,>=0.1.125 in /Library/Frameworks/Python.framework/Versions/3.12/lib/python3.12/site-packages (from langchain-community) (0.1.142)\n",
      "Requirement already satisfied: numpy<3,>=1.26.2 in /Library/Frameworks/Python.framework/Versions/3.12/lib/python3.12/site-packages (from langchain-community) (1.26.4)\n",
      "Requirement already satisfied: pydantic-settings<3.0.0,>=2.4.0 in /Library/Frameworks/Python.framework/Versions/3.12/lib/python3.12/site-packages (from langchain-community) (2.7.0)\n",
      "Requirement already satisfied: requests<3,>=2 in /Library/Frameworks/Python.framework/Versions/3.12/lib/python3.12/site-packages (from langchain-community) (2.32.3)\n",
      "Requirement already satisfied: tenacity!=8.4.0,<10,>=8.1.0 in /Library/Frameworks/Python.framework/Versions/3.12/lib/python3.12/site-packages (from langchain-community) (9.0.0)\n",
      "Requirement already satisfied: aiohappyeyeballs>=2.3.0 in /Library/Frameworks/Python.framework/Versions/3.12/lib/python3.12/site-packages (from aiohttp<4.0.0,>=3.8.3->langchain-community) (2.4.4)\n",
      "Requirement already satisfied: aiosignal>=1.1.2 in /Library/Frameworks/Python.framework/Versions/3.12/lib/python3.12/site-packages (from aiohttp<4.0.0,>=3.8.3->langchain-community) (1.3.2)\n",
      "Requirement already satisfied: attrs>=17.3.0 in /Library/Frameworks/Python.framework/Versions/3.12/lib/python3.12/site-packages (from aiohttp<4.0.0,>=3.8.3->langchain-community) (24.2.0)\n",
      "Requirement already satisfied: frozenlist>=1.1.1 in /Library/Frameworks/Python.framework/Versions/3.12/lib/python3.12/site-packages (from aiohttp<4.0.0,>=3.8.3->langchain-community) (1.5.0)\n",
      "Requirement already satisfied: multidict<7.0,>=4.5 in /Library/Frameworks/Python.framework/Versions/3.12/lib/python3.12/site-packages (from aiohttp<4.0.0,>=3.8.3->langchain-community) (6.1.0)\n",
      "Requirement already satisfied: propcache>=0.2.0 in /Library/Frameworks/Python.framework/Versions/3.12/lib/python3.12/site-packages (from aiohttp<4.0.0,>=3.8.3->langchain-community) (0.2.1)\n",
      "Requirement already satisfied: yarl<2.0,>=1.17.0 in /Library/Frameworks/Python.framework/Versions/3.12/lib/python3.12/site-packages (from aiohttp<4.0.0,>=3.8.3->langchain-community) (1.18.3)\n",
      "Requirement already satisfied: marshmallow<4.0.0,>=3.18.0 in /Library/Frameworks/Python.framework/Versions/3.12/lib/python3.12/site-packages (from dataclasses-json<0.7,>=0.5.7->langchain-community) (3.23.2)\n",
      "Requirement already satisfied: typing-inspect<1,>=0.4.0 in /Library/Frameworks/Python.framework/Versions/3.12/lib/python3.12/site-packages (from dataclasses-json<0.7,>=0.5.7->langchain-community) (0.9.0)\n",
      "Requirement already satisfied: langchain-text-splitters<0.4.0,>=0.3.3 in /Library/Frameworks/Python.framework/Versions/3.12/lib/python3.12/site-packages (from langchain<0.4.0,>=0.3.13->langchain-community) (0.3.4)\n",
      "Requirement already satisfied: pydantic<3.0.0,>=2.7.4 in /Library/Frameworks/Python.framework/Versions/3.12/lib/python3.12/site-packages (from langchain<0.4.0,>=0.3.13->langchain-community) (2.9.2)\n",
      "Requirement already satisfied: jsonpatch<2.0,>=1.33 in /Library/Frameworks/Python.framework/Versions/3.12/lib/python3.12/site-packages (from langchain-core<0.4.0,>=0.3.27->langchain-community) (1.33)\n",
      "Requirement already satisfied: packaging<25,>=23.2 in /Users/kowsalyasitharthaun/Library/Python/3.12/lib/python/site-packages (from langchain-core<0.4.0,>=0.3.27->langchain-community) (24.1)\n",
      "Requirement already satisfied: typing-extensions>=4.7 in /Library/Frameworks/Python.framework/Versions/3.12/lib/python3.12/site-packages (from langchain-core<0.4.0,>=0.3.27->langchain-community) (4.12.2)\n",
      "Requirement already satisfied: httpx<1,>=0.23.0 in /Library/Frameworks/Python.framework/Versions/3.12/lib/python3.12/site-packages (from langsmith<0.3,>=0.1.125->langchain-community) (0.27.2)\n",
      "Requirement already satisfied: orjson<4.0.0,>=3.9.14 in /Library/Frameworks/Python.framework/Versions/3.12/lib/python3.12/site-packages (from langsmith<0.3,>=0.1.125->langchain-community) (3.10.11)\n",
      "Requirement already satisfied: requests-toolbelt<2.0.0,>=1.0.0 in /Library/Frameworks/Python.framework/Versions/3.12/lib/python3.12/site-packages (from langsmith<0.3,>=0.1.125->langchain-community) (1.0.0)\n",
      "Requirement already satisfied: python-dotenv>=0.21.0 in /Library/Frameworks/Python.framework/Versions/3.12/lib/python3.12/site-packages (from pydantic-settings<3.0.0,>=2.4.0->langchain-community) (1.0.1)\n",
      "Requirement already satisfied: charset-normalizer<4,>=2 in /Library/Frameworks/Python.framework/Versions/3.12/lib/python3.12/site-packages (from requests<3,>=2->langchain-community) (3.4.0)\n",
      "Requirement already satisfied: idna<4,>=2.5 in /Library/Frameworks/Python.framework/Versions/3.12/lib/python3.12/site-packages (from requests<3,>=2->langchain-community) (3.10)\n",
      "Requirement already satisfied: urllib3<3,>=1.21.1 in /Library/Frameworks/Python.framework/Versions/3.12/lib/python3.12/site-packages (from requests<3,>=2->langchain-community) (2.2.3)\n",
      "Requirement already satisfied: certifi>=2017.4.17 in /Library/Frameworks/Python.framework/Versions/3.12/lib/python3.12/site-packages (from requests<3,>=2->langchain-community) (2024.8.30)\n",
      "Requirement already satisfied: greenlet!=0.4.17 in /Library/Frameworks/Python.framework/Versions/3.12/lib/python3.12/site-packages (from SQLAlchemy<3,>=1.4->langchain-community) (3.1.1)\n",
      "Requirement already satisfied: anyio in /Library/Frameworks/Python.framework/Versions/3.12/lib/python3.12/site-packages (from httpx<1,>=0.23.0->langsmith<0.3,>=0.1.125->langchain-community) (4.6.2.post1)\n",
      "Requirement already satisfied: httpcore==1.* in /Library/Frameworks/Python.framework/Versions/3.12/lib/python3.12/site-packages (from httpx<1,>=0.23.0->langsmith<0.3,>=0.1.125->langchain-community) (1.0.6)\n",
      "Requirement already satisfied: sniffio in /Library/Frameworks/Python.framework/Versions/3.12/lib/python3.12/site-packages (from httpx<1,>=0.23.0->langsmith<0.3,>=0.1.125->langchain-community) (1.3.1)\n",
      "Requirement already satisfied: h11<0.15,>=0.13 in /Library/Frameworks/Python.framework/Versions/3.12/lib/python3.12/site-packages (from httpcore==1.*->httpx<1,>=0.23.0->langsmith<0.3,>=0.1.125->langchain-community) (0.14.0)\n",
      "Requirement already satisfied: jsonpointer>=1.9 in /Library/Frameworks/Python.framework/Versions/3.12/lib/python3.12/site-packages (from jsonpatch<2.0,>=1.33->langchain-core<0.4.0,>=0.3.27->langchain-community) (3.0.0)\n",
      "Requirement already satisfied: annotated-types>=0.6.0 in /Library/Frameworks/Python.framework/Versions/3.12/lib/python3.12/site-packages (from pydantic<3.0.0,>=2.7.4->langchain<0.4.0,>=0.3.13->langchain-community) (0.7.0)\n",
      "Requirement already satisfied: pydantic-core==2.23.4 in /Library/Frameworks/Python.framework/Versions/3.12/lib/python3.12/site-packages (from pydantic<3.0.0,>=2.7.4->langchain<0.4.0,>=0.3.13->langchain-community) (2.23.4)\n",
      "Requirement already satisfied: mypy-extensions>=0.3.0 in /Library/Frameworks/Python.framework/Versions/3.12/lib/python3.12/site-packages (from typing-inspect<1,>=0.4.0->dataclasses-json<0.7,>=0.5.7->langchain-community) (1.0.0)\n",
      "Note: you may need to restart the kernel to use updated packages.\n"
     ]
    }
   ],
   "source": [
    "%pip install -U langchain-community"
   ]
  },
  {
   "cell_type": "code",
   "execution_count": 114,
   "metadata": {},
   "outputs": [],
   "source": [
    "from langchain.vectorstores import Chroma\n",
    "\n",
    "vectorstore = Chroma.from_documents(\n",
    "    documents = text_chunks,\n",
    "    collection_name=\"wiki_collection\",\n",
    "    embedding =myembeddingmodel,\n",
    "    persist_directory=\"new_genAI_article\",  # Where to save data locally, remove if not necessary\n",
    ")"
   ]
  },
  {
   "cell_type": "code",
   "execution_count": 115,
   "metadata": {},
   "outputs": [
    {
     "data": {
      "text/plain": [
       "[Document(metadata={}, page_content='Generative artificial intelligence (generative AI, GenAI,[1] or GAI) is a subset of artificial intelligence that uses generative models to produce text, images, videos, or other forms of'),\n",
       " Document(metadata={}, page_content='or other forms of data.[2][3][4] These models learn the underlying patterns and structures of their training data and use them to produce new data[5][6] based on the input, which often comes in the'),\n",
       " Document(metadata={}, page_content='often comes in the form of natural language prompts.[7][8]'),\n",
       " Document(metadata={}, page_content='Improvements in transformer-based deep neural networks, particularly large language models (LLMs), enabled an AI boom of generative AI systems in the early 2020s. These include chatbots such as'),\n",
       " Document(metadata={}, page_content='chatbots such as ChatGPT, Copilot, Gemini, and LLaMA; text-to-image artificial intelligence image generation systems such as Stable Diffusion, Midjourney, and DALL-E; and text-to-video AI generators'),\n",
       " Document(metadata={}, page_content='AI generators such as Sora.[9][10][11][12] Companies such as OpenAI, Anthropic, Microsoft, Google, and Baidu as well as numerous smaller firms have developed generative AI models.[7][13][14]'),\n",
       " Document(metadata={}, page_content='Generative AI has uses across a wide range of industries, including software development, healthcare, finance, entertainment, customer service,[15] sales and marketing,[16] art, writing,[17]'),\n",
       " Document(metadata={}, page_content='art, writing,[17] fashion,[18] and product design.[19] However, concerns have been raised about the potential misuse of generative AI such as cybercrime, the use of fake news or deepfakes to deceive'),\n",
       " Document(metadata={}, page_content='to deceive or manipulate people, and the mass replacement of human jobs.[20][21] Intellectual property law concerns also exist around generative models that are trained on and emulate copyrighted'),\n",
       " Document(metadata={}, page_content='emulate copyrighted works of art.[22]'),\n",
       " Document(metadata={}, page_content='Since its inception, researchers in the field have raised philosophical and ethical arguments about the nature of the human mind and the consequences of creating artificial beings with human-like'),\n",
       " Document(metadata={}, page_content='with human-like intelligence; these issues have previously been explored by myth, fiction and philosophy since antiquity.[23] The concept of automated art dates back at least to the automata of'),\n",
       " Document(metadata={}, page_content='to the automata of ancient Greek civilization, where inventors such as Daedalus and Hero of Alexandria were described as having designed machines capable of writing text, generating sounds, and'),\n",
       " Document(metadata={}, page_content=\"sounds, and playing music.[24][25] The tradition of creative automations has flourished throughout history, exemplified by Maillardet's automaton created in the early 1800s.[26] Markov chains have\"),\n",
       " Document(metadata={}, page_content='Markov chains have long been used to model natural languages since their development by Russian mathematician Andrey Markov in the early 20th century. Markov published his first paper on the topic in'),\n",
       " Document(metadata={}, page_content='on the topic in 1906,[27][28] and analyzed the pattern of vowels and consonants in the novel Eugeny Onegin using Markov chains. Once a Markov chain is learned on a text corpus, it can then be used as'),\n",
       " Document(metadata={}, page_content='can then be used as a probabilistic text generator.[29][30]'),\n",
       " Document(metadata={}, page_content='The academic discipline of artificial intelligence was established at a research workshop held at Dartmouth College in 1956 and has experienced several waves of advancement and optimism in the'),\n",
       " Document(metadata={}, page_content='and optimism in the decades since.[31] Artificial Intelligence research began in the 1950s with works like Computing Machinery and Intelligence (1950) and the 1956 Dartmouth Summer Research Project'),\n",
       " Document(metadata={}, page_content='Research Project on AI. Since the 1950s, artists and researchers have used artificial intelligence to create artistic works. By the early 1970s, Harold Cohen was creating and exhibiting generative AI'),\n",
       " Document(metadata={}, page_content='generative AI works created by AARON, the computer program Cohen created to generate paintings.[32]'),\n",
       " Document(metadata={}, page_content='The terms generative AI planning or generative planning were used in the 1980s and 1990s to refer to AI planning systems, especially computer-aided process planning, used to generate sequences of'),\n",
       " Document(metadata={}, page_content='sequences of actions to reach a specified goal.[33][34] Generative AI planning systems used symbolic AI methods such as state space search and constraint satisfaction and were a \"relatively mature\"'),\n",
       " Document(metadata={}, page_content='\"relatively mature\" technology by the early 1990s. They were used to generate crisis action plans for military use,[35] process plans for manufacturing[33] and decision plans such as in prototype'),\n",
       " Document(metadata={}, page_content='as in prototype autonomous spacecraft.[36]'),\n",
       " Document(metadata={}, page_content='Since its inception, the field of machine learning used both discriminative models and generative models, to model and predict data. Beginning in the late 2000s, the emergence of deep learning drove'),\n",
       " Document(metadata={}, page_content='deep learning drove progress and research in image classification, speech recognition, natural language processing and other tasks. Neural networks in this era were typically trained as'),\n",
       " Document(metadata={}, page_content='trained as discriminative models, due to the difficulty of generative modeling.[37]'),\n",
       " Document(metadata={}, page_content='In 2014, advancements such as the variational autoencoder and generative adversarial network produced the first practical deep neural networks capable of learning generative models, as opposed to'),\n",
       " Document(metadata={}, page_content='as opposed to discriminative ones, for complex data such as images. These deep generative models were the first to output not only class labels for images but also entire images.'),\n",
       " Document(metadata={}, page_content='In 2017, the Transformer network enabled advancements in generative models compared to older Long-Short Term Memory models,[38] leading to the first generative pre-trained transformer (GPT), known as'),\n",
       " Document(metadata={}, page_content='(GPT), known as GPT-1, in 2018.[39] This was followed in 2019 by GPT-2 which demonstrated the ability to generalize unsupervised to many different tasks as a Foundation model.[40]'),\n",
       " Document(metadata={}, page_content='The new generative models introduced during this period allowed for large neural networks to be trained using unsupervised learning or semi-supervised learning, rather than the supervised learning'),\n",
       " Document(metadata={}, page_content='supervised learning typical of discriminative models. Unsupervised learning removed the need for humans to manually label data, allowing for larger networks to be trained.[41]'),\n",
       " Document(metadata={}, page_content='In 2021, the release of DALL-E, a transformer-based pixel generative model, followed by Midjourney and Stable Diffusion marked the emergence of practical high-quality artificial intelligence art from'),\n",
       " Document(metadata={}, page_content='art from natural language prompts.'),\n",
       " Document(metadata={}, page_content='In 2022, the public release of ChatGPT popularized the use of generative AI for general-purpose text-based tasks.[42]'),\n",
       " Document(metadata={}, page_content='In March 2023, GPT-4 was released. A team from Microsoft Research argued that \"it could reasonably be viewed as an early (yet still incomplete) version of an artificial general intelligence (AGI)'),\n",
       " Document(metadata={}, page_content='intelligence (AGI) system\".[43] Other scholars have disputed that GPT-4 reaches this threshold, calling generative AI \"still far from reaching the benchmark of ‘general human intelligence’\" as of'),\n",
       " Document(metadata={}, page_content='as of 2023.[44] In 2023, Meta released an AI model called ImageBind which combines data from text, images, video, thermal data, 3D data, audio, and motion which is expected to allow for more'),\n",
       " Document(metadata={}, page_content='to allow for more immersive generative AI content.[45][46]'),\n",
       " Document(metadata={}, page_content='According to a survey by SAS and Coleman Parkes Research, China is leading the world in adopting generative AI, with 83% of Chinese respondents using the technology, surpassing the global average of'),\n",
       " Document(metadata={}, page_content='global average of 54% and the U.S. at 65%. A UN report revealed China filed over 38,000 GenAI patents from 2014 to 2023, far exceeding the U.S.[47]'),\n",
       " Document(metadata={}, page_content='A generative AI system is constructed by applying unsupervised machine learning (invoking  for instance neural network architectures such as GANs, VAE, Transformer, ...)  or self-supervised machine'),\n",
       " Document(metadata={}, page_content='machine learning to a data set. The capabilities of a generative AI system depend on the modality or type of the data set used.'),\n",
       " Document(metadata={}, page_content='Generative AI can be either unimodal or multimodal; unimodal systems take only one type of input, whereas multimodal systems can take more than one type of input.[48] For example, one version of'),\n",
       " Document(metadata={}, page_content=\"one version of OpenAI's GPT-4 accepts both text and image inputs.[49]\"),\n",
       " Document(metadata={}, page_content='Generative AI systems trained on words or word tokens include GPT-3, GPT-4, GPT-4o, LaMDA, LLaMA, BLOOM, Gemini and others (see List of large language models). They are capable of natural language'),\n",
       " Document(metadata={}, page_content='of natural language processing, machine translation, and natural language generation and can be used as foundation models for other tasks.[51] Data sets include BookCorpus, Wikipedia, and others (see'),\n",
       " Document(metadata={}, page_content='and others (see List of text corpora).'),\n",
       " Document(metadata={}, page_content='In addition to natural language text, large language models can be trained on programming language text, allowing them to generate source code for new computer programs.[52] Examples include OpenAI'),\n",
       " Document(metadata={}, page_content='include OpenAI Codex.'),\n",
       " Document(metadata={}, page_content='Producing high-quality visual art is a prominent application of generative AI.[53] Generative AI systems trained on sets of images with text captions include Imagen, DALL-E, Midjourney, Adobe'),\n",
       " Document(metadata={}, page_content='Midjourney, Adobe Firefly, FLUX.1, Stable Diffusion and others (see Artificial intelligence art, Generative art, and Synthetic media). They are commonly used for text-to-image generation and neural'),\n",
       " Document(metadata={}, page_content='and neural style transfer.[54] Datasets include LAION-5B and others (see List of datasets in computer vision and image processing).'),\n",
       " Document(metadata={}, page_content=\"Generative AI can also be trained extensively on audio clips to produce natural-sounding speech synthesis and text-to-speech capabilities, exemplified by ElevenLabs' context-aware synthesis tools or\"),\n",
       " Document(metadata={}, page_content=\"synthesis tools or Meta Platform's Voicebox.[55]Generative AI systems such as MusicLM[56] and MusicGen[57] can also be trained on the audio waveforms of recorded music along with text annotations, in\"),\n",
       " Document(metadata={}, page_content='annotations, in order to generate new musical samples based on text descriptions such as a calming violin melody backed by a distorted guitar riff.'),\n",
       " Document(metadata={}, page_content=\"Audio deepfakes of lyrics have been generated, like the song Savages, which used AI to mimic rapper Jay-Z's vocals. Music artist's instrumentals and lyrics are copyrighted but their voices aren't\"),\n",
       " Document(metadata={}, page_content=\"their voices aren't protected from regenerative AI yet, raising a debate about whether artists should get royalties from audio deepfakes.[58]\"),\n",
       " Document(metadata={}, page_content='Many AI music generators have been created that can be generated using a text phrase, genre options, and looped libraries of bars and riffs.[59]'),\n",
       " Document(metadata={}, page_content='Generative AI trained on annotated video can generate temporally-coherent, detailed and photorealistic video clips. Examples include Sora by OpenAI,[12] Gen-1 and Gen-2 by Runway,[60] and'),\n",
       " Document(metadata={}, page_content='by Runway,[60] and Make-A-Video by Meta Platforms.[61]'),\n",
       " Document(metadata={}, page_content='Generative AI can also be trained on the motions of a robotic system to generate new trajectories for motion planning or navigation. For example, UniPi from Google Research uses prompts like \"pick up'),\n",
       " Document(metadata={}, page_content='like \"pick up blue bowl\" or \"wipe plate with yellow sponge\" to control movements of a robot arm.[62] Multimodal \"vision-language-action\" models such as Google\\'s RT-2 can perform rudimentary reasoning'),\n",
       " Document(metadata={}, page_content='reasoning in response to user prompts and visual input, such as picking up a toy dinosaur when given the prompt pick up the extinct animal at a table filled with toy animals and other objects.[63]'),\n",
       " Document(metadata={}, page_content='Artificially intelligent computer-aided design (CAD) can use text-to-3D, image-to-3D, and video-to-3D to automate 3D modeling.[64] AI-based CAD libraries could also be developed using linked open'),\n",
       " Document(metadata={}, page_content='using linked open data of schematics and diagrams.[65] AI CAD assistants are used as tools to help streamline workflow.[66]'),\n",
       " Document(metadata={}, page_content='Generative AI models are used to power chatbot products such as ChatGPT, programming tools such as GitHub Copilot,[67] text-to-image products such as Midjourney, and text-to-video products such as'),\n",
       " Document(metadata={}, page_content='products such as Runway Gen-2.[68] Generative AI features have been integrated into a variety of existing commercially available products such as Microsoft Office (Microsoft Copilot),[69] Google'),\n",
       " Document(metadata={}, page_content='Google Photos,[70] and the Adobe Suite (Adobe Firefly).[71] Many generative AI models are also available as open-source software, including Stable Diffusion and the LLaMA[72] language model.'),\n",
       " Document(metadata={}, page_content='Smaller generative AI models with up to a few billion parameters can run on smartphones, embedded devices, and personal computers. For example, LLaMA-7B (a version with 7 billion parameters) can run'),\n",
       " Document(metadata={}, page_content='parameters) can run on a Raspberry Pi 4[73] and one version of Stable Diffusion can run on an iPhone 11.[74]'),\n",
       " Document(metadata={}, page_content='Larger models with tens of billions of parameters can run on laptop or desktop computers. To achieve an acceptable speed, models of this size may require accelerators such as the GPU chips produced'),\n",
       " Document(metadata={}, page_content='GPU chips produced by NVIDIA and AMD or the Neural Engine included in Apple silicon products. For example, the 65 billion parameter version of LLaMA can be configured to run on a desktop PC.[75]'),\n",
       " Document(metadata={}, page_content='The advantages of running generative AI locally include protection of privacy and intellectual property, and avoidance of rate limiting and censorship. The subreddit r/LocalLLaMA in particular'),\n",
       " Document(metadata={}, page_content='in particular focuses on using consumer-grade gaming graphics cards[76] through such techniques as compression. That forum is one of only two sources Andrej Karpathy trusts for language model'),\n",
       " Document(metadata={}, page_content='for language model benchmarks.[77] Yann LeCun has advocated open-source models for their value to vertical applications[78] and for improving AI safety.[79]'),\n",
       " Document(metadata={}, page_content=\"Language models with hundreds of billions of parameters, such as GPT-4 or PaLM, typically run on datacenter computers equipped with arrays of GPUs (such as NVIDIA's H100) or AI accelerator chips\"),\n",
       " Document(metadata={}, page_content=\"accelerator chips (such as Google's TPU). These very large models are typically accessed as cloud services over the Internet.\"),\n",
       " Document(metadata={}, page_content='In 2022, the United States New Export Controls on Advanced Computing and Semiconductors to China imposed restrictions on exports to China of GPU and AI accelerator chips used for generative AI.[80]'),\n",
       " Document(metadata={}, page_content='generative AI.[80] Chips such as the NVIDIA A800[81] and the Biren Technology BR104[82] were developed to meet the requirements of the sanctions.'),\n",
       " Document(metadata={}, page_content='There is free software on the market capable of recognizing text generated by generative artificial intelligence (such as GPTZero), as well as images, audio or video coming from it.[83] Potential'),\n",
       " Document(metadata={}, page_content='it.[83] Potential mitigation strategies for detecting generative AI content include digital watermarking, content authentication, information retrieval, and machine learning classifier models.[84]'),\n",
       " Document(metadata={}, page_content='models.[84] Despite claims of accuracy, both free and paid AI text detectors have frequently produced false positives, mistakenly accusing students of submitting AI-generated work.[85][86]'),\n",
       " Document(metadata={}, page_content='In the United States, a group of companies including OpenAI, Alphabet, and Meta signed a voluntary agreement with the Biden administration in July 2023 to watermark AI-generated content.[87] In'),\n",
       " Document(metadata={}, page_content='content.[87] In October 2023, Executive Order 14110 applied the Defense Production Act to require all US companies to report information to the federal government when training certain high-impact AI'),\n",
       " Document(metadata={}, page_content='high-impact AI models.[88][89]'),\n",
       " Document(metadata={}, page_content='In the European Union, the proposed Artificial Intelligence Act includes requirements to disclose copyrighted material used to train generative AI systems, and to label any AI-generated output as'),\n",
       " Document(metadata={}, page_content='output as such.[90][91]'),\n",
       " Document(metadata={}, page_content='In China, the Interim Measures for the Management of Generative AI Services introduced by the Cyberspace Administration of China regulates any public-facing generative AI. It includes requirements to'),\n",
       " Document(metadata={}, page_content='requirements to watermark generated images or videos, regulations on training data and label quality, restrictions on personal data collection, and a guideline that generative AI must \"adhere to'),\n",
       " Document(metadata={}, page_content='AI must \"adhere to socialist core values\".[92][93]'),\n",
       " Document(metadata={}, page_content='Generative AI systems such as ChatGPT and Midjourney are trained on large, publicly available datasets that include copyrighted works. AI developers have argued that such training is protected under'),\n",
       " Document(metadata={}, page_content='is protected under fair use, while copyright holders have argued that it infringes their rights.[94]'),\n",
       " Document(metadata={}, page_content='Proponents of fair use training have argued that it is a transformative use and does not involve making copies of copyrighted works available to the public.[94] Critics have argued that image'),\n",
       " Document(metadata={}, page_content='argued that image generators such as Midjourney can create nearly-identical copies of some copyrighted images,[95] and that generative AI programs compete with the content they are trained on.[96]'),\n",
       " Document(metadata={}, page_content='As of 2024, several lawsuits related to the use of copyrighted material in training are ongoing.'),\n",
       " Document(metadata={}, page_content='Getty Images has sued Stability AI over the use of its images to train Stable diffusion.[97] Both the Authors Guild and The New York Times have sued Microsoft and OpenAI over the use of their works'),\n",
       " Document(metadata={}, page_content='use of their works to train ChatGPT.[98][99]'),\n",
       " Document(metadata={}, page_content='A separate question is whether AI-generated works can qualify for copyright protection. The United States Copyright Office has ruled that works created by artificial intelligence without any human'),\n",
       " Document(metadata={}, page_content='without any human input cannot be copyrighted, because they lack human authorship.[100] However, the office has also begun taking public input to determine if these rules need to be refined for'),\n",
       " Document(metadata={}, page_content='to be refined for generative AI.[101]'),\n",
       " Document(metadata={}, page_content='The development of generative AI has raised concerns from governments, businesses, and individuals, resulting in protests, legal actions, calls to pause AI experiments, and actions by multiple'),\n",
       " Document(metadata={}, page_content='actions by multiple governments. In a July 2023 briefing of the United Nations Security Council, Secretary-General António Guterres stated \"Generative AI has enormous potential for good and evil at'),\n",
       " Document(metadata={}, page_content='good and evil at scale\", that AI may \"turbocharge global development\" and contribute between $10 and $15 trillion to the global economy by 2030, but that its malicious use \"could cause horrific'),\n",
       " Document(metadata={}, page_content='cause horrific levels of death and destruction, widespread trauma, and deep psychological damage on an unimaginable scale\".[102]'),\n",
       " Document(metadata={}, page_content='From the early days of the development of AI, there have been arguments put forward by ELIZA creator Joseph Weizenbaum and others about whether tasks that can be done by computers actually should be'),\n",
       " Document(metadata={}, page_content='actually should be done by them, given the difference between computers and humans, and between quantitative calculations and qualitative, value-based judgements.[104] In April 2023, it was reported'),\n",
       " Document(metadata={}, page_content='it was reported that image generation AI has resulted in 70% of the jobs for video game illustrators in China being lost.[105][106] In July 2023, developments in generative AI contributed to the 2023'),\n",
       " Document(metadata={}, page_content='to the 2023 Hollywood labor disputes. Fran Drescher, president of the Screen Actors Guild, declared that \"artificial intelligence poses an existential threat to creative professions\" during the 2023'),\n",
       " Document(metadata={}, page_content='during the 2023 SAG-AFTRA strike.[107] Voice generation AI has been seen as a potential challenge to the voice acting sector.[108][109]'),\n",
       " Document(metadata={}, page_content='The intersection of AI and employment concerns among underrepresented groups globally remains a critical facet. While AI promises efficiency enhancements and skill acquisition, concerns about job'),\n",
       " Document(metadata={}, page_content='concerns about job displacement and biased recruiting processes persist among these groups, as outlined in surveys by Fast Company. To leverage AI for a more equitable society, proactive steps'),\n",
       " Document(metadata={}, page_content='proactive steps encompass mitigating biases, advocating transparency, respecting privacy and consent, and embracing diverse teams and ethical considerations. Strategies involve redirecting policy'),\n",
       " Document(metadata={}, page_content=\"redirecting policy emphasis on regulation, inclusive design, and education's potential for personalized teaching to maximize benefits while minimizing harms.[110]\"),\n",
       " Document(metadata={}, page_content='Generative AI models can reflect and amplify any cultural bias present in the underlying data. For example, a language model might assume that doctors and judges are male, and that secretaries or'),\n",
       " Document(metadata={}, page_content='that secretaries or nurses are female, if those biases are common in the training data.[111] Similarly, an image model prompted with the text \"a photo of a CEO\" might disproportionately generate'),\n",
       " Document(metadata={}, page_content='generate images of white male CEOs,[112] if trained on a racially biased data set. A number of methods for mitigating bias have been attempted, such as altering input prompts[113] and reweighting'),\n",
       " Document(metadata={}, page_content='and reweighting training data.[114]'),\n",
       " Document(metadata={}, page_content='Deepfakes (a portmanteau of \"deep learning\" and \"fake\"[115]) are AI-generated media that take a person in an existing image or video and replace them with someone else\\'s likeness using artificial'),\n",
       " Document(metadata={}, page_content='using artificial neural networks.[116] Deepfakes have garnered widespread attention and concerns for their uses in deepfake celebrity pornographic videos, revenge porn, fake news, hoaxes, health'),\n",
       " Document(metadata={}, page_content='hoaxes, health disinformation, financial fraud, and covert foreign election interference.[117][118][119][120][121][122][123] This has elicited responses from both industry and government to detect'),\n",
       " Document(metadata={}, page_content='to detect and limit their use.[124][125]'),\n",
       " Document(metadata={}, page_content='In July 2023, the fact-checking company Logically found that the popular generative AI models Midjourney, DALL-E 2 and Stable Diffusion would produce plausible disinformation images when prompted to'),\n",
       " Document(metadata={}, page_content=\"when prompted to do so, such as images of electoral fraud in the United States and Muslim women supporting India's Hindu nationalist Bharatiya Janata Party.[126][127]\"),\n",
       " Document(metadata={}, page_content='In April 2024, a paper proposed to use blockchain (distributed ledger technology) to promote \"transparency, verifiability, and decentralization in AI development and usage\".[128]'),\n",
       " Document(metadata={}, page_content='Instances of users abusing software to generate controversial statements in the vocal style of celebrities, public officials, and other famous individuals have raised ethical concerns over voice'),\n",
       " Document(metadata={}, page_content='concerns over voice generation AI.[129][130][131][132][133][134] In response, companies such as ElevenLabs have stated that they would work on mitigating potential abuse through safeguards and'),\n",
       " Document(metadata={}, page_content='safeguards and identity verification.[135]'),\n",
       " Document(metadata={}, page_content=\"Concerns and fandom have spawned from AI-generated music. The same software used to clone voices has been used on famous musicians' voices to create songs that mimic their voices, gaining both\"),\n",
       " Document(metadata={}, page_content='gaining both tremendous popularity and criticism.[136][137][138] Similar techniques have also been used to create improved quality or full-length versions of songs that have been leaked or have yet'),\n",
       " Document(metadata={}, page_content='leaked or have yet to be released.[139]'),\n",
       " Document(metadata={}, page_content='Generative AI has also been used to create new digital artist personalities, with some of these receiving enough attention to receive record deals at major labels.[140] The developers of these'),\n",
       " Document(metadata={}, page_content='developers of these virtual artists have also faced their fair share of criticism for their personified programs, including backlash for \"dehumanizing\" an artform, and also creating artists which'),\n",
       " Document(metadata={}, page_content='artists which create unrealistic or immoral appeals to their audiences.[141]'),\n",
       " Document(metadata={}, page_content=\"Generative AI's ability to create realistic fake content has been exploited in numerous types of cybercrime, including phishing scams.[142] Deepfake video and audio have been used to create\"),\n",
       " Document(metadata={}, page_content='been used to create disinformation and fraud. Former Google fraud czar Shuman Ghosemajumder has predicted that while deepfake videos initially created a stir in the media, they would soon become'),\n",
       " Document(metadata={}, page_content='would soon become commonplace, and as a result, more dangerous.[143] Additionally, large-language models and other forms of text-generation AI have been at a broad scale to create fake reviews on'),\n",
       " Document(metadata={}, page_content='fake reviews on e-commerce websites to boost ratings.[144] Cybercriminals have created large language models focused on fraud, including WormGPT and FraudGPT.[145]'),\n",
       " Document(metadata={}, page_content='Recent research done in 2023 has revealed that generative AI has weaknesses that can be manipulated by criminals to extract harmful information bypassing ethical safeguards. The study presents'),\n",
       " Document(metadata={}, page_content='The study presents example attacks done on ChatGPT including Jailbreaks and reverse psychology. Additionally, malicious individuals can use ChatGPT for social engineering attacks and phishing'),\n",
       " Document(metadata={}, page_content='and phishing attacks, revealing the harmful side of these technologies.[146]'),\n",
       " Document(metadata={}, page_content='Training frontier AI models requires an enormous amount of computing power. Usually only Big Tech companies have the financial resources to make such investments. Smaller start-ups such as Cohere and'),\n",
       " Document(metadata={}, page_content='such as Cohere and OpenAI end up buying access to data centers from Google and Microsoft respectively.[147]'),\n",
       " Document(metadata={}, page_content='Scientists and journalists have expressed concerns about the environmental impact that the development and deployment of generative models are having: high CO2 emissions,[148][149][150] large amounts'),\n",
       " Document(metadata={}, page_content='large amounts of freshwater used for data centers,[151][152] and high amounts of electricity usage.[153][149][154] There is also concern that these impacts may increase as these models are'),\n",
       " Document(metadata={}, page_content='as these models are incorporated into widely used search engines such as Google Search and Bing;[153] as chatbots and other applications become more popular;[153][152] and as models need to be'),\n",
       " Document(metadata={}, page_content='models need to be retrained.[153]'),\n",
       " Document(metadata={}, page_content='Proposed mitigation strategies include factoring potential environmental costs prior to model development or data collection,[148] increasing efficiency of data centers to reduce electricity/energy'),\n",
       " Document(metadata={}, page_content='electricity/energy usage,[151][153][149][152][154][150] building more efficient machine learning models,[151][149][152] minimizing the number of times that models need to be retrained,[150]'),\n",
       " Document(metadata={}, page_content='be retrained,[150] developing a government-directed framework for auditing the environmental impact of these models,[151][150] regulating for transparency of these models,[150] regulating their'),\n",
       " Document(metadata={}, page_content=\"regulating their energy and water usage,[151] encouraging researchers to publish data on their models' carbon footprint,[153][150] and increasing the number of subject matter experts who understand\"),\n",
       " Document(metadata={}, page_content='who understand both machine learning and climate science.[150]'),\n",
       " Document(metadata={}, page_content='The New York Times defines slop as analogous to spam: \"shoddy or unwanted A.I. content in social media, art, books and ... in search results.\"[155] Journalists have expressed concerns about the scale'),\n",
       " Document(metadata={}, page_content='about the scale of low-quality generated content with respect to social media content moderation,[156] the monetary incentives from social media companies to spread such content,[156][157] false'),\n",
       " Document(metadata={}, page_content='false political messaging,[157] spamming of scientific research paper submissions,[158] increased time and effort to find higher quality or desired content on the Internet,[159] the indexing of'),\n",
       " Document(metadata={}, page_content='the indexing of generated content by search engines,[160] and on journalism itself.[161]'),\n",
       " Document(metadata={}, page_content='A paper published by researchers at Amazon Web Services AI Labs found that over 57% of sentences from a sample of over 6 billion sentences from Common Crawl, a snapshot of web pages, were machine'),\n",
       " Document(metadata={}, page_content='pages, were machine translated. Many of these automated translations were seen as lower quality, especially for sentences were translated across at least three languages. Many lower-resource'),\n",
       " Document(metadata={}, page_content='Many lower-resource languages (ex. Wolof, Xhosa) were translated across more languages than higher-resource languages (ex. English, French).[162][163]'),\n",
       " Document(metadata={}, page_content='In September 2024, Robyn Speer, the author of wordfreq, an open source database that calculated word frequencies based on text from the Internet, announced that she had stopped updating the data for'),\n",
       " Document(metadata={}, page_content='the data for several reasons: high costs for obtaining data from Reddit and Twitter, excessive focus on generative AI compared to other methods in the natural language processing community, and that'),\n",
       " Document(metadata={}, page_content='community, and that \"generative AI has polluted the data\".[164]'),\n",
       " Document(metadata={}, page_content='The adoption of generative AI tools led to an explosion of AI-generated content across multiple domains. A study from University College London estimated that in 2023, more than 60,000 scholarly'),\n",
       " Document(metadata={}, page_content=\"60,000 scholarly articles—over 1% of all publications—were likely written with LLM assistance.[165] According to Stanford University's Institute for Human-Centered AI, approximately 17.5% of newly\"),\n",
       " Document(metadata={}, page_content='17.5% of newly published computer science papers and 16.9% of peer review text now incorporate content generated by LLMs.[166]'),\n",
       " Document(metadata={}, page_content='Visual content follows a similar trend. Since the launch of DALL-E 2 in 2022, it’s estimated that an average of 34 million images have been created daily. As of August 2023, more than 15 billion'),\n",
       " Document(metadata={}, page_content='than 15 billion images had been generated using text-to-image algorithms, with 80% of these created by models based on Stable Diffusion.[167]'),\n",
       " Document(metadata={}, page_content='If AI-generated content is included in new data crawls from the Internet for additional training of AI models, defects in the resulting models may occur.[168] Training an AI model exclusively on the'),\n",
       " Document(metadata={}, page_content=\"exclusively on the output of another AI model produces a lower-quality model. Repeating this process, where each new model is trained on the previous model's output, leads to progressive degradation\"),\n",
       " Document(metadata={}, page_content='degradation and eventually results in a \"model collapse\" after multiple iterations.[169] Tests have been conducted with pattern recognition of handwritten letters and with pictures of human'),\n",
       " Document(metadata={}, page_content='pictures of human faces.[170] As a consequence, the value of data collected from genuine human interactions with systems may become increasingly valuable in the presence of LLM-generated content in'),\n",
       " Document(metadata={}, page_content='content in data crawled from the Internet.'),\n",
       " Document(metadata={}, page_content='On the other side, synthetic data is often used as an alternative to data produced by real-world events. Such data can be deployed to validate mathematical models and to train machine learning models'),\n",
       " Document(metadata={}, page_content='learning models while preserving user privacy,[171] including for structured data.[172] The approach is not limited to text generation; image generation has been employed to train computer vision'),\n",
       " Document(metadata={}, page_content='computer vision models.[173]'),\n",
       " Document(metadata={}, page_content='In January 2023, Futurism.com broke the story that CNET had been using an undisclosed internal AI tool to write at least 77 of its stories; after the news broke, CNET posted corrections to 41 of the'),\n",
       " Document(metadata={}, page_content='to 41 of the stories.[174]'),\n",
       " Document(metadata={}, page_content='In April 2023, the German tabloid Die Aktuelle published a fake AI-generated interview with former racing driver Michael Schumacher, who had not made any public appearances since 2013 after'),\n",
       " Document(metadata={}, page_content='since 2013 after sustaining a brain injury in a skiing accident. The story included two possible disclosures: the cover included the line \"deceptively real\", and the interview included an'),\n",
       " Document(metadata={}, page_content='included an acknowledgment at the end that it was AI-generated. The editor-in-chief was fired shortly thereafter amid the controversy.[175]'),\n",
       " Document(metadata={}, page_content='Other outlets that have published articles whose content and/or byline have been confirmed or suspected to be created by generative AI models – often with false content, errors, and/or non-disclosure'),\n",
       " Document(metadata={}, page_content='non-disclosure of generative AI use - include:'),\n",
       " Document(metadata={}, page_content='In May 2024, Futurism noted that a content management system video by AdVon Commerce, who had used generative AI to produce articles for many of the aforementioned outlets, appeared to show that they'),\n",
       " Document(metadata={}, page_content='to show that they \"had produced tens of thousands of articles for more than 150 publishers.\"[184]'),\n",
       " Document(metadata={}, page_content='News broadcasters in Kuwait, Greece, South Korea, India, China and Taiwan have presented news with anchors based on Generative AI models, prompting concerns about job losses for human anchors and'),\n",
       " Document(metadata={}, page_content='human anchors and audience trust in news that has historically been influenced by parasocial relationships with broadcasters, content creators or social media influencers.[201][202][203]'),\n",
       " Document(metadata={}, page_content='Algorithmically-generated anchors have also been used by allies of ISIS for their broadcasts.[204]'),\n",
       " Document(metadata={}, page_content='In 2023, Google reportedly pitched a tool to news outlets that claimed to \"produce news stories\" based on input data provided, such as \"details of current events\". Some news company executives who'),\n",
       " Document(metadata={}, page_content='executives who viewed the pitch described it as \"[taking] for granted the effort that went into producing accurate and artful news stories.\"[205]'),\n",
       " Document(metadata={}, page_content='In February 2024, Google launched a program to pay small publishers to write three articles per day using a beta generative AI model. The program does not require the knowledge or consent of the'),\n",
       " Document(metadata={}, page_content='or consent of the websites that the publishers are using as sources, nor does it require the published articles to be labeled as being created or assisted by these models.[206]'),\n",
       " Document(metadata={}, page_content='Many defunct news sites (The Hairpin, The Frisky, Apple Daily, Ashland Daily Tidings, Clayton County Register, Southwest Journal) and blogs (The Unofficial Apple Weblog, iLounge) have undergone'),\n",
       " Document(metadata={}, page_content='have undergone cybersquatting, with articles created by generative AI.[207][208][209][210][211][212][213][214]'),\n",
       " Document(metadata={}, page_content='United States Senators Richard Blumenthal and Amy Klobuchar have expressed concern that generative AI could have a harmful impact on local news.[215] In July 2023, OpenAI partnered with the American'),\n",
       " Document(metadata={}, page_content='with the American Journalism Project to fund local news outlets for experimenting with generative AI, with Axios noting the possibility of generative AI companies creating a dependency for these news'),\n",
       " Document(metadata={}, page_content='for these news outlets.[216]'),\n",
       " Document(metadata={}, page_content='Meta AI, a chatbot based on Llama 3 which summarizes news stories, was noted by The Washington Post to copy sentences from those stories without direct attribution and to potentially further decrease'),\n",
       " Document(metadata={}, page_content='further decrease the traffic of online news outlets.[217]'),\n",
       " Document(metadata={}, page_content='In response to potential pitfalls around the use and misuse of generative AI in journalism and worries about declining audience trust, outlets around the world, including publications such as Wired,'),\n",
       " Document(metadata={}, page_content='such as Wired, Associated Press, The Quint, Rappler or The Guardian have published guidelines around how they plan to use and not use AI and generative AI in their work.[218][219][220][221]'),\n",
       " Document(metadata={}, page_content='In June 2024, Reuters Institute published their Digital New Report for 2024. In a survey of people in America and Europe, Reuters Institute reports that 52% and 47% respectively are uncomfortable'),\n",
       " Document(metadata={}, page_content='are uncomfortable with news produced by \"mostly AI with some human oversight\", and 23% and 15% respectively report being comfortable. 42% of Americans and 33% of Europeans reported that they were'),\n",
       " Document(metadata={}, page_content='that they were comfortable with news produced by \"mainly human with some help from AI\". The results of global surveys reported that people were more uncomfortable with news topics including politics'),\n",
       " Document(metadata={}, page_content='including politics (46%), crime (43%), and local news (37%) produced by AI than other news topics.[222]')]"
      ]
     },
     "execution_count": 115,
     "metadata": {},
     "output_type": "execute_result"
    }
   ],
   "source": [
    "texts"
   ]
  },
  {
   "cell_type": "code",
   "execution_count": 116,
   "metadata": {},
   "outputs": [
    {
     "data": {
      "text/plain": [
       "[Document(metadata={}, page_content='Generative artificial intelligence (generative AI, GenAI,[1] or GAI) is a subset of artificial intelligence that uses generative models to produce text, images, videos, or other forms of'),\n",
       " Document(metadata={}, page_content='Generative artificial intelligence (generative AI, GenAI,[1] or GAI) is a subset of artificial intelligence that uses generative models to produce text, images, videos, or other forms of'),\n",
       " Document(metadata={}, page_content='Generative artificial intelligence (generative AI, GenAI,[1] or GAI) is a subset of artificial intelligence that uses generative models to produce text, images, videos, or other forms of'),\n",
       " Document(metadata={}, page_content='Generative artificial intelligence (generative AI, GenAI,[1] or GAI) is a subset of artificial intelligence that uses generative models to produce text, images, videos, or other forms of'),\n",
       " Document(metadata={}, page_content='Generative artificial intelligence (generative AI, GenAI,[1] or GAI) is a subset of artificial intelligence that uses generative models to produce text, images, videos, or other forms of')]"
      ]
     },
     "execution_count": 116,
     "metadata": {},
     "output_type": "execute_result"
    }
   ],
   "source": [
    "query = \"what is generative AI?\"\n",
    "results = vectorstore.similarity_search(query, k= 5)\n",
    "results"
   ]
  },
  {
   "cell_type": "code",
   "execution_count": 117,
   "metadata": {},
   "outputs": [
    {
     "name": "stdout",
     "output_type": "stream",
     "text": [
      "Generative artificial intelligence (generative AI, GenAI,[1] or GAI) is a subset of artificial intelligence that uses generative models to produce text, images, videos, or other forms of\n",
      "\n",
      "\n",
      "Generative artificial intelligence (generative AI, GenAI,[1] or GAI) is a subset of artificial intelligence that uses generative models to produce text, images, videos, or other forms of\n",
      "\n",
      "\n",
      "Generative artificial intelligence (generative AI, GenAI,[1] or GAI) is a subset of artificial intelligence that uses generative models to produce text, images, videos, or other forms of\n",
      "\n",
      "\n",
      "Generative artificial intelligence (generative AI, GenAI,[1] or GAI) is a subset of artificial intelligence that uses generative models to produce text, images, videos, or other forms of\n",
      "\n",
      "\n",
      "Generative artificial intelligence (generative AI, GenAI,[1] or GAI) is a subset of artificial intelligence that uses generative models to produce text, images, videos, or other forms of\n",
      "\n",
      "\n"
     ]
    }
   ],
   "source": [
    "for i in results:\n",
    "    print(i.page_content)\n",
    "    print('\\n')"
   ]
  },
  {
   "cell_type": "code",
   "execution_count": null,
   "metadata": {},
   "outputs": [],
   "source": []
  }
 ],
 "metadata": {
  "kernelspec": {
   "display_name": "Python 3",
   "language": "python",
   "name": "python3"
  },
  "language_info": {
   "codemirror_mode": {
    "name": "ipython",
    "version": 3
   },
   "file_extension": ".py",
   "mimetype": "text/x-python",
   "name": "python",
   "nbconvert_exporter": "python",
   "pygments_lexer": "ipython3",
   "version": "3.12.5"
  }
 },
 "nbformat": 4,
 "nbformat_minor": 2
}
