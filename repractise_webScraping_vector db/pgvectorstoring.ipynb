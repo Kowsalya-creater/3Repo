{
 "cells": [
  {
   "cell_type": "code",
   "execution_count": 2,
   "metadata": {},
   "outputs": [
    {
     "name": "stdout",
     "output_type": "stream",
     "text": [
      "Requirement already satisfied: langchain_text_splitters in /Library/Frameworks/Python.framework/Versions/3.12/lib/python3.12/site-packages (0.3.4)\n",
      "Requirement already satisfied: sentence_transformers in /Library/Frameworks/Python.framework/Versions/3.12/lib/python3.12/site-packages (3.3.1)\n",
      "Collecting psycopg2\n",
      "  Using cached psycopg2-2.9.10.tar.gz (385 kB)\n",
      "  Preparing metadata (setup.py) ... \u001b[?25lerror\n",
      "  \u001b[1;31merror\u001b[0m: \u001b[1msubprocess-exited-with-error\u001b[0m\n",
      "  \n",
      "  \u001b[31m×\u001b[0m \u001b[32mpython setup.py egg_info\u001b[0m did not run successfully.\n",
      "  \u001b[31m│\u001b[0m exit code: \u001b[1;36m1\u001b[0m\n",
      "  \u001b[31m╰─>\u001b[0m \u001b[31m[23 lines of output]\u001b[0m\n",
      "  \u001b[31m   \u001b[0m running egg_info\n",
      "  \u001b[31m   \u001b[0m creating /private/var/folders/nd/xwbfh8j15ns8r8qh7y74z9n00000gn/T/pip-pip-egg-info-ghsyrwvm/psycopg2.egg-info\n",
      "  \u001b[31m   \u001b[0m writing /private/var/folders/nd/xwbfh8j15ns8r8qh7y74z9n00000gn/T/pip-pip-egg-info-ghsyrwvm/psycopg2.egg-info/PKG-INFO\n",
      "  \u001b[31m   \u001b[0m writing dependency_links to /private/var/folders/nd/xwbfh8j15ns8r8qh7y74z9n00000gn/T/pip-pip-egg-info-ghsyrwvm/psycopg2.egg-info/dependency_links.txt\n",
      "  \u001b[31m   \u001b[0m writing top-level names to /private/var/folders/nd/xwbfh8j15ns8r8qh7y74z9n00000gn/T/pip-pip-egg-info-ghsyrwvm/psycopg2.egg-info/top_level.txt\n",
      "  \u001b[31m   \u001b[0m writing manifest file '/private/var/folders/nd/xwbfh8j15ns8r8qh7y74z9n00000gn/T/pip-pip-egg-info-ghsyrwvm/psycopg2.egg-info/SOURCES.txt'\n",
      "  \u001b[31m   \u001b[0m \n",
      "  \u001b[31m   \u001b[0m Error: pg_config executable not found.\n",
      "  \u001b[31m   \u001b[0m \n",
      "  \u001b[31m   \u001b[0m pg_config is required to build psycopg2 from source.  Please add the directory\n",
      "  \u001b[31m   \u001b[0m containing pg_config to the $PATH or specify the full executable path with the\n",
      "  \u001b[31m   \u001b[0m option:\n",
      "  \u001b[31m   \u001b[0m \n",
      "  \u001b[31m   \u001b[0m     python setup.py build_ext --pg-config /path/to/pg_config build ...\n",
      "  \u001b[31m   \u001b[0m \n",
      "  \u001b[31m   \u001b[0m or with the pg_config option in 'setup.cfg'.\n",
      "  \u001b[31m   \u001b[0m \n",
      "  \u001b[31m   \u001b[0m If you prefer to avoid building psycopg2 from source, please install the PyPI\n",
      "  \u001b[31m   \u001b[0m 'psycopg2-binary' package instead.\n",
      "  \u001b[31m   \u001b[0m \n",
      "  \u001b[31m   \u001b[0m For further information please check the 'doc/src/install.rst' file (also at\n",
      "  \u001b[31m   \u001b[0m <https://www.psycopg.org/docs/install.html>).\n",
      "  \u001b[31m   \u001b[0m \n",
      "  \u001b[31m   \u001b[0m \u001b[31m[end of output]\u001b[0m\n",
      "  \n",
      "  \u001b[1;35mnote\u001b[0m: This error originates from a subprocess, and is likely not a problem with pip.\n",
      "\u001b[?25h\u001b[1;31merror\u001b[0m: \u001b[1mmetadata-generation-failed\u001b[0m\n",
      "\n",
      "\u001b[31m×\u001b[0m Encountered error while generating package metadata.\n",
      "\u001b[31m╰─>\u001b[0m See above for output.\n",
      "\n",
      "\u001b[1;35mnote\u001b[0m: This is an issue with the package mentioned above, not pip.\n",
      "\u001b[1;36mhint\u001b[0m: See above for details.\n",
      "Note: you may need to restart the kernel to use updated packages.\n"
     ]
    }
   ],
   "source": [
    "#langchain_text_splitter sentence_transformers psycopg2\n",
    "%pip install langchain_text_splitters sentence_transformers psycopg2"
   ]
  },
  {
   "cell_type": "code",
   "execution_count": 3,
   "metadata": {},
   "outputs": [
    {
     "name": "stdout",
     "output_type": "stream",
     "text": [
      "Requirement already satisfied: sentence-transformers in /Library/Frameworks/Python.framework/Versions/3.12/lib/python3.12/site-packages (3.3.1)\n",
      "Requirement already satisfied: transformers<5.0.0,>=4.41.0 in /Library/Frameworks/Python.framework/Versions/3.12/lib/python3.12/site-packages (from sentence-transformers) (4.46.2)\n",
      "Requirement already satisfied: tqdm in /Library/Frameworks/Python.framework/Versions/3.12/lib/python3.12/site-packages (from sentence-transformers) (4.67.0)\n",
      "Requirement already satisfied: torch>=1.11.0 in /Library/Frameworks/Python.framework/Versions/3.12/lib/python3.12/site-packages (from sentence-transformers) (2.2.2)\n",
      "Requirement already satisfied: scikit-learn in /Library/Frameworks/Python.framework/Versions/3.12/lib/python3.12/site-packages (from sentence-transformers) (1.5.2)\n",
      "Requirement already satisfied: scipy in /Library/Frameworks/Python.framework/Versions/3.12/lib/python3.12/site-packages (from sentence-transformers) (1.13.1)\n",
      "Requirement already satisfied: huggingface-hub>=0.20.0 in /Library/Frameworks/Python.framework/Versions/3.12/lib/python3.12/site-packages (from sentence-transformers) (0.26.2)\n",
      "Requirement already satisfied: Pillow in /Library/Frameworks/Python.framework/Versions/3.12/lib/python3.12/site-packages (from sentence-transformers) (10.4.0)\n",
      "Requirement already satisfied: filelock in /Library/Frameworks/Python.framework/Versions/3.12/lib/python3.12/site-packages (from huggingface-hub>=0.20.0->sentence-transformers) (3.16.1)\n",
      "Requirement already satisfied: fsspec>=2023.5.0 in /Library/Frameworks/Python.framework/Versions/3.12/lib/python3.12/site-packages (from huggingface-hub>=0.20.0->sentence-transformers) (2024.9.0)\n",
      "Requirement already satisfied: packaging>=20.9 in /Users/kowsalyasitharthaun/Library/Python/3.12/lib/python/site-packages (from huggingface-hub>=0.20.0->sentence-transformers) (24.1)\n",
      "Requirement already satisfied: pyyaml>=5.1 in /Library/Frameworks/Python.framework/Versions/3.12/lib/python3.12/site-packages (from huggingface-hub>=0.20.0->sentence-transformers) (6.0.2)\n",
      "Requirement already satisfied: requests in /Library/Frameworks/Python.framework/Versions/3.12/lib/python3.12/site-packages (from huggingface-hub>=0.20.0->sentence-transformers) (2.32.3)\n",
      "Requirement already satisfied: typing-extensions>=3.7.4.3 in /Library/Frameworks/Python.framework/Versions/3.12/lib/python3.12/site-packages (from huggingface-hub>=0.20.0->sentence-transformers) (4.12.2)\n",
      "Requirement already satisfied: sympy in /Library/Frameworks/Python.framework/Versions/3.12/lib/python3.12/site-packages (from torch>=1.11.0->sentence-transformers) (1.13.3)\n",
      "Requirement already satisfied: networkx in /Library/Frameworks/Python.framework/Versions/3.12/lib/python3.12/site-packages (from torch>=1.11.0->sentence-transformers) (3.4.2)\n",
      "Requirement already satisfied: jinja2 in /Library/Frameworks/Python.framework/Versions/3.12/lib/python3.12/site-packages (from torch>=1.11.0->sentence-transformers) (3.1.4)\n",
      "Requirement already satisfied: numpy>=1.17 in /Library/Frameworks/Python.framework/Versions/3.12/lib/python3.12/site-packages (from transformers<5.0.0,>=4.41.0->sentence-transformers) (1.26.4)\n",
      "Requirement already satisfied: regex!=2019.12.17 in /Library/Frameworks/Python.framework/Versions/3.12/lib/python3.12/site-packages (from transformers<5.0.0,>=4.41.0->sentence-transformers) (2024.11.6)\n",
      "Requirement already satisfied: safetensors>=0.4.1 in /Library/Frameworks/Python.framework/Versions/3.12/lib/python3.12/site-packages (from transformers<5.0.0,>=4.41.0->sentence-transformers) (0.4.5)\n",
      "Requirement already satisfied: tokenizers<0.21,>=0.20 in /Library/Frameworks/Python.framework/Versions/3.12/lib/python3.12/site-packages (from transformers<5.0.0,>=4.41.0->sentence-transformers) (0.20.3)\n",
      "Requirement already satisfied: joblib>=1.2.0 in /Library/Frameworks/Python.framework/Versions/3.12/lib/python3.12/site-packages (from scikit-learn->sentence-transformers) (1.4.2)\n",
      "Requirement already satisfied: threadpoolctl>=3.1.0 in /Library/Frameworks/Python.framework/Versions/3.12/lib/python3.12/site-packages (from scikit-learn->sentence-transformers) (3.5.0)\n",
      "Requirement already satisfied: MarkupSafe>=2.0 in /Library/Frameworks/Python.framework/Versions/3.12/lib/python3.12/site-packages (from jinja2->torch>=1.11.0->sentence-transformers) (3.0.2)\n",
      "Requirement already satisfied: charset-normalizer<4,>=2 in /Library/Frameworks/Python.framework/Versions/3.12/lib/python3.12/site-packages (from requests->huggingface-hub>=0.20.0->sentence-transformers) (3.4.0)\n",
      "Requirement already satisfied: idna<4,>=2.5 in /Library/Frameworks/Python.framework/Versions/3.12/lib/python3.12/site-packages (from requests->huggingface-hub>=0.20.0->sentence-transformers) (3.10)\n",
      "Requirement already satisfied: urllib3<3,>=1.21.1 in /Library/Frameworks/Python.framework/Versions/3.12/lib/python3.12/site-packages (from requests->huggingface-hub>=0.20.0->sentence-transformers) (2.2.3)\n",
      "Requirement already satisfied: certifi>=2017.4.17 in /Library/Frameworks/Python.framework/Versions/3.12/lib/python3.12/site-packages (from requests->huggingface-hub>=0.20.0->sentence-transformers) (2024.8.30)\n",
      "Requirement already satisfied: mpmath<1.4,>=1.1.0 in /Library/Frameworks/Python.framework/Versions/3.12/lib/python3.12/site-packages (from sympy->torch>=1.11.0->sentence-transformers) (1.3.0)\n",
      "Note: you may need to restart the kernel to use updated packages.\n"
     ]
    }
   ],
   "source": [
    "%pip install -U sentence-transformers"
   ]
  },
  {
   "cell_type": "code",
   "execution_count": 4,
   "metadata": {},
   "outputs": [
    {
     "name": "stdout",
     "output_type": "stream",
     "text": [
      "Requirement already satisfied: psycopg2-binary in /Library/Frameworks/Python.framework/Versions/3.12/lib/python3.12/site-packages (2.9.10)\n",
      "Note: you may need to restart the kernel to use updated packages.\n"
     ]
    }
   ],
   "source": [
    "%pip install psycopg2-binary\n",
    "\n"
   ]
  },
  {
   "cell_type": "code",
   "execution_count": 5,
   "metadata": {},
   "outputs": [],
   "source": [
    "from langchain_text_splitters import RecursiveCharacterTextSplitter"
   ]
  },
  {
   "cell_type": "code",
   "execution_count": 6,
   "metadata": {},
   "outputs": [
    {
     "data": {
      "text/plain": [
       "'\\nGenerative artificial intelligence (generative AI, GenAI,[1] or GAI) is a subset of artificial intelligence that uses generative models to produce text, images, videos, or other forms of data.[2][3][4] These models learn the underlying patterns and structures of their training data and use them to produce new data[5][6] based on the input, which often comes in the form of natural language prompts.[7][8]\\nImprovements in transformer-based deep neural networks, particularly large language models (LLMs), enabled an AI boom of generative AI systems in the early 2020s. These include chatbots such as ChatGPT, Copilot, Gemini, and LLaMA; text-to-image artificial intelligence image generation systems such as Stable Diffusion, Midjourney, and DALL-E; and text-to-video AI generators such as Sora.[9][10][11][12] Companies such as OpenAI, Anthropic, Microsoft, Google, and Baidu as well as numerous smaller firms have developed generative AI models.[7][13][14]\\nGenerative AI has uses across a wide range of industries, including software development, healthcare, finance, entertainment, customer service,[15] sales and marketing,[16] art, writing,[17] fashion,[18] and product design.[19] However, concerns have been raised about the potential misuse of generative AI such as cybercrime, the use of fake news or deepfakes to deceive or manipulate people, and the mass replacement of human jobs.[20][21] Intellectual property law concerns also exist around generative models that are trained on and emulate copyrighted works of art.[22]\\nSince its inception, researchers in the field have raised philosophical and ethical arguments about the nature of the human mind and the consequences of creating artificial beings with human-like intelligence; these issues have previously been explored by myth, fiction and philosophy since antiquity.[23] The concept of automated art dates back at least to the automata of ancient Greek civilization, where inventors such as Daedalus and Hero of Alexandria were described as having designed machines capable of writing text, generating sounds, and playing music.[24][25] The tradition of creative automations has flourished throughout history, exemplified by Maillardet\\'s automaton created in the early 1800s.[26] Markov chains have long been used to model natural languages since their development by Russian mathematician Andrey Markov in the early 20th century. Markov published his first paper on the topic in 1906,[27][28] and analyzed the pattern of vowels and consonants in the novel Eugeny Onegin using Markov chains. Once a Markov chain is learned on a text corpus, it can then be used as a probabilistic text generator.[29][30]\\nThe academic discipline of artificial intelligence was established at a research workshop held at Dartmouth College in 1956 and has experienced several waves of advancement and optimism in the decades since.[31] Artificial Intelligence research began in the 1950s with works like Computing Machinery and Intelligence (1950) and the 1956 Dartmouth Summer Research Project on AI. Since the 1950s, artists and researchers have used artificial intelligence to create artistic works. By the early 1970s, Harold Cohen was creating and exhibiting generative AI works created by AARON, the computer program Cohen created to generate paintings.[32]\\nThe terms generative AI planning or generative planning were used in the 1980s and 1990s to refer to AI planning systems, especially computer-aided process planning, used to generate sequences of actions to reach a specified goal.[33][34] Generative AI planning systems used symbolic AI methods such as state space search and constraint satisfaction and were a \"relatively mature\" technology by the early 1990s. They were used to generate crisis action plans for military use,[35] process plans for manufacturing[33] and decision plans such as in prototype autonomous spacecraft.[36]\\nSince its inception, the field of machine learning used both discriminative models and generative models, to model and predict data. Beginning in the late 2000s, the emergence of deep learning drove progress and research in image classification, speech recognition, natural language processing and other tasks. Neural networks in this era were typically trained as discriminative models, due to the difficulty of generative modeling.[37]\\nIn 2014, advancements such as the variational autoencoder and generative adversarial network produced the first practical deep neural networks capable of learning generative models, as opposed to discriminative ones, for complex data such as images. These deep generative models were the first to output not only class labels for images but also entire images.\\nIn 2017, the Transformer network enabled advancements in generative models compared to older Long-Short Term Memory models,[38] leading to the first generative pre-trained transformer (GPT), known as GPT-1, in 2018.[39] This was followed in 2019 by GPT-2 which demonstrated the ability to generalize unsupervised to many different tasks as a Foundation model.[40]\\nThe new generative models introduced during this period allowed for large neural networks to be trained using unsupervised learning or semi-supervised learning, rather than the supervised learning typical of discriminative models. Unsupervised learning removed the need for humans to manually label data, allowing for larger networks to be trained.[41]\\nIn 2021, the release of DALL-E, a transformer-based pixel generative model, followed by Midjourney and Stable Diffusion marked the emergence of practical high-quality artificial intelligence art from natural language prompts.\\nIn 2022, the public release of ChatGPT popularized the use of generative AI for general-purpose text-based tasks.[42]\\nIn March 2023, GPT-4 was released. A team from Microsoft Research argued that \"it could reasonably be viewed as an early (yet still incomplete) version of an artificial general intelligence (AGI) system\".[43] Other scholars have disputed that GPT-4 reaches this threshold, calling generative AI \"still far from reaching the benchmark of ‘general human intelligence’\" as of 2023.[44] In 2023, Meta released an AI model called ImageBind which combines data from text, images, video, thermal data, 3D data, audio, and motion which is expected to allow for more immersive generative AI content.[45][46]\\nAccording to a survey by SAS and Coleman Parkes Research, China is leading the world in adopting generative AI, with 83% of Chinese respondents using the technology, surpassing the global average of 54% and the U.S. at 65%. A UN report revealed China filed over 38,000 GenAI patents from 2014 to 2023, far exceeding the U.S.[47]\\nA generative AI system is constructed by applying unsupervised machine learning (invoking  for instance neural network architectures such as GANs, VAE, Transformer, ...)  or self-supervised machine learning to a data set. The capabilities of a generative AI system depend on the modality or type of the data set used.\\nGenerative AI can be either unimodal or multimodal; unimodal systems take only one type of input, whereas multimodal systems can take more than one type of input.[48] For example, one version of OpenAI\\'s GPT-4 accepts both text and image inputs.[49]\\nGenerative AI systems trained on words or word tokens include GPT-3, GPT-4, GPT-4o, LaMDA, LLaMA, BLOOM, Gemini and others (see List of large language models). They are capable of natural language processing, machine translation, and natural language generation and can be used as foundation models for other tasks.[51] Data sets include BookCorpus, Wikipedia, and others (see List of text corpora).\\nIn addition to natural language text, large language models can be trained on programming language text, allowing them to generate source code for new computer programs.[52] Examples include OpenAI Codex.\\nProducing high-quality visual art is a prominent application of generative AI.[53] Generative AI systems trained on sets of images with text captions include Imagen, DALL-E, Midjourney, Adobe Firefly, FLUX.1, Stable Diffusion and others (see Artificial intelligence art, Generative art, and Synthetic media). They are commonly used for text-to-image generation and neural style transfer.[54] Datasets include LAION-5B and others (see List of datasets in computer vision and image processing).\\n\\nGenerative AI can also be trained extensively on audio clips to produce natural-sounding speech synthesis and text-to-speech capabilities, exemplified by ElevenLabs\\' context-aware synthesis tools or Meta Platform\\'s Voicebox.[55]Generative AI systems such as MusicLM[56] and MusicGen[57] can also be trained on the audio waveforms of recorded music along with text annotations, in order to generate new musical samples based on text descriptions such as a calming violin melody backed by a distorted guitar riff.\\nAudio deepfakes of lyrics have been generated, like the song Savages, which used AI to mimic rapper Jay-Z\\'s vocals. Music artist\\'s instrumentals and lyrics are copyrighted but their voices aren\\'t protected from regenerative AI yet, raising a debate about whether artists should get royalties from audio deepfakes.[58]\\nMany AI music generators have been created that can be generated using a text phrase, genre options, and looped libraries of bars and riffs.[59]\\nGenerative AI trained on annotated video can generate temporally-coherent, detailed and photorealistic video clips. Examples include Sora by OpenAI,[12] Gen-1 and Gen-2 by Runway,[60] and Make-A-Video by Meta Platforms.[61]\\nGenerative AI can also be trained on the motions of a robotic system to generate new trajectories for motion planning or navigation. For example, UniPi from Google Research uses prompts like \"pick up blue bowl\" or \"wipe plate with yellow sponge\" to control movements of a robot arm.[62] Multimodal \"vision-language-action\" models such as Google\\'s RT-2 can perform rudimentary reasoning in response to user prompts and visual input, such as picking up a toy dinosaur when given the prompt pick up the extinct animal at a table filled with toy animals and other objects.[63]\\nArtificially intelligent computer-aided design (CAD) can use text-to-3D, image-to-3D, and video-to-3D to automate 3D modeling.[64] AI-based CAD libraries could also be developed using linked open data of schematics and diagrams.[65] AI CAD assistants are used as tools to help streamline workflow.[66]\\nGenerative AI models are used to power chatbot products such as ChatGPT, programming tools such as GitHub Copilot,[67] text-to-image products such as Midjourney, and text-to-video products such as Runway Gen-2.[68] Generative AI features have been integrated into a variety of existing commercially available products such as Microsoft Office (Microsoft Copilot),[69] Google Photos,[70] and the Adobe Suite (Adobe Firefly).[71] Many generative AI models are also available as open-source software, including Stable Diffusion and the LLaMA[72] language model.\\nSmaller generative AI models with up to a few billion parameters can run on smartphones, embedded devices, and personal computers. For example, LLaMA-7B (a version with 7 billion parameters) can run on a Raspberry Pi 4[73] and one version of Stable Diffusion can run on an iPhone 11.[74]\\nLarger models with tens of billions of parameters can run on laptop or desktop computers. To achieve an acceptable speed, models of this size may require accelerators such as the GPU chips produced by NVIDIA and AMD or the Neural Engine included in Apple silicon products. For example, the 65 billion parameter version of LLaMA can be configured to run on a desktop PC.[75]\\nThe advantages of running generative AI locally include protection of privacy and intellectual property, and avoidance of rate limiting and censorship. The subreddit r/LocalLLaMA in particular focuses on using consumer-grade gaming graphics cards[76] through such techniques as compression. That forum is one of only two sources Andrej Karpathy trusts for language model benchmarks.[77] Yann LeCun has advocated open-source models for their value to vertical applications[78] and for improving AI safety.[79]\\nLanguage models with hundreds of billions of parameters, such as GPT-4 or PaLM, typically run on datacenter computers equipped with arrays of GPUs (such as NVIDIA\\'s H100) or AI accelerator chips (such as Google\\'s TPU). These very large models are typically accessed as cloud services over the Internet.\\nIn 2022, the United States New Export Controls on Advanced Computing and Semiconductors to China imposed restrictions on exports to China of GPU and AI accelerator chips used for generative AI.[80] Chips such as the NVIDIA A800[81] and the Biren Technology BR104[82] were developed to meet the requirements of the sanctions.\\nThere is free software on the market capable of recognizing text generated by generative artificial intelligence (such as GPTZero), as well as images, audio or video coming from it.[83] Potential mitigation strategies for detecting generative AI content include digital watermarking, content authentication, information retrieval, and machine learning classifier models.[84] Despite claims of accuracy, both free and paid AI text detectors have frequently produced false positives, mistakenly accusing students of submitting AI-generated work.[85][86]\\nIn the United States, a group of companies including OpenAI, Alphabet, and Meta signed a voluntary agreement with the Biden administration in July 2023 to watermark AI-generated content.[87] In October 2023, Executive Order 14110 applied the Defense Production Act to require all US companies to report information to the federal government when training certain high-impact AI models.[88][89]\\nIn the European Union, the proposed Artificial Intelligence Act includes requirements to disclose copyrighted material used to train generative AI systems, and to label any AI-generated output as such.[90][91]\\nIn China, the Interim Measures for the Management of Generative AI Services introduced by the Cyberspace Administration of China regulates any public-facing generative AI. It includes requirements to watermark generated images or videos, regulations on training data and label quality, restrictions on personal data collection, and a guideline that generative AI must \"adhere to socialist core values\".[92][93]\\nGenerative AI systems such as ChatGPT and Midjourney are trained on large, publicly available datasets that include copyrighted works. AI developers have argued that such training is protected under fair use, while copyright holders have argued that it infringes their rights.[94]\\nProponents of fair use training have argued that it is a transformative use and does not involve making copies of copyrighted works available to the public.[94] Critics have argued that image generators such as Midjourney can create nearly-identical copies of some copyrighted images,[95] and that generative AI programs compete with the content they are trained on.[96]\\nAs of 2024, several lawsuits related to the use of copyrighted material in training are ongoing.\\nGetty Images has sued Stability AI over the use of its images to train Stable diffusion.[97] Both the Authors Guild and The New York Times have sued Microsoft and OpenAI over the use of their works to train ChatGPT.[98][99]\\nA separate question is whether AI-generated works can qualify for copyright protection. The United States Copyright Office has ruled that works created by artificial intelligence without any human input cannot be copyrighted, because they lack human authorship.[100] However, the office has also begun taking public input to determine if these rules need to be refined for generative AI.[101]\\nThe development of generative AI has raised concerns from governments, businesses, and individuals, resulting in protests, legal actions, calls to pause AI experiments, and actions by multiple governments. In a July 2023 briefing of the United Nations Security Council, Secretary-General António Guterres stated \"Generative AI has enormous potential for good and evil at scale\", that AI may \"turbocharge global development\" and contribute between $10 and $15 trillion to the global economy by 2030, but that its malicious use \"could cause horrific levels of death and destruction, widespread trauma, and deep psychological damage on an unimaginable scale\".[102]\\nFrom the early days of the development of AI, there have been arguments put forward by ELIZA creator Joseph Weizenbaum and others about whether tasks that can be done by computers actually should be done by them, given the difference between computers and humans, and between quantitative calculations and qualitative, value-based judgements.[104] In April 2023, it was reported that image generation AI has resulted in 70% of the jobs for video game illustrators in China being lost.[105][106] In July 2023, developments in generative AI contributed to the 2023 Hollywood labor disputes. Fran Drescher, president of the Screen Actors Guild, declared that \"artificial intelligence poses an existential threat to creative professions\" during the 2023 SAG-AFTRA strike.[107] Voice generation AI has been seen as a potential challenge to the voice acting sector.[108][109]\\nThe intersection of AI and employment concerns among underrepresented groups globally remains a critical facet. While AI promises efficiency enhancements and skill acquisition, concerns about job displacement and biased recruiting processes persist among these groups, as outlined in surveys by Fast Company. To leverage AI for a more equitable society, proactive steps encompass mitigating biases, advocating transparency, respecting privacy and consent, and embracing diverse teams and ethical considerations. Strategies involve redirecting policy emphasis on regulation, inclusive design, and education\\'s potential for personalized teaching to maximize benefits while minimizing harms.[110]\\nGenerative AI models can reflect and amplify any cultural bias present in the underlying data. For example, a language model might assume that doctors and judges are male, and that secretaries or nurses are female, if those biases are common in the training data.[111] Similarly, an image model prompted with the text \"a photo of a CEO\" might disproportionately generate images of white male CEOs,[112] if trained on a racially biased data set. A number of methods for mitigating bias have been attempted, such as altering input prompts[113] and reweighting training data.[114]\\nDeepfakes (a portmanteau of \"deep learning\" and \"fake\"[115]) are AI-generated media that take a person in an existing image or video and replace them with someone else\\'s likeness using artificial neural networks.[116] Deepfakes have garnered widespread attention and concerns for their uses in deepfake celebrity pornographic videos, revenge porn, fake news, hoaxes, health disinformation, financial fraud, and covert foreign election interference.[117][118][119][120][121][122][123] This has elicited responses from both industry and government to detect and limit their use.[124][125]\\nIn July 2023, the fact-checking company Logically found that the popular generative AI models Midjourney, DALL-E 2 and Stable Diffusion would produce plausible disinformation images when prompted to do so, such as images of electoral fraud in the United States and Muslim women supporting India\\'s Hindu nationalist Bharatiya Janata Party.[126][127]\\nIn April 2024, a paper proposed to use blockchain (distributed ledger technology) to promote \"transparency, verifiability, and decentralization in AI development and usage\".[128]\\nInstances of users abusing software to generate controversial statements in the vocal style of celebrities, public officials, and other famous individuals have raised ethical concerns over voice generation AI.[129][130][131][132][133][134] In response, companies such as ElevenLabs have stated that they would work on mitigating potential abuse through safeguards and identity verification.[135]\\nConcerns and fandom have spawned from AI-generated music. The same software used to clone voices has been used on famous musicians\\' voices to create songs that mimic their voices, gaining both tremendous popularity and criticism.[136][137][138] Similar techniques have also been used to create improved quality or full-length versions of songs that have been leaked or have yet to be released.[139]\\nGenerative AI has also been used to create new digital artist personalities, with some of these receiving enough attention to receive record deals at major labels.[140] The developers of these virtual artists have also faced their fair share of criticism for their personified programs, including backlash for \"dehumanizing\" an artform, and also creating artists which create unrealistic or immoral appeals to their audiences.[141]\\nGenerative AI\\'s ability to create realistic fake content has been exploited in numerous types of cybercrime, including phishing scams.[142] Deepfake video and audio have been used to create disinformation and fraud. Former Google fraud czar Shuman Ghosemajumder has predicted that while deepfake videos initially created a stir in the media, they would soon become commonplace, and as a result, more dangerous.[143] Additionally, large-language models and other forms of text-generation AI have been at a broad scale to create fake reviews on e-commerce websites to boost ratings.[144] Cybercriminals have created large language models focused on fraud, including WormGPT and FraudGPT.[145]\\nRecent research done in 2023 has revealed that generative AI has weaknesses that can be manipulated by criminals to extract harmful information bypassing ethical safeguards. The study presents example attacks done on ChatGPT including Jailbreaks and reverse psychology. Additionally, malicious individuals can use ChatGPT for social engineering attacks and phishing attacks, revealing the harmful side of these technologies.[146]\\nTraining frontier AI models requires an enormous amount of computing power. Usually only Big Tech companies have the financial resources to make such investments. Smaller start-ups such as Cohere and OpenAI end up buying access to data centers from Google and Microsoft respectively.[147]\\nScientists and journalists have expressed concerns about the environmental impact that the development and deployment of generative models are having: high CO2 emissions,[148][149][150] large amounts of freshwater used for data centers,[151][152] and high amounts of electricity usage.[153][149][154] There is also concern that these impacts may increase as these models are incorporated into widely used search engines such as Google Search and Bing;[153] as chatbots and other applications become more popular;[153][152] and as models need to be retrained.[153]\\nProposed mitigation strategies include factoring potential environmental costs prior to model development or data collection,[148] increasing efficiency of data centers to reduce electricity/energy usage,[151][153][149][152][154][150] building more efficient machine learning models,[151][149][152] minimizing the number of times that models need to be retrained,[150] developing a government-directed framework for auditing the environmental impact of these models,[151][150] regulating for transparency of these models,[150] regulating their energy and water usage,[151] encouraging researchers to publish data on their models\\' carbon footprint,[153][150] and increasing the number of subject matter experts who understand both machine learning and climate science.[150]\\nThe New York Times defines slop as analogous to spam: \"shoddy or unwanted A.I. content in social media, art, books and ... in search results.\"[155] Journalists have expressed concerns about the scale of low-quality generated content with respect to social media content moderation,[156] the monetary incentives from social media companies to spread such content,[156][157] false political messaging,[157] spamming of scientific research paper submissions,[158] increased time and effort to find higher quality or desired content on the Internet,[159] the indexing of generated content by search engines,[160] and on journalism itself.[161]\\nA paper published by researchers at Amazon Web Services AI Labs found that over 57% of sentences from a sample of over 6 billion sentences from Common Crawl, a snapshot of web pages, were machine translated. Many of these automated translations were seen as lower quality, especially for sentences were translated across at least three languages. Many lower-resource languages (ex. Wolof, Xhosa) were translated across more languages than higher-resource languages (ex. English, French).[162][163]\\nIn September 2024, Robyn Speer, the author of wordfreq, an open source database that calculated word frequencies based on text from the Internet, announced that she had stopped updating the data for several reasons: high costs for obtaining data from Reddit and Twitter, excessive focus on generative AI compared to other methods in the natural language processing community, and that \"generative AI has polluted the data\".[164]\\nThe adoption of generative AI tools led to an explosion of AI-generated content across multiple domains. A study from University College London estimated that in 2023, more than 60,000 scholarly articles—over 1% of all publications—were likely written with LLM assistance.[165] According to Stanford University\\'s Institute for Human-Centered AI, approximately 17.5% of newly published computer science papers and 16.9% of peer review text now incorporate content generated by LLMs.[166]\\nVisual content follows a similar trend. Since the launch of DALL-E 2 in 2022, it’s estimated that an average of 34 million images have been created daily. As of August 2023, more than 15 billion images had been generated using text-to-image algorithms, with 80% of these created by models based on Stable Diffusion.[167]\\nIf AI-generated content is included in new data crawls from the Internet for additional training of AI models, defects in the resulting models may occur.[168] Training an AI model exclusively on the output of another AI model produces a lower-quality model. Repeating this process, where each new model is trained on the previous model\\'s output, leads to progressive degradation and eventually results in a \"model collapse\" after multiple iterations.[169] Tests have been conducted with pattern recognition of handwritten letters and with pictures of human faces.[170] As a consequence, the value of data collected from genuine human interactions with systems may become increasingly valuable in the presence of LLM-generated content in data crawled from the Internet.\\nOn the other side, synthetic data is often used as an alternative to data produced by real-world events. Such data can be deployed to validate mathematical models and to train machine learning models while preserving user privacy,[171] including for structured data.[172] The approach is not limited to text generation; image generation has been employed to train computer vision models.[173]\\nIn January 2023, Futurism.com broke the story that CNET had been using an undisclosed internal AI tool to write at least 77 of its stories; after the news broke, CNET posted corrections to 41 of the stories.[174]\\nIn April 2023, the German tabloid Die Aktuelle published a fake AI-generated interview with former racing driver Michael Schumacher, who had not made any public appearances since 2013 after sustaining a brain injury in a skiing accident. The story included two possible disclosures: the cover included the line \"deceptively real\", and the interview included an acknowledgment at the end that it was AI-generated. The editor-in-chief was fired shortly thereafter amid the controversy.[175]\\nOther outlets that have published articles whose content and/or byline have been confirmed or suspected to be created by generative AI models – often with false content, errors, and/or non-disclosure of generative AI use - include:\\nIn May 2024, Futurism noted that a content management system video by AdVon Commerce, who had used generative AI to produce articles for many of the aforementioned outlets, appeared to show that they \"had produced tens of thousands of articles for more than 150 publishers.\"[184]\\nNews broadcasters in Kuwait, Greece, South Korea, India, China and Taiwan have presented news with anchors based on Generative AI models, prompting concerns about job losses for human anchors and audience trust in news that has historically been influenced by parasocial relationships with broadcasters, content creators or social media influencers.[201][202][203] Algorithmically-generated anchors have also been used by allies of ISIS for their broadcasts.[204]\\nIn 2023, Google reportedly pitched a tool to news outlets that claimed to \"produce news stories\" based on input data provided, such as \"details of current events\". Some news company executives who viewed the pitch described it as \"[taking] for granted the effort that went into producing accurate and artful news stories.\"[205]\\nIn February 2024, Google launched a program to pay small publishers to write three articles per day using a beta generative AI model. The program does not require the knowledge or consent of the websites that the publishers are using as sources, nor does it require the published articles to be labeled as being created or assisted by these models.[206]\\nMany defunct news sites (The Hairpin, The Frisky, Apple Daily, Ashland Daily Tidings, Clayton County Register, Southwest Journal) and blogs (The Unofficial Apple Weblog, iLounge) have undergone cybersquatting, with articles created by generative AI.[207][208][209][210][211][212][213][214]\\nUnited States Senators Richard Blumenthal and Amy Klobuchar have expressed concern that generative AI could have a harmful impact on local news.[215] In July 2023, OpenAI partnered with the American Journalism Project to fund local news outlets for experimenting with generative AI, with Axios noting the possibility of generative AI companies creating a dependency for these news outlets.[216]\\nMeta AI, a chatbot based on Llama 3 which summarizes news stories, was noted by The Washington Post to copy sentences from those stories without direct attribution and to potentially further decrease the traffic of online news outlets.[217]\\nIn response to potential pitfalls around the use and misuse of generative AI in journalism and worries about declining audience trust, outlets around the world, including publications such as Wired, Associated Press, The Quint, Rappler or The Guardian have published guidelines around how they plan to use and not use AI and generative AI in their work.[218][219][220][221]\\nIn June 2024, Reuters Institute published their Digital New Report for 2024. In a survey of people in America and Europe, Reuters Institute reports that 52% and 47% respectively are uncomfortable with news produced by \"mostly AI with some human oversight\", and 23% and 15% respectively report being comfortable. 42% of Americans and 33% of Europeans reported that they were comfortable with news produced by \"mainly human with some help from AI\". The results of global surveys reported that people were more uncomfortable with news topics including politics (46%), crime (43%), and local news (37%) produced by AI than other news topics.[222]\\n'"
      ]
     },
     "execution_count": 6,
     "metadata": {},
     "output_type": "execute_result"
    }
   ],
   "source": [
    "text_splitter = RecursiveCharacterTextSplitter(\n",
    "    # Set a really small chunk size, just to show.\n",
    "    chunk_size=200,\n",
    "    chunk_overlap=20,\n",
    "    length_function=len,\n",
    "    is_separator_regex=False,\n",
    ")\n",
    "\n",
    "with open('GenerativeAI.txt', mode ='r', encoding='utf-8') as file:\n",
    "    text = file.read()\n",
    "\n",
    "\n",
    "text"
   ]
  },
  {
   "cell_type": "code",
   "execution_count": 7,
   "metadata": {},
   "outputs": [
    {
     "name": "stdout",
     "output_type": "stream",
     "text": [
      "page_content='Generative artificial intelligence (generative AI, GenAI,[1] or GAI) is a subset of artificial intelligence that uses generative models to produce text, images, videos, or other forms of'\n",
      "page_content='or other forms of data.[2][3][4] These models learn the underlying patterns and structures of their training data and use them to produce new data[5][6] based on the input, which often comes in the'\n"
     ]
    },
    {
     "data": {
      "text/plain": [
       "206"
      ]
     },
     "execution_count": 7,
     "metadata": {},
     "output_type": "execute_result"
    }
   ],
   "source": [
    "texts = text_splitter.create_documents([text])\n",
    "print(texts[0])\n",
    "print(texts[1])\n",
    "len(texts)"
   ]
  },
  {
   "cell_type": "code",
   "execution_count": 8,
   "metadata": {},
   "outputs": [
    {
     "name": "stdout",
     "output_type": "stream",
     "text": [
      "Connected to the database!\n"
     ]
    }
   ],
   "source": [
    "#now we have to embed these texts\n",
    "#b4 that lets create connection with the database\n",
    "\n",
    "\n",
    "import psycopg2\n",
    "\n",
    "# Define connection parameters\n",
    "connection_params = {\n",
    "    \"dbname\": \"first_database\",\n",
    "    \"user\": \"postgres\",\n",
    "    \"password\": \"password\",\n",
    "    \"host\": \"localhost\",  # Or your database server\n",
    "    \"port\": \"5432\"        # Default PostgreSQL port\n",
    "}\n",
    "\n",
    "try:\n",
    "    # Establish a connection\n",
    "    conn = psycopg2.connect(**connection_params)\n",
    "    print(\"Connected to the database!\")\n",
    "\n",
    "    # Create a cursor to interact with the database\n",
    "    cursor = conn.cursor()\n",
    "\n",
    "    # Execute a query\n",
    "    # cursor.execute(\"SELECT version();\")\n",
    "    # db_version = cursor.fetchone()\n",
    "    # print(\"Database version:\", db_version)\n",
    "\n",
    "#     cursor.execute(\"\"\"\n",
    "#         CREATE EXTENSION IF NOT EXISTS vector;\n",
    "#                    CREATE TABLE IF NOT EXISTS genAI_embeddings(\n",
    "#                    id SERIAL PRIMARY KEY,\n",
    "#                    text_chunk TEXT NOT NULL,\n",
    "#                    embedding VECTOR(384) NOT NULL\n",
    "#                    )\n",
    "\n",
    "\n",
    "# \"\"\")\n",
    "\n",
    "    # Close the cursor and connection\n",
    "    # cursor.close()\n",
    "    # conn.close()\n",
    "\n",
    "except psycopg2.Error as e:\n",
    "    print(\"Error while connecting to PostgreSQL:\", e)\n"
   ]
  },
  {
   "cell_type": "code",
   "execution_count": 9,
   "metadata": {},
   "outputs": [
    {
     "data": {
      "text/plain": [
       "[Document(metadata={}, page_content='Generative artificial intelligence (generative AI, GenAI,[1] or GAI) is a subset of artificial intelligence that uses generative models to produce text, images, videos, or other forms of'),\n",
       " Document(metadata={}, page_content='or other forms of data.[2][3][4] These models learn the underlying patterns and structures of their training data and use them to produce new data[5][6] based on the input, which often comes in the'),\n",
       " Document(metadata={}, page_content='often comes in the form of natural language prompts.[7][8]'),\n",
       " Document(metadata={}, page_content='Improvements in transformer-based deep neural networks, particularly large language models (LLMs), enabled an AI boom of generative AI systems in the early 2020s. These include chatbots such as'),\n",
       " Document(metadata={}, page_content='chatbots such as ChatGPT, Copilot, Gemini, and LLaMA; text-to-image artificial intelligence image generation systems such as Stable Diffusion, Midjourney, and DALL-E; and text-to-video AI generators'),\n",
       " Document(metadata={}, page_content='AI generators such as Sora.[9][10][11][12] Companies such as OpenAI, Anthropic, Microsoft, Google, and Baidu as well as numerous smaller firms have developed generative AI models.[7][13][14]'),\n",
       " Document(metadata={}, page_content='Generative AI has uses across a wide range of industries, including software development, healthcare, finance, entertainment, customer service,[15] sales and marketing,[16] art, writing,[17]'),\n",
       " Document(metadata={}, page_content='art, writing,[17] fashion,[18] and product design.[19] However, concerns have been raised about the potential misuse of generative AI such as cybercrime, the use of fake news or deepfakes to deceive'),\n",
       " Document(metadata={}, page_content='to deceive or manipulate people, and the mass replacement of human jobs.[20][21] Intellectual property law concerns also exist around generative models that are trained on and emulate copyrighted'),\n",
       " Document(metadata={}, page_content='emulate copyrighted works of art.[22]'),\n",
       " Document(metadata={}, page_content='Since its inception, researchers in the field have raised philosophical and ethical arguments about the nature of the human mind and the consequences of creating artificial beings with human-like'),\n",
       " Document(metadata={}, page_content='with human-like intelligence; these issues have previously been explored by myth, fiction and philosophy since antiquity.[23] The concept of automated art dates back at least to the automata of'),\n",
       " Document(metadata={}, page_content='to the automata of ancient Greek civilization, where inventors such as Daedalus and Hero of Alexandria were described as having designed machines capable of writing text, generating sounds, and'),\n",
       " Document(metadata={}, page_content=\"sounds, and playing music.[24][25] The tradition of creative automations has flourished throughout history, exemplified by Maillardet's automaton created in the early 1800s.[26] Markov chains have\"),\n",
       " Document(metadata={}, page_content='Markov chains have long been used to model natural languages since their development by Russian mathematician Andrey Markov in the early 20th century. Markov published his first paper on the topic in'),\n",
       " Document(metadata={}, page_content='on the topic in 1906,[27][28] and analyzed the pattern of vowels and consonants in the novel Eugeny Onegin using Markov chains. Once a Markov chain is learned on a text corpus, it can then be used as'),\n",
       " Document(metadata={}, page_content='can then be used as a probabilistic text generator.[29][30]'),\n",
       " Document(metadata={}, page_content='The academic discipline of artificial intelligence was established at a research workshop held at Dartmouth College in 1956 and has experienced several waves of advancement and optimism in the'),\n",
       " Document(metadata={}, page_content='and optimism in the decades since.[31] Artificial Intelligence research began in the 1950s with works like Computing Machinery and Intelligence (1950) and the 1956 Dartmouth Summer Research Project'),\n",
       " Document(metadata={}, page_content='Research Project on AI. Since the 1950s, artists and researchers have used artificial intelligence to create artistic works. By the early 1970s, Harold Cohen was creating and exhibiting generative AI'),\n",
       " Document(metadata={}, page_content='generative AI works created by AARON, the computer program Cohen created to generate paintings.[32]'),\n",
       " Document(metadata={}, page_content='The terms generative AI planning or generative planning were used in the 1980s and 1990s to refer to AI planning systems, especially computer-aided process planning, used to generate sequences of'),\n",
       " Document(metadata={}, page_content='sequences of actions to reach a specified goal.[33][34] Generative AI planning systems used symbolic AI methods such as state space search and constraint satisfaction and were a \"relatively mature\"'),\n",
       " Document(metadata={}, page_content='\"relatively mature\" technology by the early 1990s. They were used to generate crisis action plans for military use,[35] process plans for manufacturing[33] and decision plans such as in prototype'),\n",
       " Document(metadata={}, page_content='as in prototype autonomous spacecraft.[36]'),\n",
       " Document(metadata={}, page_content='Since its inception, the field of machine learning used both discriminative models and generative models, to model and predict data. Beginning in the late 2000s, the emergence of deep learning drove'),\n",
       " Document(metadata={}, page_content='deep learning drove progress and research in image classification, speech recognition, natural language processing and other tasks. Neural networks in this era were typically trained as'),\n",
       " Document(metadata={}, page_content='trained as discriminative models, due to the difficulty of generative modeling.[37]'),\n",
       " Document(metadata={}, page_content='In 2014, advancements such as the variational autoencoder and generative adversarial network produced the first practical deep neural networks capable of learning generative models, as opposed to'),\n",
       " Document(metadata={}, page_content='as opposed to discriminative ones, for complex data such as images. These deep generative models were the first to output not only class labels for images but also entire images.'),\n",
       " Document(metadata={}, page_content='In 2017, the Transformer network enabled advancements in generative models compared to older Long-Short Term Memory models,[38] leading to the first generative pre-trained transformer (GPT), known as'),\n",
       " Document(metadata={}, page_content='(GPT), known as GPT-1, in 2018.[39] This was followed in 2019 by GPT-2 which demonstrated the ability to generalize unsupervised to many different tasks as a Foundation model.[40]'),\n",
       " Document(metadata={}, page_content='The new generative models introduced during this period allowed for large neural networks to be trained using unsupervised learning or semi-supervised learning, rather than the supervised learning'),\n",
       " Document(metadata={}, page_content='supervised learning typical of discriminative models. Unsupervised learning removed the need for humans to manually label data, allowing for larger networks to be trained.[41]'),\n",
       " Document(metadata={}, page_content='In 2021, the release of DALL-E, a transformer-based pixel generative model, followed by Midjourney and Stable Diffusion marked the emergence of practical high-quality artificial intelligence art from'),\n",
       " Document(metadata={}, page_content='art from natural language prompts.'),\n",
       " Document(metadata={}, page_content='In 2022, the public release of ChatGPT popularized the use of generative AI for general-purpose text-based tasks.[42]'),\n",
       " Document(metadata={}, page_content='In March 2023, GPT-4 was released. A team from Microsoft Research argued that \"it could reasonably be viewed as an early (yet still incomplete) version of an artificial general intelligence (AGI)'),\n",
       " Document(metadata={}, page_content='intelligence (AGI) system\".[43] Other scholars have disputed that GPT-4 reaches this threshold, calling generative AI \"still far from reaching the benchmark of ‘general human intelligence’\" as of'),\n",
       " Document(metadata={}, page_content='as of 2023.[44] In 2023, Meta released an AI model called ImageBind which combines data from text, images, video, thermal data, 3D data, audio, and motion which is expected to allow for more'),\n",
       " Document(metadata={}, page_content='to allow for more immersive generative AI content.[45][46]'),\n",
       " Document(metadata={}, page_content='According to a survey by SAS and Coleman Parkes Research, China is leading the world in adopting generative AI, with 83% of Chinese respondents using the technology, surpassing the global average of'),\n",
       " Document(metadata={}, page_content='global average of 54% and the U.S. at 65%. A UN report revealed China filed over 38,000 GenAI patents from 2014 to 2023, far exceeding the U.S.[47]'),\n",
       " Document(metadata={}, page_content='A generative AI system is constructed by applying unsupervised machine learning (invoking  for instance neural network architectures such as GANs, VAE, Transformer, ...)  or self-supervised machine'),\n",
       " Document(metadata={}, page_content='machine learning to a data set. The capabilities of a generative AI system depend on the modality or type of the data set used.'),\n",
       " Document(metadata={}, page_content='Generative AI can be either unimodal or multimodal; unimodal systems take only one type of input, whereas multimodal systems can take more than one type of input.[48] For example, one version of'),\n",
       " Document(metadata={}, page_content=\"one version of OpenAI's GPT-4 accepts both text and image inputs.[49]\"),\n",
       " Document(metadata={}, page_content='Generative AI systems trained on words or word tokens include GPT-3, GPT-4, GPT-4o, LaMDA, LLaMA, BLOOM, Gemini and others (see List of large language models). They are capable of natural language'),\n",
       " Document(metadata={}, page_content='of natural language processing, machine translation, and natural language generation and can be used as foundation models for other tasks.[51] Data sets include BookCorpus, Wikipedia, and others (see'),\n",
       " Document(metadata={}, page_content='and others (see List of text corpora).'),\n",
       " Document(metadata={}, page_content='In addition to natural language text, large language models can be trained on programming language text, allowing them to generate source code for new computer programs.[52] Examples include OpenAI'),\n",
       " Document(metadata={}, page_content='include OpenAI Codex.'),\n",
       " Document(metadata={}, page_content='Producing high-quality visual art is a prominent application of generative AI.[53] Generative AI systems trained on sets of images with text captions include Imagen, DALL-E, Midjourney, Adobe'),\n",
       " Document(metadata={}, page_content='Midjourney, Adobe Firefly, FLUX.1, Stable Diffusion and others (see Artificial intelligence art, Generative art, and Synthetic media). They are commonly used for text-to-image generation and neural'),\n",
       " Document(metadata={}, page_content='and neural style transfer.[54] Datasets include LAION-5B and others (see List of datasets in computer vision and image processing).'),\n",
       " Document(metadata={}, page_content=\"Generative AI can also be trained extensively on audio clips to produce natural-sounding speech synthesis and text-to-speech capabilities, exemplified by ElevenLabs' context-aware synthesis tools or\"),\n",
       " Document(metadata={}, page_content=\"synthesis tools or Meta Platform's Voicebox.[55]Generative AI systems such as MusicLM[56] and MusicGen[57] can also be trained on the audio waveforms of recorded music along with text annotations, in\"),\n",
       " Document(metadata={}, page_content='annotations, in order to generate new musical samples based on text descriptions such as a calming violin melody backed by a distorted guitar riff.'),\n",
       " Document(metadata={}, page_content=\"Audio deepfakes of lyrics have been generated, like the song Savages, which used AI to mimic rapper Jay-Z's vocals. Music artist's instrumentals and lyrics are copyrighted but their voices aren't\"),\n",
       " Document(metadata={}, page_content=\"their voices aren't protected from regenerative AI yet, raising a debate about whether artists should get royalties from audio deepfakes.[58]\"),\n",
       " Document(metadata={}, page_content='Many AI music generators have been created that can be generated using a text phrase, genre options, and looped libraries of bars and riffs.[59]'),\n",
       " Document(metadata={}, page_content='Generative AI trained on annotated video can generate temporally-coherent, detailed and photorealistic video clips. Examples include Sora by OpenAI,[12] Gen-1 and Gen-2 by Runway,[60] and'),\n",
       " Document(metadata={}, page_content='by Runway,[60] and Make-A-Video by Meta Platforms.[61]'),\n",
       " Document(metadata={}, page_content='Generative AI can also be trained on the motions of a robotic system to generate new trajectories for motion planning or navigation. For example, UniPi from Google Research uses prompts like \"pick up'),\n",
       " Document(metadata={}, page_content='like \"pick up blue bowl\" or \"wipe plate with yellow sponge\" to control movements of a robot arm.[62] Multimodal \"vision-language-action\" models such as Google\\'s RT-2 can perform rudimentary reasoning'),\n",
       " Document(metadata={}, page_content='reasoning in response to user prompts and visual input, such as picking up a toy dinosaur when given the prompt pick up the extinct animal at a table filled with toy animals and other objects.[63]'),\n",
       " Document(metadata={}, page_content='Artificially intelligent computer-aided design (CAD) can use text-to-3D, image-to-3D, and video-to-3D to automate 3D modeling.[64] AI-based CAD libraries could also be developed using linked open'),\n",
       " Document(metadata={}, page_content='using linked open data of schematics and diagrams.[65] AI CAD assistants are used as tools to help streamline workflow.[66]'),\n",
       " Document(metadata={}, page_content='Generative AI models are used to power chatbot products such as ChatGPT, programming tools such as GitHub Copilot,[67] text-to-image products such as Midjourney, and text-to-video products such as'),\n",
       " Document(metadata={}, page_content='products such as Runway Gen-2.[68] Generative AI features have been integrated into a variety of existing commercially available products such as Microsoft Office (Microsoft Copilot),[69] Google'),\n",
       " Document(metadata={}, page_content='Google Photos,[70] and the Adobe Suite (Adobe Firefly).[71] Many generative AI models are also available as open-source software, including Stable Diffusion and the LLaMA[72] language model.'),\n",
       " Document(metadata={}, page_content='Smaller generative AI models with up to a few billion parameters can run on smartphones, embedded devices, and personal computers. For example, LLaMA-7B (a version with 7 billion parameters) can run'),\n",
       " Document(metadata={}, page_content='parameters) can run on a Raspberry Pi 4[73] and one version of Stable Diffusion can run on an iPhone 11.[74]'),\n",
       " Document(metadata={}, page_content='Larger models with tens of billions of parameters can run on laptop or desktop computers. To achieve an acceptable speed, models of this size may require accelerators such as the GPU chips produced'),\n",
       " Document(metadata={}, page_content='GPU chips produced by NVIDIA and AMD or the Neural Engine included in Apple silicon products. For example, the 65 billion parameter version of LLaMA can be configured to run on a desktop PC.[75]'),\n",
       " Document(metadata={}, page_content='The advantages of running generative AI locally include protection of privacy and intellectual property, and avoidance of rate limiting and censorship. The subreddit r/LocalLLaMA in particular'),\n",
       " Document(metadata={}, page_content='in particular focuses on using consumer-grade gaming graphics cards[76] through such techniques as compression. That forum is one of only two sources Andrej Karpathy trusts for language model'),\n",
       " Document(metadata={}, page_content='for language model benchmarks.[77] Yann LeCun has advocated open-source models for their value to vertical applications[78] and for improving AI safety.[79]'),\n",
       " Document(metadata={}, page_content=\"Language models with hundreds of billions of parameters, such as GPT-4 or PaLM, typically run on datacenter computers equipped with arrays of GPUs (such as NVIDIA's H100) or AI accelerator chips\"),\n",
       " Document(metadata={}, page_content=\"accelerator chips (such as Google's TPU). These very large models are typically accessed as cloud services over the Internet.\"),\n",
       " Document(metadata={}, page_content='In 2022, the United States New Export Controls on Advanced Computing and Semiconductors to China imposed restrictions on exports to China of GPU and AI accelerator chips used for generative AI.[80]'),\n",
       " Document(metadata={}, page_content='generative AI.[80] Chips such as the NVIDIA A800[81] and the Biren Technology BR104[82] were developed to meet the requirements of the sanctions.'),\n",
       " Document(metadata={}, page_content='There is free software on the market capable of recognizing text generated by generative artificial intelligence (such as GPTZero), as well as images, audio or video coming from it.[83] Potential'),\n",
       " Document(metadata={}, page_content='it.[83] Potential mitigation strategies for detecting generative AI content include digital watermarking, content authentication, information retrieval, and machine learning classifier models.[84]'),\n",
       " Document(metadata={}, page_content='models.[84] Despite claims of accuracy, both free and paid AI text detectors have frequently produced false positives, mistakenly accusing students of submitting AI-generated work.[85][86]'),\n",
       " Document(metadata={}, page_content='In the United States, a group of companies including OpenAI, Alphabet, and Meta signed a voluntary agreement with the Biden administration in July 2023 to watermark AI-generated content.[87] In'),\n",
       " Document(metadata={}, page_content='content.[87] In October 2023, Executive Order 14110 applied the Defense Production Act to require all US companies to report information to the federal government when training certain high-impact AI'),\n",
       " Document(metadata={}, page_content='high-impact AI models.[88][89]'),\n",
       " Document(metadata={}, page_content='In the European Union, the proposed Artificial Intelligence Act includes requirements to disclose copyrighted material used to train generative AI systems, and to label any AI-generated output as'),\n",
       " Document(metadata={}, page_content='output as such.[90][91]'),\n",
       " Document(metadata={}, page_content='In China, the Interim Measures for the Management of Generative AI Services introduced by the Cyberspace Administration of China regulates any public-facing generative AI. It includes requirements to'),\n",
       " Document(metadata={}, page_content='requirements to watermark generated images or videos, regulations on training data and label quality, restrictions on personal data collection, and a guideline that generative AI must \"adhere to'),\n",
       " Document(metadata={}, page_content='AI must \"adhere to socialist core values\".[92][93]'),\n",
       " Document(metadata={}, page_content='Generative AI systems such as ChatGPT and Midjourney are trained on large, publicly available datasets that include copyrighted works. AI developers have argued that such training is protected under'),\n",
       " Document(metadata={}, page_content='is protected under fair use, while copyright holders have argued that it infringes their rights.[94]'),\n",
       " Document(metadata={}, page_content='Proponents of fair use training have argued that it is a transformative use and does not involve making copies of copyrighted works available to the public.[94] Critics have argued that image'),\n",
       " Document(metadata={}, page_content='argued that image generators such as Midjourney can create nearly-identical copies of some copyrighted images,[95] and that generative AI programs compete with the content they are trained on.[96]'),\n",
       " Document(metadata={}, page_content='As of 2024, several lawsuits related to the use of copyrighted material in training are ongoing.'),\n",
       " Document(metadata={}, page_content='Getty Images has sued Stability AI over the use of its images to train Stable diffusion.[97] Both the Authors Guild and The New York Times have sued Microsoft and OpenAI over the use of their works'),\n",
       " Document(metadata={}, page_content='use of their works to train ChatGPT.[98][99]'),\n",
       " Document(metadata={}, page_content='A separate question is whether AI-generated works can qualify for copyright protection. The United States Copyright Office has ruled that works created by artificial intelligence without any human'),\n",
       " Document(metadata={}, page_content='without any human input cannot be copyrighted, because they lack human authorship.[100] However, the office has also begun taking public input to determine if these rules need to be refined for'),\n",
       " Document(metadata={}, page_content='to be refined for generative AI.[101]'),\n",
       " Document(metadata={}, page_content='The development of generative AI has raised concerns from governments, businesses, and individuals, resulting in protests, legal actions, calls to pause AI experiments, and actions by multiple'),\n",
       " Document(metadata={}, page_content='actions by multiple governments. In a July 2023 briefing of the United Nations Security Council, Secretary-General António Guterres stated \"Generative AI has enormous potential for good and evil at'),\n",
       " Document(metadata={}, page_content='good and evil at scale\", that AI may \"turbocharge global development\" and contribute between $10 and $15 trillion to the global economy by 2030, but that its malicious use \"could cause horrific'),\n",
       " Document(metadata={}, page_content='cause horrific levels of death and destruction, widespread trauma, and deep psychological damage on an unimaginable scale\".[102]'),\n",
       " Document(metadata={}, page_content='From the early days of the development of AI, there have been arguments put forward by ELIZA creator Joseph Weizenbaum and others about whether tasks that can be done by computers actually should be'),\n",
       " Document(metadata={}, page_content='actually should be done by them, given the difference between computers and humans, and between quantitative calculations and qualitative, value-based judgements.[104] In April 2023, it was reported'),\n",
       " Document(metadata={}, page_content='it was reported that image generation AI has resulted in 70% of the jobs for video game illustrators in China being lost.[105][106] In July 2023, developments in generative AI contributed to the 2023'),\n",
       " Document(metadata={}, page_content='to the 2023 Hollywood labor disputes. Fran Drescher, president of the Screen Actors Guild, declared that \"artificial intelligence poses an existential threat to creative professions\" during the 2023'),\n",
       " Document(metadata={}, page_content='during the 2023 SAG-AFTRA strike.[107] Voice generation AI has been seen as a potential challenge to the voice acting sector.[108][109]'),\n",
       " Document(metadata={}, page_content='The intersection of AI and employment concerns among underrepresented groups globally remains a critical facet. While AI promises efficiency enhancements and skill acquisition, concerns about job'),\n",
       " Document(metadata={}, page_content='concerns about job displacement and biased recruiting processes persist among these groups, as outlined in surveys by Fast Company. To leverage AI for a more equitable society, proactive steps'),\n",
       " Document(metadata={}, page_content='proactive steps encompass mitigating biases, advocating transparency, respecting privacy and consent, and embracing diverse teams and ethical considerations. Strategies involve redirecting policy'),\n",
       " Document(metadata={}, page_content=\"redirecting policy emphasis on regulation, inclusive design, and education's potential for personalized teaching to maximize benefits while minimizing harms.[110]\"),\n",
       " Document(metadata={}, page_content='Generative AI models can reflect and amplify any cultural bias present in the underlying data. For example, a language model might assume that doctors and judges are male, and that secretaries or'),\n",
       " Document(metadata={}, page_content='that secretaries or nurses are female, if those biases are common in the training data.[111] Similarly, an image model prompted with the text \"a photo of a CEO\" might disproportionately generate'),\n",
       " Document(metadata={}, page_content='generate images of white male CEOs,[112] if trained on a racially biased data set. A number of methods for mitigating bias have been attempted, such as altering input prompts[113] and reweighting'),\n",
       " Document(metadata={}, page_content='and reweighting training data.[114]'),\n",
       " Document(metadata={}, page_content='Deepfakes (a portmanteau of \"deep learning\" and \"fake\"[115]) are AI-generated media that take a person in an existing image or video and replace them with someone else\\'s likeness using artificial'),\n",
       " Document(metadata={}, page_content='using artificial neural networks.[116] Deepfakes have garnered widespread attention and concerns for their uses in deepfake celebrity pornographic videos, revenge porn, fake news, hoaxes, health'),\n",
       " Document(metadata={}, page_content='hoaxes, health disinformation, financial fraud, and covert foreign election interference.[117][118][119][120][121][122][123] This has elicited responses from both industry and government to detect'),\n",
       " Document(metadata={}, page_content='to detect and limit their use.[124][125]'),\n",
       " Document(metadata={}, page_content='In July 2023, the fact-checking company Logically found that the popular generative AI models Midjourney, DALL-E 2 and Stable Diffusion would produce plausible disinformation images when prompted to'),\n",
       " Document(metadata={}, page_content=\"when prompted to do so, such as images of electoral fraud in the United States and Muslim women supporting India's Hindu nationalist Bharatiya Janata Party.[126][127]\"),\n",
       " Document(metadata={}, page_content='In April 2024, a paper proposed to use blockchain (distributed ledger technology) to promote \"transparency, verifiability, and decentralization in AI development and usage\".[128]'),\n",
       " Document(metadata={}, page_content='Instances of users abusing software to generate controversial statements in the vocal style of celebrities, public officials, and other famous individuals have raised ethical concerns over voice'),\n",
       " Document(metadata={}, page_content='concerns over voice generation AI.[129][130][131][132][133][134] In response, companies such as ElevenLabs have stated that they would work on mitigating potential abuse through safeguards and'),\n",
       " Document(metadata={}, page_content='safeguards and identity verification.[135]'),\n",
       " Document(metadata={}, page_content=\"Concerns and fandom have spawned from AI-generated music. The same software used to clone voices has been used on famous musicians' voices to create songs that mimic their voices, gaining both\"),\n",
       " Document(metadata={}, page_content='gaining both tremendous popularity and criticism.[136][137][138] Similar techniques have also been used to create improved quality or full-length versions of songs that have been leaked or have yet'),\n",
       " Document(metadata={}, page_content='leaked or have yet to be released.[139]'),\n",
       " Document(metadata={}, page_content='Generative AI has also been used to create new digital artist personalities, with some of these receiving enough attention to receive record deals at major labels.[140] The developers of these'),\n",
       " Document(metadata={}, page_content='developers of these virtual artists have also faced their fair share of criticism for their personified programs, including backlash for \"dehumanizing\" an artform, and also creating artists which'),\n",
       " Document(metadata={}, page_content='artists which create unrealistic or immoral appeals to their audiences.[141]'),\n",
       " Document(metadata={}, page_content=\"Generative AI's ability to create realistic fake content has been exploited in numerous types of cybercrime, including phishing scams.[142] Deepfake video and audio have been used to create\"),\n",
       " Document(metadata={}, page_content='been used to create disinformation and fraud. Former Google fraud czar Shuman Ghosemajumder has predicted that while deepfake videos initially created a stir in the media, they would soon become'),\n",
       " Document(metadata={}, page_content='would soon become commonplace, and as a result, more dangerous.[143] Additionally, large-language models and other forms of text-generation AI have been at a broad scale to create fake reviews on'),\n",
       " Document(metadata={}, page_content='fake reviews on e-commerce websites to boost ratings.[144] Cybercriminals have created large language models focused on fraud, including WormGPT and FraudGPT.[145]'),\n",
       " Document(metadata={}, page_content='Recent research done in 2023 has revealed that generative AI has weaknesses that can be manipulated by criminals to extract harmful information bypassing ethical safeguards. The study presents'),\n",
       " Document(metadata={}, page_content='The study presents example attacks done on ChatGPT including Jailbreaks and reverse psychology. Additionally, malicious individuals can use ChatGPT for social engineering attacks and phishing'),\n",
       " Document(metadata={}, page_content='and phishing attacks, revealing the harmful side of these technologies.[146]'),\n",
       " Document(metadata={}, page_content='Training frontier AI models requires an enormous amount of computing power. Usually only Big Tech companies have the financial resources to make such investments. Smaller start-ups such as Cohere and'),\n",
       " Document(metadata={}, page_content='such as Cohere and OpenAI end up buying access to data centers from Google and Microsoft respectively.[147]'),\n",
       " Document(metadata={}, page_content='Scientists and journalists have expressed concerns about the environmental impact that the development and deployment of generative models are having: high CO2 emissions,[148][149][150] large amounts'),\n",
       " Document(metadata={}, page_content='large amounts of freshwater used for data centers,[151][152] and high amounts of electricity usage.[153][149][154] There is also concern that these impacts may increase as these models are'),\n",
       " Document(metadata={}, page_content='as these models are incorporated into widely used search engines such as Google Search and Bing;[153] as chatbots and other applications become more popular;[153][152] and as models need to be'),\n",
       " Document(metadata={}, page_content='models need to be retrained.[153]'),\n",
       " Document(metadata={}, page_content='Proposed mitigation strategies include factoring potential environmental costs prior to model development or data collection,[148] increasing efficiency of data centers to reduce electricity/energy'),\n",
       " Document(metadata={}, page_content='electricity/energy usage,[151][153][149][152][154][150] building more efficient machine learning models,[151][149][152] minimizing the number of times that models need to be retrained,[150]'),\n",
       " Document(metadata={}, page_content='be retrained,[150] developing a government-directed framework for auditing the environmental impact of these models,[151][150] regulating for transparency of these models,[150] regulating their'),\n",
       " Document(metadata={}, page_content=\"regulating their energy and water usage,[151] encouraging researchers to publish data on their models' carbon footprint,[153][150] and increasing the number of subject matter experts who understand\"),\n",
       " Document(metadata={}, page_content='who understand both machine learning and climate science.[150]'),\n",
       " Document(metadata={}, page_content='The New York Times defines slop as analogous to spam: \"shoddy or unwanted A.I. content in social media, art, books and ... in search results.\"[155] Journalists have expressed concerns about the scale'),\n",
       " Document(metadata={}, page_content='about the scale of low-quality generated content with respect to social media content moderation,[156] the monetary incentives from social media companies to spread such content,[156][157] false'),\n",
       " Document(metadata={}, page_content='false political messaging,[157] spamming of scientific research paper submissions,[158] increased time and effort to find higher quality or desired content on the Internet,[159] the indexing of'),\n",
       " Document(metadata={}, page_content='the indexing of generated content by search engines,[160] and on journalism itself.[161]'),\n",
       " Document(metadata={}, page_content='A paper published by researchers at Amazon Web Services AI Labs found that over 57% of sentences from a sample of over 6 billion sentences from Common Crawl, a snapshot of web pages, were machine'),\n",
       " Document(metadata={}, page_content='pages, were machine translated. Many of these automated translations were seen as lower quality, especially for sentences were translated across at least three languages. Many lower-resource'),\n",
       " Document(metadata={}, page_content='Many lower-resource languages (ex. Wolof, Xhosa) were translated across more languages than higher-resource languages (ex. English, French).[162][163]'),\n",
       " Document(metadata={}, page_content='In September 2024, Robyn Speer, the author of wordfreq, an open source database that calculated word frequencies based on text from the Internet, announced that she had stopped updating the data for'),\n",
       " Document(metadata={}, page_content='the data for several reasons: high costs for obtaining data from Reddit and Twitter, excessive focus on generative AI compared to other methods in the natural language processing community, and that'),\n",
       " Document(metadata={}, page_content='community, and that \"generative AI has polluted the data\".[164]'),\n",
       " Document(metadata={}, page_content='The adoption of generative AI tools led to an explosion of AI-generated content across multiple domains. A study from University College London estimated that in 2023, more than 60,000 scholarly'),\n",
       " Document(metadata={}, page_content=\"60,000 scholarly articles—over 1% of all publications—were likely written with LLM assistance.[165] According to Stanford University's Institute for Human-Centered AI, approximately 17.5% of newly\"),\n",
       " Document(metadata={}, page_content='17.5% of newly published computer science papers and 16.9% of peer review text now incorporate content generated by LLMs.[166]'),\n",
       " Document(metadata={}, page_content='Visual content follows a similar trend. Since the launch of DALL-E 2 in 2022, it’s estimated that an average of 34 million images have been created daily. As of August 2023, more than 15 billion'),\n",
       " Document(metadata={}, page_content='than 15 billion images had been generated using text-to-image algorithms, with 80% of these created by models based on Stable Diffusion.[167]'),\n",
       " Document(metadata={}, page_content='If AI-generated content is included in new data crawls from the Internet for additional training of AI models, defects in the resulting models may occur.[168] Training an AI model exclusively on the'),\n",
       " Document(metadata={}, page_content=\"exclusively on the output of another AI model produces a lower-quality model. Repeating this process, where each new model is trained on the previous model's output, leads to progressive degradation\"),\n",
       " Document(metadata={}, page_content='degradation and eventually results in a \"model collapse\" after multiple iterations.[169] Tests have been conducted with pattern recognition of handwritten letters and with pictures of human'),\n",
       " Document(metadata={}, page_content='pictures of human faces.[170] As a consequence, the value of data collected from genuine human interactions with systems may become increasingly valuable in the presence of LLM-generated content in'),\n",
       " Document(metadata={}, page_content='content in data crawled from the Internet.'),\n",
       " Document(metadata={}, page_content='On the other side, synthetic data is often used as an alternative to data produced by real-world events. Such data can be deployed to validate mathematical models and to train machine learning models'),\n",
       " Document(metadata={}, page_content='learning models while preserving user privacy,[171] including for structured data.[172] The approach is not limited to text generation; image generation has been employed to train computer vision'),\n",
       " Document(metadata={}, page_content='computer vision models.[173]'),\n",
       " Document(metadata={}, page_content='In January 2023, Futurism.com broke the story that CNET had been using an undisclosed internal AI tool to write at least 77 of its stories; after the news broke, CNET posted corrections to 41 of the'),\n",
       " Document(metadata={}, page_content='to 41 of the stories.[174]'),\n",
       " Document(metadata={}, page_content='In April 2023, the German tabloid Die Aktuelle published a fake AI-generated interview with former racing driver Michael Schumacher, who had not made any public appearances since 2013 after'),\n",
       " Document(metadata={}, page_content='since 2013 after sustaining a brain injury in a skiing accident. The story included two possible disclosures: the cover included the line \"deceptively real\", and the interview included an'),\n",
       " Document(metadata={}, page_content='included an acknowledgment at the end that it was AI-generated. The editor-in-chief was fired shortly thereafter amid the controversy.[175]'),\n",
       " Document(metadata={}, page_content='Other outlets that have published articles whose content and/or byline have been confirmed or suspected to be created by generative AI models – often with false content, errors, and/or non-disclosure'),\n",
       " Document(metadata={}, page_content='non-disclosure of generative AI use - include:'),\n",
       " Document(metadata={}, page_content='In May 2024, Futurism noted that a content management system video by AdVon Commerce, who had used generative AI to produce articles for many of the aforementioned outlets, appeared to show that they'),\n",
       " Document(metadata={}, page_content='to show that they \"had produced tens of thousands of articles for more than 150 publishers.\"[184]'),\n",
       " Document(metadata={}, page_content='News broadcasters in Kuwait, Greece, South Korea, India, China and Taiwan have presented news with anchors based on Generative AI models, prompting concerns about job losses for human anchors and'),\n",
       " Document(metadata={}, page_content='human anchors and audience trust in news that has historically been influenced by parasocial relationships with broadcasters, content creators or social media influencers.[201][202][203]'),\n",
       " Document(metadata={}, page_content='Algorithmically-generated anchors have also been used by allies of ISIS for their broadcasts.[204]'),\n",
       " Document(metadata={}, page_content='In 2023, Google reportedly pitched a tool to news outlets that claimed to \"produce news stories\" based on input data provided, such as \"details of current events\". Some news company executives who'),\n",
       " Document(metadata={}, page_content='executives who viewed the pitch described it as \"[taking] for granted the effort that went into producing accurate and artful news stories.\"[205]'),\n",
       " Document(metadata={}, page_content='In February 2024, Google launched a program to pay small publishers to write three articles per day using a beta generative AI model. The program does not require the knowledge or consent of the'),\n",
       " Document(metadata={}, page_content='or consent of the websites that the publishers are using as sources, nor does it require the published articles to be labeled as being created or assisted by these models.[206]'),\n",
       " Document(metadata={}, page_content='Many defunct news sites (The Hairpin, The Frisky, Apple Daily, Ashland Daily Tidings, Clayton County Register, Southwest Journal) and blogs (The Unofficial Apple Weblog, iLounge) have undergone'),\n",
       " Document(metadata={}, page_content='have undergone cybersquatting, with articles created by generative AI.[207][208][209][210][211][212][213][214]'),\n",
       " Document(metadata={}, page_content='United States Senators Richard Blumenthal and Amy Klobuchar have expressed concern that generative AI could have a harmful impact on local news.[215] In July 2023, OpenAI partnered with the American'),\n",
       " Document(metadata={}, page_content='with the American Journalism Project to fund local news outlets for experimenting with generative AI, with Axios noting the possibility of generative AI companies creating a dependency for these news'),\n",
       " Document(metadata={}, page_content='for these news outlets.[216]'),\n",
       " Document(metadata={}, page_content='Meta AI, a chatbot based on Llama 3 which summarizes news stories, was noted by The Washington Post to copy sentences from those stories without direct attribution and to potentially further decrease'),\n",
       " Document(metadata={}, page_content='further decrease the traffic of online news outlets.[217]'),\n",
       " Document(metadata={}, page_content='In response to potential pitfalls around the use and misuse of generative AI in journalism and worries about declining audience trust, outlets around the world, including publications such as Wired,'),\n",
       " Document(metadata={}, page_content='such as Wired, Associated Press, The Quint, Rappler or The Guardian have published guidelines around how they plan to use and not use AI and generative AI in their work.[218][219][220][221]'),\n",
       " Document(metadata={}, page_content='In June 2024, Reuters Institute published their Digital New Report for 2024. In a survey of people in America and Europe, Reuters Institute reports that 52% and 47% respectively are uncomfortable'),\n",
       " Document(metadata={}, page_content='are uncomfortable with news produced by \"mostly AI with some human oversight\", and 23% and 15% respectively report being comfortable. 42% of Americans and 33% of Europeans reported that they were'),\n",
       " Document(metadata={}, page_content='that they were comfortable with news produced by \"mainly human with some help from AI\". The results of global surveys reported that people were more uncomfortable with news topics including politics'),\n",
       " Document(metadata={}, page_content='including politics (46%), crime (43%), and local news (37%) produced by AI than other news topics.[222]')]"
      ]
     },
     "execution_count": 9,
     "metadata": {},
     "output_type": "execute_result"
    }
   ],
   "source": [
    "texts"
   ]
  },
  {
   "cell_type": "code",
   "execution_count": null,
   "metadata": {},
   "outputs": [],
   "source": []
  },
  {
   "cell_type": "code",
   "execution_count": 10,
   "metadata": {},
   "outputs": [
    {
     "name": "stdout",
     "output_type": "stream",
     "text": [
      "Requirement already satisfied: tf-keras in /Library/Frameworks/Python.framework/Versions/3.12/lib/python3.12/site-packages (2.16.0)\n",
      "Requirement already satisfied: tensorflow<2.17,>=2.16 in /Library/Frameworks/Python.framework/Versions/3.12/lib/python3.12/site-packages (from tf-keras) (2.16.2)\n",
      "Requirement already satisfied: absl-py>=1.0.0 in /Library/Frameworks/Python.framework/Versions/3.12/lib/python3.12/site-packages (from tensorflow<2.17,>=2.16->tf-keras) (2.1.0)\n",
      "Requirement already satisfied: astunparse>=1.6.0 in /Library/Frameworks/Python.framework/Versions/3.12/lib/python3.12/site-packages (from tensorflow<2.17,>=2.16->tf-keras) (1.6.3)\n",
      "Requirement already satisfied: flatbuffers>=23.5.26 in /Library/Frameworks/Python.framework/Versions/3.12/lib/python3.12/site-packages (from tensorflow<2.17,>=2.16->tf-keras) (24.3.25)\n",
      "Requirement already satisfied: gast!=0.5.0,!=0.5.1,!=0.5.2,>=0.2.1 in /Library/Frameworks/Python.framework/Versions/3.12/lib/python3.12/site-packages (from tensorflow<2.17,>=2.16->tf-keras) (0.6.0)\n",
      "Requirement already satisfied: google-pasta>=0.1.1 in /Library/Frameworks/Python.framework/Versions/3.12/lib/python3.12/site-packages (from tensorflow<2.17,>=2.16->tf-keras) (0.2.0)\n",
      "Requirement already satisfied: h5py>=3.10.0 in /Library/Frameworks/Python.framework/Versions/3.12/lib/python3.12/site-packages (from tensorflow<2.17,>=2.16->tf-keras) (3.12.1)\n",
      "Requirement already satisfied: libclang>=13.0.0 in /Library/Frameworks/Python.framework/Versions/3.12/lib/python3.12/site-packages (from tensorflow<2.17,>=2.16->tf-keras) (18.1.1)\n",
      "Requirement already satisfied: ml-dtypes~=0.3.1 in /Library/Frameworks/Python.framework/Versions/3.12/lib/python3.12/site-packages (from tensorflow<2.17,>=2.16->tf-keras) (0.3.2)\n",
      "Requirement already satisfied: opt-einsum>=2.3.2 in /Library/Frameworks/Python.framework/Versions/3.12/lib/python3.12/site-packages (from tensorflow<2.17,>=2.16->tf-keras) (3.4.0)\n",
      "Requirement already satisfied: packaging in /Users/kowsalyasitharthaun/Library/Python/3.12/lib/python/site-packages (from tensorflow<2.17,>=2.16->tf-keras) (24.1)\n",
      "Collecting protobuf!=4.21.0,!=4.21.1,!=4.21.2,!=4.21.3,!=4.21.4,!=4.21.5,<5.0.0dev,>=3.20.3 (from tensorflow<2.17,>=2.16->tf-keras)\n",
      "  Using cached protobuf-4.25.5-cp37-abi3-macosx_10_9_universal2.whl.metadata (541 bytes)\n",
      "Requirement already satisfied: requests<3,>=2.21.0 in /Library/Frameworks/Python.framework/Versions/3.12/lib/python3.12/site-packages (from tensorflow<2.17,>=2.16->tf-keras) (2.32.3)\n",
      "Requirement already satisfied: setuptools in /Library/Frameworks/Python.framework/Versions/3.12/lib/python3.12/site-packages (from tensorflow<2.17,>=2.16->tf-keras) (75.2.0)\n",
      "Requirement already satisfied: six>=1.12.0 in /Library/Frameworks/Python.framework/Versions/3.12/lib/python3.12/site-packages (from tensorflow<2.17,>=2.16->tf-keras) (1.16.0)\n",
      "Requirement already satisfied: termcolor>=1.1.0 in /Library/Frameworks/Python.framework/Versions/3.12/lib/python3.12/site-packages (from tensorflow<2.17,>=2.16->tf-keras) (2.5.0)\n",
      "Requirement already satisfied: typing-extensions>=3.6.6 in /Library/Frameworks/Python.framework/Versions/3.12/lib/python3.12/site-packages (from tensorflow<2.17,>=2.16->tf-keras) (4.12.2)\n",
      "Requirement already satisfied: wrapt>=1.11.0 in /Library/Frameworks/Python.framework/Versions/3.12/lib/python3.12/site-packages (from tensorflow<2.17,>=2.16->tf-keras) (1.16.0)\n",
      "Requirement already satisfied: grpcio<2.0,>=1.24.3 in /Library/Frameworks/Python.framework/Versions/3.12/lib/python3.12/site-packages (from tensorflow<2.17,>=2.16->tf-keras) (1.67.0)\n",
      "Requirement already satisfied: tensorboard<2.17,>=2.16 in /Library/Frameworks/Python.framework/Versions/3.12/lib/python3.12/site-packages (from tensorflow<2.17,>=2.16->tf-keras) (2.16.2)\n",
      "Requirement already satisfied: keras>=3.0.0 in /Library/Frameworks/Python.framework/Versions/3.12/lib/python3.12/site-packages (from tensorflow<2.17,>=2.16->tf-keras) (3.6.0)\n",
      "Requirement already satisfied: numpy<2.0.0,>=1.26.0 in /Library/Frameworks/Python.framework/Versions/3.12/lib/python3.12/site-packages (from tensorflow<2.17,>=2.16->tf-keras) (1.26.4)\n",
      "Requirement already satisfied: wheel<1.0,>=0.23.0 in /Library/Frameworks/Python.framework/Versions/3.12/lib/python3.12/site-packages (from astunparse>=1.6.0->tensorflow<2.17,>=2.16->tf-keras) (0.44.0)\n",
      "Requirement already satisfied: rich in /Library/Frameworks/Python.framework/Versions/3.12/lib/python3.12/site-packages (from keras>=3.0.0->tensorflow<2.17,>=2.16->tf-keras) (13.9.3)\n",
      "Requirement already satisfied: namex in /Library/Frameworks/Python.framework/Versions/3.12/lib/python3.12/site-packages (from keras>=3.0.0->tensorflow<2.17,>=2.16->tf-keras) (0.0.8)\n",
      "Requirement already satisfied: optree in /Library/Frameworks/Python.framework/Versions/3.12/lib/python3.12/site-packages (from keras>=3.0.0->tensorflow<2.17,>=2.16->tf-keras) (0.13.0)\n",
      "Requirement already satisfied: charset-normalizer<4,>=2 in /Library/Frameworks/Python.framework/Versions/3.12/lib/python3.12/site-packages (from requests<3,>=2.21.0->tensorflow<2.17,>=2.16->tf-keras) (3.4.0)\n",
      "Requirement already satisfied: idna<4,>=2.5 in /Library/Frameworks/Python.framework/Versions/3.12/lib/python3.12/site-packages (from requests<3,>=2.21.0->tensorflow<2.17,>=2.16->tf-keras) (3.10)\n",
      "Requirement already satisfied: urllib3<3,>=1.21.1 in /Library/Frameworks/Python.framework/Versions/3.12/lib/python3.12/site-packages (from requests<3,>=2.21.0->tensorflow<2.17,>=2.16->tf-keras) (2.2.3)\n",
      "Requirement already satisfied: certifi>=2017.4.17 in /Library/Frameworks/Python.framework/Versions/3.12/lib/python3.12/site-packages (from requests<3,>=2.21.0->tensorflow<2.17,>=2.16->tf-keras) (2024.8.30)\n",
      "Requirement already satisfied: markdown>=2.6.8 in /Library/Frameworks/Python.framework/Versions/3.12/lib/python3.12/site-packages (from tensorboard<2.17,>=2.16->tensorflow<2.17,>=2.16->tf-keras) (3.7)\n",
      "Requirement already satisfied: tensorboard-data-server<0.8.0,>=0.7.0 in /Library/Frameworks/Python.framework/Versions/3.12/lib/python3.12/site-packages (from tensorboard<2.17,>=2.16->tensorflow<2.17,>=2.16->tf-keras) (0.7.2)\n",
      "Requirement already satisfied: werkzeug>=1.0.1 in /Library/Frameworks/Python.framework/Versions/3.12/lib/python3.12/site-packages (from tensorboard<2.17,>=2.16->tensorflow<2.17,>=2.16->tf-keras) (3.0.5)\n",
      "Requirement already satisfied: MarkupSafe>=2.1.1 in /Library/Frameworks/Python.framework/Versions/3.12/lib/python3.12/site-packages (from werkzeug>=1.0.1->tensorboard<2.17,>=2.16->tensorflow<2.17,>=2.16->tf-keras) (3.0.2)\n",
      "Requirement already satisfied: markdown-it-py>=2.2.0 in /Library/Frameworks/Python.framework/Versions/3.12/lib/python3.12/site-packages (from rich->keras>=3.0.0->tensorflow<2.17,>=2.16->tf-keras) (3.0.0)\n",
      "Requirement already satisfied: pygments<3.0.0,>=2.13.0 in /Users/kowsalyasitharthaun/Library/Python/3.12/lib/python/site-packages (from rich->keras>=3.0.0->tensorflow<2.17,>=2.16->tf-keras) (2.18.0)\n",
      "Requirement already satisfied: mdurl~=0.1 in /Library/Frameworks/Python.framework/Versions/3.12/lib/python3.12/site-packages (from markdown-it-py>=2.2.0->rich->keras>=3.0.0->tensorflow<2.17,>=2.16->tf-keras) (0.1.2)\n",
      "Using cached protobuf-4.25.5-cp37-abi3-macosx_10_9_universal2.whl (394 kB)\n",
      "Installing collected packages: protobuf\n",
      "  Attempting uninstall: protobuf\n",
      "    Found existing installation: protobuf 5.29.2\n",
      "    Uninstalling protobuf-5.29.2:\n",
      "      Successfully uninstalled protobuf-5.29.2\n",
      "\u001b[31mERROR: pip's dependency resolver does not currently take into account all the packages that are installed. This behaviour is the source of the following dependency conflicts.\n",
      "opentelemetry-proto 1.29.0 requires protobuf<6.0,>=5.0, but you have protobuf 4.25.5 which is incompatible.\u001b[0m\u001b[31m\n",
      "\u001b[0mSuccessfully installed protobuf-4.25.5\n",
      "Note: you may need to restart the kernel to use updated packages.\n"
     ]
    }
   ],
   "source": [
    "pip install tf-keras"
   ]
  },
  {
   "cell_type": "code",
   "execution_count": 11,
   "metadata": {},
   "outputs": [
    {
     "name": "stderr",
     "output_type": "stream",
     "text": [
      "/Library/Frameworks/Python.framework/Versions/3.12/lib/python3.12/site-packages/tqdm/auto.py:21: TqdmWarning: IProgress not found. Please update jupyter and ipywidgets. See https://ipywidgets.readthedocs.io/en/stable/user_install.html\n",
      "  from .autonotebook import tqdm as notebook_tqdm\n",
      "2024-12-22 13:30:05.175911: I tensorflow/core/platform/cpu_feature_guard.cc:210] This TensorFlow binary is optimized to use available CPU instructions in performance-critical operations.\n",
      "To enable the following instructions: AVX2 AVX512F AVX512_VNNI FMA, in other operations, rebuild TensorFlow with the appropriate compiler flags.\n"
     ]
    }
   ],
   "source": [
    "#do embeding\n",
    "from sentence_transformers import SentenceTransformer\n",
    "\n",
    "# 1. Load a pretrained Sentence Transformer model\n",
    "model = SentenceTransformer(\"all-MiniLM-L6-v2\")\n"
   ]
  },
  {
   "cell_type": "code",
   "execution_count": 12,
   "metadata": {},
   "outputs": [
    {
     "data": {
      "text/plain": [
       "Document(metadata={}, page_content='or other forms of data.[2][3][4] These models learn the underlying patterns and structures of their training data and use them to produce new data[5][6] based on the input, which often comes in the')"
      ]
     },
     "execution_count": 12,
     "metadata": {},
     "output_type": "execute_result"
    }
   ],
   "source": [
    "texts[1]"
   ]
  },
  {
   "cell_type": "code",
   "execution_count": 13,
   "metadata": {},
   "outputs": [],
   "source": [
    "\n",
    "embeddings = model.encode(texts[1].page_content)\n"
   ]
  },
  {
   "cell_type": "code",
   "execution_count": 14,
   "metadata": {},
   "outputs": [
    {
     "data": {
      "text/plain": [
       "array([-5.43117076e-02, -5.59563152e-02, -4.32021134e-02,  4.56938520e-02,\n",
       "        1.16530657e-02,  3.92657295e-02, -4.86925393e-02, -5.39030917e-02,\n",
       "        2.76751630e-02, -8.86889640e-03,  6.62107253e-04,  2.84322537e-02,\n",
       "        5.56957163e-02,  1.60351843e-02,  2.78774165e-02, -2.03539457e-04,\n",
       "       -8.78219306e-03,  6.90555125e-02, -4.20282520e-02, -7.59871751e-02,\n",
       "        6.03173748e-02,  2.43282262e-02, -7.96440393e-02,  5.65213598e-02,\n",
       "       -4.67654876e-02,  4.35756110e-02,  2.62155961e-02,  2.22388990e-02,\n",
       "        7.37268478e-02, -2.19335724e-02,  2.92297429e-03,  6.69481009e-02,\n",
       "        5.96267544e-02,  4.85904701e-02, -7.92126209e-02, -2.28680894e-02,\n",
       "       -3.33894566e-02,  6.68790340e-02, -2.84945164e-02,  1.08888641e-03,\n",
       "        1.91867806e-03, -5.24967276e-02,  1.22466637e-02,  9.90916416e-03,\n",
       "        5.59548251e-02, -3.51779861e-03, -3.13147195e-02, -5.80671504e-02,\n",
       "       -2.89022736e-02,  4.91689220e-02, -1.34390801e-01, -3.03467531e-02,\n",
       "       -1.11508342e-02,  5.54925427e-02,  5.38287982e-02, -2.41531879e-02,\n",
       "       -1.29115544e-02, -3.22433077e-02, -3.34358402e-02,  2.06757765e-02,\n",
       "       -2.87327506e-02, -1.24766417e-02, -1.02318771e-01,  2.63746586e-02,\n",
       "        8.02855007e-04,  2.09158938e-02, -7.91833848e-02,  7.47144967e-02,\n",
       "        6.14142977e-02, -7.49107227e-02, -2.25766692e-02,  5.92078194e-02,\n",
       "       -4.36979011e-02, -2.51159947e-02,  4.15636487e-02,  1.35578457e-02,\n",
       "       -1.17517235e-02,  8.14447552e-03,  5.31242974e-02, -3.32786851e-02,\n",
       "       -6.30940497e-02,  3.59895490e-02,  2.15470195e-02, -1.00257825e-02,\n",
       "        5.83258532e-02,  2.13445369e-02,  2.20710021e-02,  3.00055556e-02,\n",
       "        5.95385302e-03, -4.62894030e-02, -4.08758037e-02, -2.96498556e-02,\n",
       "       -1.94677934e-02,  1.01005388e-02, -6.29341751e-02,  9.90427136e-02,\n",
       "        3.70333940e-02, -8.05041045e-02,  9.19386595e-02,  2.59495080e-02,\n",
       "       -2.60115378e-02,  5.95195219e-02, -1.74675062e-02,  7.28083476e-02,\n",
       "        1.25631550e-02, -8.61717388e-02,  3.05133685e-02,  4.17479593e-03,\n",
       "        5.85247763e-02, -2.89829224e-02, -1.96670610e-02,  4.30555530e-02,\n",
       "       -5.51726930e-02, -3.84974405e-02,  2.44446229e-02, -5.57258800e-02,\n",
       "       -1.08969651e-01, -2.54004505e-02, -5.07400967e-02,  9.94361192e-02,\n",
       "       -1.93861816e-02,  2.70935730e-03, -9.80994385e-03, -8.30143597e-03,\n",
       "       -5.93995955e-03, -4.49636690e-02, -1.57081589e-01, -1.04214347e-34,\n",
       "        3.05963196e-02,  1.89939458e-02,  2.30197422e-02,  1.80028733e-02,\n",
       "       -2.26917863e-03, -3.10347863e-02, -7.13271350e-02, -7.76847941e-04,\n",
       "        1.28704518e-01,  2.30428185e-02, -8.74081850e-02,  4.91067246e-02,\n",
       "       -2.71132477e-02,  7.09536970e-02,  5.45759983e-02,  2.92035844e-02,\n",
       "       -9.71481577e-02,  1.14987269e-01, -1.64197460e-02,  1.75271854e-02,\n",
       "        7.79151171e-02,  3.72258350e-02,  6.27233610e-02, -2.56301034e-02,\n",
       "        4.97861430e-02,  1.07110158e-01, -9.97167546e-03,  4.84011061e-02,\n",
       "       -6.99962378e-02,  1.88688617e-02,  2.71114167e-02, -1.01845497e-02,\n",
       "       -2.46510915e-02, -2.94995122e-02,  3.29434685e-02,  4.42795679e-02,\n",
       "        5.32840453e-02, -1.70809850e-02,  4.97771278e-02, -4.25420664e-02,\n",
       "        7.00850710e-02, -6.43533021e-02,  1.07465335e-03,  3.62493433e-02,\n",
       "       -6.21980913e-02, -2.25156099e-02, -1.52158393e-02, -7.10458979e-02,\n",
       "       -3.95634584e-02, -2.57750358e-02, -1.81040242e-02, -2.50845291e-02,\n",
       "        5.09461854e-03, -7.59930164e-02, -4.56974804e-02,  6.05118982e-02,\n",
       "       -2.99458895e-02, -3.51519771e-02, -5.63025102e-03,  2.11582538e-02,\n",
       "       -1.79233085e-02,  4.46846848e-03,  1.24858366e-03,  4.92371581e-02,\n",
       "        8.98520090e-03,  3.29732932e-02, -1.17347324e-02, -5.12408800e-02,\n",
       "        1.01896018e-01,  3.52672189e-02, -5.94370365e-02,  2.46300176e-02,\n",
       "       -1.14004478e-01, -2.17970144e-02,  4.80475239e-02, -7.68121406e-02,\n",
       "       -2.74763294e-02, -6.46160245e-02, -2.88824830e-02,  2.29493622e-02,\n",
       "        1.97697114e-02, -9.95735079e-03, -1.94124132e-02, -2.38569658e-02,\n",
       "       -3.31248902e-02,  3.93137075e-02,  1.24140996e-02, -7.58541152e-02,\n",
       "       -2.69528329e-02, -5.93837090e-02, -6.76574931e-02, -2.54808776e-02,\n",
       "       -6.89942017e-02, -3.32304277e-02,  7.08340853e-02, -1.82092616e-33,\n",
       "       -3.31293792e-02,  4.87074219e-02, -7.45689571e-02,  1.63614452e-02,\n",
       "        1.91174913e-02,  5.10691141e-04, -6.63557148e-04, -4.82188165e-03,\n",
       "        1.10894395e-02, -2.55688303e-03, -1.35357231e-02, -2.71311104e-02,\n",
       "        2.81563308e-02, -4.07226719e-02, -3.57311107e-02, -1.02606285e-02,\n",
       "       -7.74057657e-02, -6.37257546e-02,  1.62562598e-02,  1.56230237e-02,\n",
       "       -4.13326249e-02,  3.36741060e-02, -1.15520023e-01,  2.60424358e-03,\n",
       "        2.72266902e-02,  2.40104627e-02, -3.55391614e-02,  5.24641983e-02,\n",
       "        5.87938167e-02,  5.21602109e-02, -6.77935183e-02, -8.09097588e-02,\n",
       "        2.88132019e-02, -2.83302031e-02, -1.01899989e-01, -4.70259134e-03,\n",
       "        3.83878276e-02, -3.00709568e-02,  1.56803746e-02,  4.98010032e-02,\n",
       "        2.21707150e-02,  6.27690032e-02, -3.79183106e-02,  1.39906351e-02,\n",
       "       -1.89140011e-02, -6.05740845e-02, -5.41953109e-02,  5.29719889e-02,\n",
       "        2.14538686e-02, -6.59746677e-02,  9.52114984e-02, -2.72879470e-02,\n",
       "       -1.01744391e-01, -4.86636013e-02, -3.26198637e-02,  2.79619675e-02,\n",
       "       -1.31496983e-02, -2.09992677e-02,  1.02280043e-02,  4.51736040e-02,\n",
       "       -8.54900554e-02, -5.10487966e-02,  1.95300188e-02,  4.74307649e-02,\n",
       "       -1.50741423e-02, -1.02639347e-02, -4.73733395e-02, -7.44788945e-02,\n",
       "        1.74300469e-04, -3.42520140e-03,  7.15049952e-02,  4.37401459e-02,\n",
       "       -3.13224010e-02,  2.61395816e-02, -3.69009539e-03, -1.02923721e-01,\n",
       "       -6.67378977e-02, -2.33275238e-02, -5.04724607e-02, -2.05163341e-02,\n",
       "        6.26362721e-03, -9.94835123e-02,  8.24315250e-02,  1.30016401e-01,\n",
       "        4.89835888e-02,  6.30112663e-02,  4.53251489e-02,  9.17364936e-03,\n",
       "       -2.45013274e-04, -1.25859100e-02, -6.93458170e-02,  7.80531317e-02,\n",
       "       -4.38762531e-02,  1.39939219e-01, -9.24383849e-02, -3.70731925e-08,\n",
       "       -4.63389643e-02, -4.19405662e-02,  1.15984611e-01,  7.55679235e-02,\n",
       "       -3.12875491e-03,  1.27159944e-02, -3.29596810e-02,  6.46796450e-02,\n",
       "        1.52150262e-02, -1.79110412e-02, -7.54789682e-04,  3.29567306e-02,\n",
       "       -3.58467922e-02,  5.62718092e-03,  1.03895992e-01,  9.01071057e-02,\n",
       "        1.23212181e-01,  2.12398097e-02, -2.25324742e-02, -4.79761185e-03,\n",
       "        3.60920094e-02,  2.50432305e-02, -6.47856481e-03,  2.81496309e-02,\n",
       "        1.58507615e-01, -3.91806848e-02, -6.83523938e-02,  7.61515424e-02,\n",
       "       -1.09007107e-02,  8.25982466e-02,  2.44643278e-02,  4.56416840e-03,\n",
       "        1.08204089e-01, -2.40606945e-02,  9.09605473e-02,  8.54713693e-02,\n",
       "        3.86896469e-02, -4.88101169e-02, -5.77243082e-02, -6.12513423e-02,\n",
       "       -1.70712993e-02,  2.56365966e-02, -9.75320637e-02,  1.96175370e-02,\n",
       "        5.95327727e-02,  2.64094286e-02,  7.45486747e-03, -7.38141909e-02,\n",
       "        5.15112616e-02,  8.91192164e-03, -1.01245148e-02,  1.39524890e-02,\n",
       "       -3.46703753e-02, -2.94526685e-02, -2.13520881e-02,  3.81307267e-02,\n",
       "        1.68222580e-02, -6.98593259e-02,  5.26524894e-02, -2.80455016e-02,\n",
       "        3.54888290e-03,  2.39908099e-02,  1.11948557e-01,  8.99270643e-03],\n",
       "      dtype=float32)"
      ]
     },
     "execution_count": 14,
     "metadata": {},
     "output_type": "execute_result"
    }
   ],
   "source": [
    "embeddings"
   ]
  },
  {
   "cell_type": "code",
   "execution_count": 15,
   "metadata": {},
   "outputs": [
    {
     "name": "stdout",
     "output_type": "stream",
     "text": [
      "(384,)\n"
     ]
    }
   ],
   "source": [
    "print(embeddings.shape)#shows the dimentions"
   ]
  },
  {
   "cell_type": "code",
   "execution_count": 16,
   "metadata": {},
   "outputs": [],
   "source": [
    "\n",
    "cursor.execute(\"\"\"\n",
    "    CREATE EXTENSION IF NOT EXISTS vector;\n",
    "            CREATE TABLE IF NOT EXISTS gendb(\n",
    "            id SERIAL PRIMARY KEY,\n",
    "            text_chunk TEXT NOT NULL,\n",
    "            embedding VECTOR(384) NOT NULL\n",
    "            )\n",
    "\n",
    "\n",
    "\"\"\")\n",
    "cursor.execute('ROLLBACK')# everytime a query is executed we have to rollback"
   ]
  },
  {
   "cell_type": "code",
   "execution_count": 17,
   "metadata": {},
   "outputs": [],
   "source": [
    "for eachtext in texts:\n",
    "    txt = eachtext.page_content\n",
    "    embed = model.encode(txt).tolist()#converting from array to list\n",
    "    cursor.execute(\"\"\"\n",
    "        INSERT INTO gendb (text_chunk, embedding)\n",
    "        VALUES (%s, %s)\n",
    "\n",
    "\"\"\",(txt,embed))\n"
   ]
  },
  {
   "cell_type": "code",
   "execution_count": 18,
   "metadata": {},
   "outputs": [],
   "source": [
    "#similarity search\n",
    "#takes the quer - embeds - find closest vector - and give it to llm's\n",
    "query = \"what is generative ai?\"\n",
    "cursor.execute('ROLLBACK')# everytime a query is executed we have to rollback\n",
    "embed_query = model.encode(query)"
   ]
  },
  {
   "cell_type": "code",
   "execution_count": 19,
   "metadata": {},
   "outputs": [
    {
     "name": "stdout",
     "output_type": "stream",
     "text": [
      "[-6.93740323e-02 -3.91402207e-02  2.92863548e-02  1.82792507e-02\n",
      " -1.85403507e-02  1.17417835e-02  2.29897480e-02  7.39928707e-03\n",
      "  9.99251474e-03  4.79939580e-02 -4.29715067e-02 -4.03281339e-02\n",
      "  4.33789641e-02 -6.63601458e-02 -5.70791699e-02  5.42103834e-02\n",
      "  7.59989116e-03  4.25343476e-02 -3.42740975e-02 -4.86653410e-02\n",
      "  3.37981060e-02  8.71401653e-02 -5.08894995e-02 -5.97285926e-02\n",
      "  9.99723095e-03  7.48465508e-02  7.50488718e-04 -5.08583374e-02\n",
      "  8.92506987e-02 -3.48336026e-02  2.57500093e-02  8.30318108e-02\n",
      "  1.24064200e-02  4.95936163e-02 -9.08656269e-02  9.74184647e-02\n",
      " -1.01436041e-01  3.41251120e-02  7.62281865e-02 -1.17182443e-02\n",
      "  1.88694652e-02 -1.21768033e-02  9.58362594e-03 -9.39503387e-02\n",
      "  8.22593346e-02  3.47141586e-02 -5.90526983e-02 -2.70726196e-02\n",
      "  1.26541527e-02  3.51484516e-03 -1.05764121e-01 -3.14592607e-02\n",
      " -6.70927539e-02  6.58134222e-02  4.67162207e-02  4.34121527e-02\n",
      "  6.90396205e-02 -4.46564704e-03 -1.28771728e-02 -3.51248379e-03\n",
      " -8.61124787e-03 -3.93636338e-02  1.69419532e-03 -3.82392071e-02\n",
      "  1.03873499e-01 -7.89794475e-02 -4.03205585e-03  6.97316974e-03\n",
      "  7.48735853e-03 -1.13256149e-01  9.04801190e-02  3.15205827e-02\n",
      " -4.42616679e-02  2.56562978e-02  7.36925155e-02  4.04867856e-03\n",
      "  2.57637836e-02 -5.48791885e-02  6.39693588e-02 -3.58246453e-02\n",
      " -8.60483758e-03  3.59757356e-02  6.12942874e-03  4.67459932e-02\n",
      "  2.47746855e-02 -1.08043998e-02  2.55317241e-02  4.13496718e-02\n",
      "  3.04797757e-02  8.50736275e-02 -6.65625706e-02 -5.15918024e-02\n",
      " -5.28904460e-02  1.35548227e-02  9.87065025e-03  9.73266922e-03\n",
      "  1.35797670e-03 -8.03589970e-02 -6.78504538e-03  1.98202673e-02\n",
      " -3.48205504e-04  4.38420624e-02 -3.17688361e-02 -1.64334793e-02\n",
      " -2.00716630e-02 -4.54979092e-02  6.44770116e-02 -4.03797887e-02\n",
      "  5.96535765e-03 -7.25309849e-02 -5.66483103e-02 -6.00744188e-02\n",
      "  2.39486545e-02 -7.27951452e-02 -8.11546892e-02 -2.36807880e-03\n",
      "  7.78286904e-03  1.09314777e-01  8.06555618e-03 -4.41793632e-03\n",
      "  2.73165740e-02 -1.65611636e-02 -6.40594773e-03  7.50002638e-02\n",
      "  2.99955457e-02 -9.53062922e-02 -1.59666054e-02 -5.74059903e-33\n",
      " -1.75205395e-02 -4.76368852e-02 -6.03599707e-03  1.19614236e-01\n",
      "  8.60435665e-02  3.50183155e-03 -1.61463842e-02 -2.82275919e-02\n",
      "  1.25473607e-02 -1.15442783e-01 -5.30099533e-02 -1.27743511e-02\n",
      " -8.94474462e-02  1.13481760e-01  7.90010467e-02 -4.95096408e-02\n",
      " -9.42260921e-02  4.52638045e-02  1.80953939e-03 -9.32035875e-03\n",
      "  5.40420897e-02  2.76235808e-02 -1.02825789e-02 -4.46650153e-03\n",
      " -3.75975370e-02  3.64383422e-02  2.99575943e-02 -4.46028598e-02\n",
      "  3.65471654e-02  3.07288906e-03 -5.33143580e-02  3.39749418e-02\n",
      " -6.39934540e-02  2.07766686e-02 -1.32944873e-02  4.65778522e-02\n",
      " -2.88189910e-02 -3.10802255e-02 -1.45792505e-02  7.85200819e-02\n",
      " -5.23584289e-03  6.59787154e-04  2.84968074e-02 -1.67421829e-02\n",
      " -8.16554204e-02 -1.19194891e-02  5.37959076e-02 -4.43432806e-03\n",
      " -3.09420880e-02 -1.08616585e-02 -2.11845245e-02  4.81398180e-02\n",
      "  1.07883699e-01 -5.41657060e-02  3.95499617e-02  5.99294044e-02\n",
      " -4.15257029e-02  3.51085477e-02  2.78892950e-03 -2.55633350e-02\n",
      "  2.29248814e-02  7.98705071e-02 -2.99423430e-02  1.16519980e-01\n",
      " -7.27556180e-03  3.70693184e-03  2.80609261e-03 -2.84682773e-02\n",
      "  1.46597952e-01  5.48983365e-02  3.12641524e-02 -6.51384844e-03\n",
      " -3.38444188e-02 -4.35877554e-02 -6.57349378e-02  1.36192488e-02\n",
      " -3.07517815e-02 -3.32701132e-02  2.21620523e-03 -4.56064679e-02\n",
      " -1.52393386e-01 -1.02862436e-03 -7.46439323e-02 -1.40096927e-02\n",
      "  3.97887006e-02  3.74249890e-02 -2.59810053e-02  2.34993268e-02\n",
      " -1.24590602e-02 -1.11687016e-02 -5.55484071e-02 -1.92325469e-02\n",
      " -2.53088400e-02  3.14274877e-02 -7.28939995e-02  2.76706374e-33\n",
      " -1.02920264e-01 -6.57076249e-03 -8.44299272e-02  7.80811533e-02\n",
      " -5.45599349e-02 -3.11001129e-02 -5.23556024e-02  3.36536393e-02\n",
      " -2.02924814e-02 -4.35159542e-03 -7.04634264e-02  4.28104103e-02\n",
      "  3.07279918e-02  2.77259275e-02 -1.98594406e-02 -2.92754285e-02\n",
      " -7.08492519e-03 -8.87470320e-03 -2.58113593e-02 -1.89229697e-02\n",
      "  5.08202426e-02  1.04241587e-01 -4.90902625e-02 -5.55429496e-02\n",
      " -1.89027656e-02  5.08141220e-02 -7.35537708e-02  7.96383917e-02\n",
      " -2.86062993e-02  3.90396193e-02  6.84274584e-02 -3.00564282e-02\n",
      " -3.96475084e-02  4.70711999e-02  9.65583138e-04  1.21815808e-01\n",
      "  1.05461761e-01  2.01184093e-03 -4.76133265e-02  6.77609816e-02\n",
      " -2.24657077e-02 -5.75876795e-03 -2.22102683e-02  6.64002523e-02\n",
      " -3.41006555e-02  5.75107522e-03 -3.03387195e-02  3.04277949e-02\n",
      "  4.27876189e-02  1.84651986e-02  8.58427864e-03  5.05262874e-02\n",
      " -3.10586970e-02 -6.26616478e-02 -8.64160657e-02 -8.66869912e-02\n",
      "  1.14319045e-02 -1.62338745e-02  2.87643299e-02  2.55989581e-02\n",
      " -3.87304127e-02 -7.20178187e-02  1.05329929e-02 -2.50695255e-02\n",
      " -5.38243055e-02  5.64790927e-02 -1.74790341e-02 -6.80601504e-03\n",
      "  4.06765938e-02 -2.32113153e-02  7.81264603e-02  5.23185581e-02\n",
      "  3.10578924e-02  4.11288515e-02  3.13984826e-02 -2.17614267e-02\n",
      "  1.09103164e-02  4.64712754e-02  5.57823863e-04 -1.11223511e-01\n",
      " -2.36192159e-02 -1.11065216e-01  3.95504013e-03  2.55454378e-03\n",
      " -4.88181747e-02 -3.65217626e-02  1.10570351e-02  1.26123438e-02\n",
      " -1.01047680e-02  3.09254229e-02 -1.76902153e-02  1.37163177e-02\n",
      " -3.69247347e-02 -6.81162579e-03 -9.86237973e-02 -1.47447423e-08\n",
      " -1.63496751e-02 -4.60055918e-02  4.59778905e-02 -3.27799022e-02\n",
      "  8.77437294e-02 -2.78952755e-02 -4.44487706e-02  2.47698706e-02\n",
      " -9.49533749e-03 -7.20663145e-02  6.08181916e-02 -1.62255093e-02\n",
      "  1.92981120e-02 -1.76105986e-03  1.53094247e-01 -1.47172762e-03\n",
      "  3.38847712e-02  2.95454431e-02 -4.75862920e-02  2.89558782e-03\n",
      "  1.16741896e-01 -6.82227267e-03 -8.28111693e-02 -3.79007347e-02\n",
      "  4.00624312e-02 -7.82040209e-02  2.12945268e-02 -1.20407948e-02\n",
      " -8.25157464e-02  4.80915606e-02 -1.36260055e-02  1.28755987e-01\n",
      "  5.28145675e-03  2.67937072e-02  5.48429042e-03  9.39521939e-02\n",
      "  7.76438490e-02 -7.88620710e-02 -4.49849330e-02 -1.08424626e-01\n",
      " -4.76486544e-04  6.53122813e-02 -6.10250188e-03 -1.12414069e-03\n",
      "  7.22769722e-02  1.83772631e-02  1.83448140e-02 -7.56448433e-02\n",
      "  1.19648371e-02  3.26312780e-02  2.80335126e-03  4.37260456e-02\n",
      "  5.73859550e-02  2.62842923e-02  2.94302441e-02 -1.04103796e-02\n",
      "  1.06516974e-02 -5.79396300e-02  4.33549955e-02  7.26708770e-03\n",
      "  2.49811672e-02  1.16612494e-01  7.68719614e-02 -5.63987978e-02]\n"
     ]
    },
    {
     "data": {
      "text/plain": [
       "384"
      ]
     },
     "execution_count": 19,
     "metadata": {},
     "output_type": "execute_result"
    }
   ],
   "source": [
    "print(embed_query)\n",
    "len(embed_query) # embed_query dimension and our prev embedings dimention should be same\n",
    "# so, same model should be used to embed both query n data so that the dimensions are same"
   ]
  },
  {
   "cell_type": "code",
   "execution_count": 20,
   "metadata": {},
   "outputs": [],
   "source": [
    "embedList = embed_query.tolist()#like b4 we are converting arrays to list format\n",
    "cursor.execute(f\"SELECT text_chunk from gendb ORDER BY embedding <-> '{embedList}' Limit 6 \")\n",
    "\n"
   ]
  },
  {
   "cell_type": "code",
   "execution_count": 21,
   "metadata": {},
   "outputs": [],
   "source": [
    "result = cursor.fetchall()"
   ]
  },
  {
   "cell_type": "code",
   "execution_count": 22,
   "metadata": {},
   "outputs": [
    {
     "name": "stdout",
     "output_type": "stream",
     "text": [
      "[('to be refined for generative AI.[101]',), ('to be refined for generative AI.[101]',), ('Generative artificial intelligence (generative AI, GenAI,[1] or GAI) is a subset of artificial intelligence that uses generative models to produce text, images, videos, or other forms of',), ('Generative artificial intelligence (generative AI, GenAI,[1] or GAI) is a subset of artificial intelligence that uses generative models to produce text, images, videos, or other forms of',), ('Generative AI has uses across a wide range of industries, including software development, healthcare, finance, entertainment, customer service,[15] sales and marketing,[16] art, writing,[17]',), ('Generative AI has uses across a wide range of industries, including software development, healthcare, finance, entertainment, customer service,[15] sales and marketing,[16] art, writing,[17]',)]\n"
     ]
    }
   ],
   "source": [
    "print(result)"
   ]
  },
  {
   "cell_type": "code",
   "execution_count": 23,
   "metadata": {},
   "outputs": [
    {
     "name": "stdout",
     "output_type": "stream",
     "text": [
      "('to be refined for generative AI.[101]',)\n",
      "\n",
      " \n",
      "\n",
      "('to be refined for generative AI.[101]',)\n",
      "\n",
      " \n",
      "\n",
      "('Generative artificial intelligence (generative AI, GenAI,[1] or GAI) is a subset of artificial intelligence that uses generative models to produce text, images, videos, or other forms of',)\n",
      "\n",
      " \n",
      "\n",
      "('Generative artificial intelligence (generative AI, GenAI,[1] or GAI) is a subset of artificial intelligence that uses generative models to produce text, images, videos, or other forms of',)\n",
      "\n",
      " \n",
      "\n",
      "('Generative AI has uses across a wide range of industries, including software development, healthcare, finance, entertainment, customer service,[15] sales and marketing,[16] art, writing,[17]',)\n",
      "\n",
      " \n",
      "\n",
      "('Generative AI has uses across a wide range of industries, including software development, healthcare, finance, entertainment, customer service,[15] sales and marketing,[16] art, writing,[17]',)\n",
      "\n",
      " \n",
      "\n"
     ]
    }
   ],
   "source": [
    "for i in result:\n",
    "    print(i)\n",
    "    print('\\n \\n')"
   ]
  },
  {
   "cell_type": "code",
   "execution_count": null,
   "metadata": {},
   "outputs": [],
   "source": []
  }
 ],
 "metadata": {
  "kernelspec": {
   "display_name": "Python 3",
   "language": "python",
   "name": "python3"
  },
  "language_info": {
   "codemirror_mode": {
    "name": "ipython",
    "version": 3
   },
   "file_extension": ".py",
   "mimetype": "text/x-python",
   "name": "python",
   "nbconvert_exporter": "python",
   "pygments_lexer": "ipython3",
   "version": "3.12.5"
  }
 },
 "nbformat": 4,
 "nbformat_minor": 2
}
