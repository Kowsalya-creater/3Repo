{
 "cells": [
  {
   "cell_type": "code",
   "execution_count": 1,
   "metadata": {},
   "outputs": [],
   "source": [
    "import pandas as pd\n",
    "import numpy as np\n",
    "import pickle\n",
    "from sklearn.model_selection import train_test_split\n",
    "from sklearn.metrics import r2_score, mean_squared_error\n",
    "from sklearn.ensemble import RandomForestRegressor\n",
    "from sklearn.preprocessing import LabelEncoder"
   ]
  },
  {
   "cell_type": "code",
   "execution_count": 2,
   "metadata": {},
   "outputs": [
    {
     "data": {
      "text/plain": [
       "ID                                               0\n",
       "Date House was Sold                              0\n",
       "Sale Price                                       4\n",
       "No of Bedrooms                                   0\n",
       "No of Bathrooms                                  4\n",
       "Flat Area (in Sqft)                              9\n",
       "Lot Area (in Sqft)                               9\n",
       "No of Floors                                     0\n",
       "Waterfront View                                  0\n",
       "No of Times Visited                          19489\n",
       "Condition of the House                           0\n",
       "Overall Grade                                    0\n",
       "Area of the House from Basement (in Sqft)        3\n",
       "Basement Area (in Sqft)                          0\n",
       "Age of House (in Years)                          0\n",
       "Renovated Year                                   0\n",
       "Zipcode                                          1\n",
       "Latitude                                         1\n",
       "Longitude                                        1\n",
       "Living Area after Renovation (in Sqft)           1\n",
       "Lot Area after Renovation (in Sqft)              0\n",
       "dtype: int64"
      ]
     },
     "execution_count": 2,
     "metadata": {},
     "output_type": "execute_result"
    }
   ],
   "source": [
    "df = pd.read_csv('house_dataset.csv')\n",
    "df.isnull().sum()"
   ]
  },
  {
   "cell_type": "code",
   "execution_count": 3,
   "metadata": {},
   "outputs": [
    {
     "data": {
      "text/plain": [
       "ID                                               0\n",
       "Date House was Sold                              0\n",
       "Sale Price                                       0\n",
       "No of Bedrooms                                   0\n",
       "No of Bathrooms                                  0\n",
       "Flat Area (in Sqft)                              0\n",
       "Lot Area (in Sqft)                               0\n",
       "No of Floors                                     0\n",
       "Waterfront View                                  0\n",
       "No of Times Visited                          19461\n",
       "Condition of the House                           0\n",
       "Overall Grade                                    0\n",
       "Area of the House from Basement (in Sqft)        0\n",
       "Basement Area (in Sqft)                          0\n",
       "Age of House (in Years)                          0\n",
       "Renovated Year                                   0\n",
       "Zipcode                                          0\n",
       "Latitude                                         1\n",
       "Longitude                                        1\n",
       "Living Area after Renovation (in Sqft)           0\n",
       "Lot Area after Renovation (in Sqft)              0\n",
       "dtype: int64"
      ]
     },
     "execution_count": 3,
     "metadata": {},
     "output_type": "execute_result"
    }
   ],
   "source": [
    "df.dropna(subset =['Sale Price','No of Bathrooms','Flat Area (in Sqft)','Lot Area (in Sqft)', 'Area of the House from Basement (in Sqft)', 'Zipcode','Living Area after Renovation (in Sqft)'], inplace = True)\n",
    "df.isnull().sum()"
   ]
  },
  {
   "cell_type": "code",
   "execution_count": 4,
   "metadata": {},
   "outputs": [],
   "source": [
    "le = LabelEncoder()\n",
    "df['No of Times Visited'] = le.fit_transform(df['No of Times Visited'])\n",
    "df['Condition of the House'] = le.fit_transform(df['Condition of the House'])\n",
    "df['Waterfront View'] = le.fit_transform(df['Waterfront View'])"
   ]
  },
  {
   "cell_type": "code",
   "execution_count": 5,
   "metadata": {},
   "outputs": [
    {
     "name": "stdout",
     "output_type": "stream",
     "text": [
      "0     2\n",
      "1     2\n",
      "2     2\n",
      "3     1\n",
      "4     2\n",
      "5     2\n",
      "6     2\n",
      "7     2\n",
      "8     2\n",
      "9     2\n",
      "10    2\n",
      "11    3\n",
      "12    3\n",
      "13    3\n",
      "14    2\n",
      "15    2\n",
      "16    2\n",
      "17    3\n",
      "18    3\n",
      "19    3\n",
      "Name: Condition of the House, dtype: int64\n",
      "0    4\n",
      "1    4\n",
      "2    4\n",
      "3    4\n",
      "4    4\n",
      "Name: No of Times Visited, dtype: int64\n"
     ]
    }
   ],
   "source": [
    "df.head()\n",
    "print(df['Condition of the House'].head(20))\n",
    "print(df['No of Times Visited'].head())"
   ]
  },
  {
   "cell_type": "code",
   "execution_count": 6,
   "metadata": {},
   "outputs": [
    {
     "name": "stderr",
     "output_type": "stream",
     "text": [
      "/Library/Frameworks/Python.framework/Versions/3.12/lib/python3.12/site-packages/numpy/_core/fromnumeric.py:57: FutureWarning: 'DataFrame.swapaxes' is deprecated and will be removed in a future version. Please use 'DataFrame.transpose' instead.\n",
      "  return bound(*args, **kwds)\n"
     ]
    }
   ],
   "source": [
    "c = np.array_split(df,10)\n",
    "\n",
    "c1 = c[0]\n",
    "c2 = c[1]\n",
    "c3 = c[2]\n",
    "c4 = c[3]\n",
    "c5 = c[4]\n",
    "c6 = c[5]\n",
    "c7 = c[6]\n",
    "c8 = c[7]\n",
    "c9 = c[8]\n",
    "c10 = c[9]\n",
    "\n",
    "# ip = df.drop(['ID','Date House was Sold','Latitude','Longitude','Sale Price'], axis = 1 )\n",
    "# op = df['Sale Price']"
   ]
  },
  {
   "cell_type": "code",
   "execution_count": 7,
   "metadata": {},
   "outputs": [],
   "source": [
    "c1_ip = c1.drop(['ID','Date House was Sold','Latitude','Longitude','Sale Price'], axis = 1 )\n",
    "c1_op = c1['Sale Price']\n",
    "\n",
    "c2_ip = c2.drop(['ID','Date House was Sold','Latitude','Longitude','Sale Price'], axis = 1 )\n",
    "c2_op = c2['Sale Price']\n",
    "\n",
    "c3_ip = c3.drop(['ID','Date House was Sold','Latitude','Longitude','Sale Price'], axis = 1 )\n",
    "c3_op = c3['Sale Price']\n",
    "\n",
    "c4_ip = c4.drop(['ID','Date House was Sold','Latitude','Longitude','Sale Price'], axis = 1 )\n",
    "c4_op = c4['Sale Price']\n",
    "\n",
    "c5_ip = c5.drop(['ID','Date House was Sold','Latitude','Longitude','Sale Price'], axis = 1 )\n",
    "c5_op = c5['Sale Price']\n",
    "\n",
    "c6_ip = c6.drop(['ID','Date House was Sold','Latitude','Longitude','Sale Price'], axis = 1 )\n",
    "c6_op = c6['Sale Price']\n",
    "\n",
    "c7_ip = c7.drop(['ID','Date House was Sold','Latitude','Longitude','Sale Price'], axis = 1 )\n",
    "c7_op = c7['Sale Price']\n",
    "\n",
    "c8_ip = c8.drop(['ID','Date House was Sold','Latitude','Longitude','Sale Price'], axis = 1 )\n",
    "c8_op = c8['Sale Price']\n",
    "\n",
    "c9_ip = c9.drop(['ID','Date House was Sold','Latitude','Longitude','Sale Price'], axis = 1 )\n",
    "c9_op = c9['Sale Price']\n",
    "\n",
    "c10_ip = c10.drop(['ID','Date House was Sold','Latitude','Longitude','Sale Price'], axis = 1 )\n",
    "c10_op = c10['Sale Price']"
   ]
  },
  {
   "cell_type": "code",
   "execution_count": 8,
   "metadata": {},
   "outputs": [],
   "source": [
    "train_ip = pd.concat([c1_ip, c2_ip, c3_ip, c4_ip, c5_ip, c6_ip, c7_ip, c8_ip, c9_ip])\n",
    "train_op = pd.concat([c1_op, c2_op, c3_op, c4_op, c5_op, c6_op, c7_op, c8_op, c9_op])\n",
    "\n"
   ]
  },
  {
   "cell_type": "code",
   "execution_count": 9,
   "metadata": {},
   "outputs": [
    {
     "data": {
      "text/html": [
       "<style>#sk-container-id-1 {\n",
       "  /* Definition of color scheme common for light and dark mode */\n",
       "  --sklearn-color-text: black;\n",
       "  --sklearn-color-line: gray;\n",
       "  /* Definition of color scheme for unfitted estimators */\n",
       "  --sklearn-color-unfitted-level-0: #fff5e6;\n",
       "  --sklearn-color-unfitted-level-1: #f6e4d2;\n",
       "  --sklearn-color-unfitted-level-2: #ffe0b3;\n",
       "  --sklearn-color-unfitted-level-3: chocolate;\n",
       "  /* Definition of color scheme for fitted estimators */\n",
       "  --sklearn-color-fitted-level-0: #f0f8ff;\n",
       "  --sklearn-color-fitted-level-1: #d4ebff;\n",
       "  --sklearn-color-fitted-level-2: #b3dbfd;\n",
       "  --sklearn-color-fitted-level-3: cornflowerblue;\n",
       "\n",
       "  /* Specific color for light theme */\n",
       "  --sklearn-color-text-on-default-background: var(--sg-text-color, var(--theme-code-foreground, var(--jp-content-font-color1, black)));\n",
       "  --sklearn-color-background: var(--sg-background-color, var(--theme-background, var(--jp-layout-color0, white)));\n",
       "  --sklearn-color-border-box: var(--sg-text-color, var(--theme-code-foreground, var(--jp-content-font-color1, black)));\n",
       "  --sklearn-color-icon: #696969;\n",
       "\n",
       "  @media (prefers-color-scheme: dark) {\n",
       "    /* Redefinition of color scheme for dark theme */\n",
       "    --sklearn-color-text-on-default-background: var(--sg-text-color, var(--theme-code-foreground, var(--jp-content-font-color1, white)));\n",
       "    --sklearn-color-background: var(--sg-background-color, var(--theme-background, var(--jp-layout-color0, #111)));\n",
       "    --sklearn-color-border-box: var(--sg-text-color, var(--theme-code-foreground, var(--jp-content-font-color1, white)));\n",
       "    --sklearn-color-icon: #878787;\n",
       "  }\n",
       "}\n",
       "\n",
       "#sk-container-id-1 {\n",
       "  color: var(--sklearn-color-text);\n",
       "}\n",
       "\n",
       "#sk-container-id-1 pre {\n",
       "  padding: 0;\n",
       "}\n",
       "\n",
       "#sk-container-id-1 input.sk-hidden--visually {\n",
       "  border: 0;\n",
       "  clip: rect(1px 1px 1px 1px);\n",
       "  clip: rect(1px, 1px, 1px, 1px);\n",
       "  height: 1px;\n",
       "  margin: -1px;\n",
       "  overflow: hidden;\n",
       "  padding: 0;\n",
       "  position: absolute;\n",
       "  width: 1px;\n",
       "}\n",
       "\n",
       "#sk-container-id-1 div.sk-dashed-wrapped {\n",
       "  border: 1px dashed var(--sklearn-color-line);\n",
       "  margin: 0 0.4em 0.5em 0.4em;\n",
       "  box-sizing: border-box;\n",
       "  padding-bottom: 0.4em;\n",
       "  background-color: var(--sklearn-color-background);\n",
       "}\n",
       "\n",
       "#sk-container-id-1 div.sk-container {\n",
       "  /* jupyter's `normalize.less` sets `[hidden] { display: none; }`\n",
       "     but bootstrap.min.css set `[hidden] { display: none !important; }`\n",
       "     so we also need the `!important` here to be able to override the\n",
       "     default hidden behavior on the sphinx rendered scikit-learn.org.\n",
       "     See: https://github.com/scikit-learn/scikit-learn/issues/21755 */\n",
       "  display: inline-block !important;\n",
       "  position: relative;\n",
       "}\n",
       "\n",
       "#sk-container-id-1 div.sk-text-repr-fallback {\n",
       "  display: none;\n",
       "}\n",
       "\n",
       "div.sk-parallel-item,\n",
       "div.sk-serial,\n",
       "div.sk-item {\n",
       "  /* draw centered vertical line to link estimators */\n",
       "  background-image: linear-gradient(var(--sklearn-color-text-on-default-background), var(--sklearn-color-text-on-default-background));\n",
       "  background-size: 2px 100%;\n",
       "  background-repeat: no-repeat;\n",
       "  background-position: center center;\n",
       "}\n",
       "\n",
       "/* Parallel-specific style estimator block */\n",
       "\n",
       "#sk-container-id-1 div.sk-parallel-item::after {\n",
       "  content: \"\";\n",
       "  width: 100%;\n",
       "  border-bottom: 2px solid var(--sklearn-color-text-on-default-background);\n",
       "  flex-grow: 1;\n",
       "}\n",
       "\n",
       "#sk-container-id-1 div.sk-parallel {\n",
       "  display: flex;\n",
       "  align-items: stretch;\n",
       "  justify-content: center;\n",
       "  background-color: var(--sklearn-color-background);\n",
       "  position: relative;\n",
       "}\n",
       "\n",
       "#sk-container-id-1 div.sk-parallel-item {\n",
       "  display: flex;\n",
       "  flex-direction: column;\n",
       "}\n",
       "\n",
       "#sk-container-id-1 div.sk-parallel-item:first-child::after {\n",
       "  align-self: flex-end;\n",
       "  width: 50%;\n",
       "}\n",
       "\n",
       "#sk-container-id-1 div.sk-parallel-item:last-child::after {\n",
       "  align-self: flex-start;\n",
       "  width: 50%;\n",
       "}\n",
       "\n",
       "#sk-container-id-1 div.sk-parallel-item:only-child::after {\n",
       "  width: 0;\n",
       "}\n",
       "\n",
       "/* Serial-specific style estimator block */\n",
       "\n",
       "#sk-container-id-1 div.sk-serial {\n",
       "  display: flex;\n",
       "  flex-direction: column;\n",
       "  align-items: center;\n",
       "  background-color: var(--sklearn-color-background);\n",
       "  padding-right: 1em;\n",
       "  padding-left: 1em;\n",
       "}\n",
       "\n",
       "\n",
       "/* Toggleable style: style used for estimator/Pipeline/ColumnTransformer box that is\n",
       "clickable and can be expanded/collapsed.\n",
       "- Pipeline and ColumnTransformer use this feature and define the default style\n",
       "- Estimators will overwrite some part of the style using the `sk-estimator` class\n",
       "*/\n",
       "\n",
       "/* Pipeline and ColumnTransformer style (default) */\n",
       "\n",
       "#sk-container-id-1 div.sk-toggleable {\n",
       "  /* Default theme specific background. It is overwritten whether we have a\n",
       "  specific estimator or a Pipeline/ColumnTransformer */\n",
       "  background-color: var(--sklearn-color-background);\n",
       "}\n",
       "\n",
       "/* Toggleable label */\n",
       "#sk-container-id-1 label.sk-toggleable__label {\n",
       "  cursor: pointer;\n",
       "  display: block;\n",
       "  width: 100%;\n",
       "  margin-bottom: 0;\n",
       "  padding: 0.5em;\n",
       "  box-sizing: border-box;\n",
       "  text-align: center;\n",
       "}\n",
       "\n",
       "#sk-container-id-1 label.sk-toggleable__label-arrow:before {\n",
       "  /* Arrow on the left of the label */\n",
       "  content: \"▸\";\n",
       "  float: left;\n",
       "  margin-right: 0.25em;\n",
       "  color: var(--sklearn-color-icon);\n",
       "}\n",
       "\n",
       "#sk-container-id-1 label.sk-toggleable__label-arrow:hover:before {\n",
       "  color: var(--sklearn-color-text);\n",
       "}\n",
       "\n",
       "/* Toggleable content - dropdown */\n",
       "\n",
       "#sk-container-id-1 div.sk-toggleable__content {\n",
       "  max-height: 0;\n",
       "  max-width: 0;\n",
       "  overflow: hidden;\n",
       "  text-align: left;\n",
       "  /* unfitted */\n",
       "  background-color: var(--sklearn-color-unfitted-level-0);\n",
       "}\n",
       "\n",
       "#sk-container-id-1 div.sk-toggleable__content.fitted {\n",
       "  /* fitted */\n",
       "  background-color: var(--sklearn-color-fitted-level-0);\n",
       "}\n",
       "\n",
       "#sk-container-id-1 div.sk-toggleable__content pre {\n",
       "  margin: 0.2em;\n",
       "  border-radius: 0.25em;\n",
       "  color: var(--sklearn-color-text);\n",
       "  /* unfitted */\n",
       "  background-color: var(--sklearn-color-unfitted-level-0);\n",
       "}\n",
       "\n",
       "#sk-container-id-1 div.sk-toggleable__content.fitted pre {\n",
       "  /* unfitted */\n",
       "  background-color: var(--sklearn-color-fitted-level-0);\n",
       "}\n",
       "\n",
       "#sk-container-id-1 input.sk-toggleable__control:checked~div.sk-toggleable__content {\n",
       "  /* Expand drop-down */\n",
       "  max-height: 200px;\n",
       "  max-width: 100%;\n",
       "  overflow: auto;\n",
       "}\n",
       "\n",
       "#sk-container-id-1 input.sk-toggleable__control:checked~label.sk-toggleable__label-arrow:before {\n",
       "  content: \"▾\";\n",
       "}\n",
       "\n",
       "/* Pipeline/ColumnTransformer-specific style */\n",
       "\n",
       "#sk-container-id-1 div.sk-label input.sk-toggleable__control:checked~label.sk-toggleable__label {\n",
       "  color: var(--sklearn-color-text);\n",
       "  background-color: var(--sklearn-color-unfitted-level-2);\n",
       "}\n",
       "\n",
       "#sk-container-id-1 div.sk-label.fitted input.sk-toggleable__control:checked~label.sk-toggleable__label {\n",
       "  background-color: var(--sklearn-color-fitted-level-2);\n",
       "}\n",
       "\n",
       "/* Estimator-specific style */\n",
       "\n",
       "/* Colorize estimator box */\n",
       "#sk-container-id-1 div.sk-estimator input.sk-toggleable__control:checked~label.sk-toggleable__label {\n",
       "  /* unfitted */\n",
       "  background-color: var(--sklearn-color-unfitted-level-2);\n",
       "}\n",
       "\n",
       "#sk-container-id-1 div.sk-estimator.fitted input.sk-toggleable__control:checked~label.sk-toggleable__label {\n",
       "  /* fitted */\n",
       "  background-color: var(--sklearn-color-fitted-level-2);\n",
       "}\n",
       "\n",
       "#sk-container-id-1 div.sk-label label.sk-toggleable__label,\n",
       "#sk-container-id-1 div.sk-label label {\n",
       "  /* The background is the default theme color */\n",
       "  color: var(--sklearn-color-text-on-default-background);\n",
       "}\n",
       "\n",
       "/* On hover, darken the color of the background */\n",
       "#sk-container-id-1 div.sk-label:hover label.sk-toggleable__label {\n",
       "  color: var(--sklearn-color-text);\n",
       "  background-color: var(--sklearn-color-unfitted-level-2);\n",
       "}\n",
       "\n",
       "/* Label box, darken color on hover, fitted */\n",
       "#sk-container-id-1 div.sk-label.fitted:hover label.sk-toggleable__label.fitted {\n",
       "  color: var(--sklearn-color-text);\n",
       "  background-color: var(--sklearn-color-fitted-level-2);\n",
       "}\n",
       "\n",
       "/* Estimator label */\n",
       "\n",
       "#sk-container-id-1 div.sk-label label {\n",
       "  font-family: monospace;\n",
       "  font-weight: bold;\n",
       "  display: inline-block;\n",
       "  line-height: 1.2em;\n",
       "}\n",
       "\n",
       "#sk-container-id-1 div.sk-label-container {\n",
       "  text-align: center;\n",
       "}\n",
       "\n",
       "/* Estimator-specific */\n",
       "#sk-container-id-1 div.sk-estimator {\n",
       "  font-family: monospace;\n",
       "  border: 1px dotted var(--sklearn-color-border-box);\n",
       "  border-radius: 0.25em;\n",
       "  box-sizing: border-box;\n",
       "  margin-bottom: 0.5em;\n",
       "  /* unfitted */\n",
       "  background-color: var(--sklearn-color-unfitted-level-0);\n",
       "}\n",
       "\n",
       "#sk-container-id-1 div.sk-estimator.fitted {\n",
       "  /* fitted */\n",
       "  background-color: var(--sklearn-color-fitted-level-0);\n",
       "}\n",
       "\n",
       "/* on hover */\n",
       "#sk-container-id-1 div.sk-estimator:hover {\n",
       "  /* unfitted */\n",
       "  background-color: var(--sklearn-color-unfitted-level-2);\n",
       "}\n",
       "\n",
       "#sk-container-id-1 div.sk-estimator.fitted:hover {\n",
       "  /* fitted */\n",
       "  background-color: var(--sklearn-color-fitted-level-2);\n",
       "}\n",
       "\n",
       "/* Specification for estimator info (e.g. \"i\" and \"?\") */\n",
       "\n",
       "/* Common style for \"i\" and \"?\" */\n",
       "\n",
       ".sk-estimator-doc-link,\n",
       "a:link.sk-estimator-doc-link,\n",
       "a:visited.sk-estimator-doc-link {\n",
       "  float: right;\n",
       "  font-size: smaller;\n",
       "  line-height: 1em;\n",
       "  font-family: monospace;\n",
       "  background-color: var(--sklearn-color-background);\n",
       "  border-radius: 1em;\n",
       "  height: 1em;\n",
       "  width: 1em;\n",
       "  text-decoration: none !important;\n",
       "  margin-left: 1ex;\n",
       "  /* unfitted */\n",
       "  border: var(--sklearn-color-unfitted-level-1) 1pt solid;\n",
       "  color: var(--sklearn-color-unfitted-level-1);\n",
       "}\n",
       "\n",
       ".sk-estimator-doc-link.fitted,\n",
       "a:link.sk-estimator-doc-link.fitted,\n",
       "a:visited.sk-estimator-doc-link.fitted {\n",
       "  /* fitted */\n",
       "  border: var(--sklearn-color-fitted-level-1) 1pt solid;\n",
       "  color: var(--sklearn-color-fitted-level-1);\n",
       "}\n",
       "\n",
       "/* On hover */\n",
       "div.sk-estimator:hover .sk-estimator-doc-link:hover,\n",
       ".sk-estimator-doc-link:hover,\n",
       "div.sk-label-container:hover .sk-estimator-doc-link:hover,\n",
       ".sk-estimator-doc-link:hover {\n",
       "  /* unfitted */\n",
       "  background-color: var(--sklearn-color-unfitted-level-3);\n",
       "  color: var(--sklearn-color-background);\n",
       "  text-decoration: none;\n",
       "}\n",
       "\n",
       "div.sk-estimator.fitted:hover .sk-estimator-doc-link.fitted:hover,\n",
       ".sk-estimator-doc-link.fitted:hover,\n",
       "div.sk-label-container:hover .sk-estimator-doc-link.fitted:hover,\n",
       ".sk-estimator-doc-link.fitted:hover {\n",
       "  /* fitted */\n",
       "  background-color: var(--sklearn-color-fitted-level-3);\n",
       "  color: var(--sklearn-color-background);\n",
       "  text-decoration: none;\n",
       "}\n",
       "\n",
       "/* Span, style for the box shown on hovering the info icon */\n",
       ".sk-estimator-doc-link span {\n",
       "  display: none;\n",
       "  z-index: 9999;\n",
       "  position: relative;\n",
       "  font-weight: normal;\n",
       "  right: .2ex;\n",
       "  padding: .5ex;\n",
       "  margin: .5ex;\n",
       "  width: min-content;\n",
       "  min-width: 20ex;\n",
       "  max-width: 50ex;\n",
       "  color: var(--sklearn-color-text);\n",
       "  box-shadow: 2pt 2pt 4pt #999;\n",
       "  /* unfitted */\n",
       "  background: var(--sklearn-color-unfitted-level-0);\n",
       "  border: .5pt solid var(--sklearn-color-unfitted-level-3);\n",
       "}\n",
       "\n",
       ".sk-estimator-doc-link.fitted span {\n",
       "  /* fitted */\n",
       "  background: var(--sklearn-color-fitted-level-0);\n",
       "  border: var(--sklearn-color-fitted-level-3);\n",
       "}\n",
       "\n",
       ".sk-estimator-doc-link:hover span {\n",
       "  display: block;\n",
       "}\n",
       "\n",
       "/* \"?\"-specific style due to the `<a>` HTML tag */\n",
       "\n",
       "#sk-container-id-1 a.estimator_doc_link {\n",
       "  float: right;\n",
       "  font-size: 1rem;\n",
       "  line-height: 1em;\n",
       "  font-family: monospace;\n",
       "  background-color: var(--sklearn-color-background);\n",
       "  border-radius: 1rem;\n",
       "  height: 1rem;\n",
       "  width: 1rem;\n",
       "  text-decoration: none;\n",
       "  /* unfitted */\n",
       "  color: var(--sklearn-color-unfitted-level-1);\n",
       "  border: var(--sklearn-color-unfitted-level-1) 1pt solid;\n",
       "}\n",
       "\n",
       "#sk-container-id-1 a.estimator_doc_link.fitted {\n",
       "  /* fitted */\n",
       "  border: var(--sklearn-color-fitted-level-1) 1pt solid;\n",
       "  color: var(--sklearn-color-fitted-level-1);\n",
       "}\n",
       "\n",
       "/* On hover */\n",
       "#sk-container-id-1 a.estimator_doc_link:hover {\n",
       "  /* unfitted */\n",
       "  background-color: var(--sklearn-color-unfitted-level-3);\n",
       "  color: var(--sklearn-color-background);\n",
       "  text-decoration: none;\n",
       "}\n",
       "\n",
       "#sk-container-id-1 a.estimator_doc_link.fitted:hover {\n",
       "  /* fitted */\n",
       "  background-color: var(--sklearn-color-fitted-level-3);\n",
       "}\n",
       "</style><div id=\"sk-container-id-1\" class=\"sk-top-container\"><div class=\"sk-text-repr-fallback\"><pre>RandomForestRegressor(random_state=42)</pre><b>In a Jupyter environment, please rerun this cell to show the HTML representation or trust the notebook. <br />On GitHub, the HTML representation is unable to render, please try loading this page with nbviewer.org.</b></div><div class=\"sk-container\" hidden><div class=\"sk-item\"><div class=\"sk-estimator fitted sk-toggleable\"><input class=\"sk-toggleable__control sk-hidden--visually\" id=\"sk-estimator-id-1\" type=\"checkbox\" checked><label for=\"sk-estimator-id-1\" class=\"sk-toggleable__label fitted sk-toggleable__label-arrow fitted\">&nbsp;&nbsp;RandomForestRegressor<a class=\"sk-estimator-doc-link fitted\" rel=\"noreferrer\" target=\"_blank\" href=\"https://scikit-learn.org/1.5/modules/generated/sklearn.ensemble.RandomForestRegressor.html\">?<span>Documentation for RandomForestRegressor</span></a><span class=\"sk-estimator-doc-link fitted\">i<span>Fitted</span></span></label><div class=\"sk-toggleable__content fitted\"><pre>RandomForestRegressor(random_state=42)</pre></div> </div></div></div></div>"
      ],
      "text/plain": [
       "RandomForestRegressor(random_state=42)"
      ]
     },
     "execution_count": 9,
     "metadata": {},
     "output_type": "execute_result"
    }
   ],
   "source": [
    "ran_for_reg = RandomForestRegressor(n_estimators= 100, random_state=42)\n",
    "ran_for_reg.fit(train_ip,train_op)"
   ]
  },
  {
   "cell_type": "code",
   "execution_count": 10,
   "metadata": {},
   "outputs": [],
   "source": [
    "with open ('HousePrice_Predict_ran_for_reg.pkl', mode = 'wb') as w:\n",
    "    pickle.dump(ran_for_reg, w)"
   ]
  },
  {
   "cell_type": "code",
   "execution_count": 11,
   "metadata": {},
   "outputs": [],
   "source": [
    "with open ('HousePrice_Predict_ran_for_reg.pkl', mode = 'rb') as r:\n",
    "    model_ran_for_reg = pickle.load(r)"
   ]
  },
  {
   "cell_type": "code",
   "execution_count": 12,
   "metadata": {},
   "outputs": [
    {
     "name": "stdout",
     "output_type": "stream",
     "text": [
      "287527.39\n"
     ]
    }
   ],
   "source": [
    "pred_op = model_ran_for_reg.predict(c10_ip)\n",
    "print(pred_op[0])\n"
   ]
  },
  {
   "cell_type": "code",
   "execution_count": 13,
   "metadata": {},
   "outputs": [
    {
     "name": "stdout",
     "output_type": "stream",
     "text": [
      "29133858818.864883\n"
     ]
    }
   ],
   "source": [
    "mean_err = mean_squared_error(c10_op, pred_op)\n",
    "print(mean_err)"
   ]
  },
  {
   "cell_type": "code",
   "execution_count": 14,
   "metadata": {},
   "outputs": [
    {
     "ename": "NameError",
     "evalue": "name 'r_score' is not defined",
     "output_type": "error",
     "traceback": [
      "\u001b[0;31m---------------------------------------------------------------------------\u001b[0m",
      "\u001b[0;31mNameError\u001b[0m                                 Traceback (most recent call last)",
      "Cell \u001b[0;32mIn[14], line 2\u001b[0m\n\u001b[1;32m      1\u001b[0m r_score10 \u001b[38;5;241m=\u001b[39m r2_score(c10_op, pred_op)\n\u001b[0;32m----> 2\u001b[0m \u001b[38;5;28mprint\u001b[39m(\u001b[38;5;124mf\u001b[39m\u001b[38;5;124m\"\u001b[39m\u001b[38;5;124mc10 as test, r2 score :\u001b[39m\u001b[38;5;132;01m{\u001b[39;00m\u001b[43mr_score\u001b[49m\u001b[38;5;250m \u001b[39m\u001b[38;5;241m*\u001b[39m\u001b[38;5;250m \u001b[39m\u001b[38;5;241m100\u001b[39m\u001b[38;5;132;01m}\u001b[39;00m\u001b[38;5;124m\"\u001b[39m)\n",
      "\u001b[0;31mNameError\u001b[0m: name 'r_score' is not defined"
     ]
    }
   ],
   "source": [
    "r_score10 = r2_score(c10_op, pred_op)\n",
    "print(f\"c10 as test, r2 score :{r_score * 100}\")"
   ]
  },
  {
   "cell_type": "code",
   "execution_count": null,
   "metadata": {},
   "outputs": [
    {
     "name": "stdout",
     "output_type": "stream",
     "text": [
      "281009.2133333334\n",
      "26189573376.572906\n",
      "c1 as test, r2 score :81.82755372055158\n"
     ]
    }
   ],
   "source": [
    "train_ip = pd.concat([c10_ip, c2_ip, c3_ip, c4_ip, c5_ip, c6_ip, c7_ip, c8_ip, c9_ip])\n",
    "train_op = pd.concat([c10_op, c2_op, c3_op, c4_op, c5_op, c6_op, c7_op, c8_op, c9_op])\n",
    "\n",
    "ran_for_reg = RandomForestRegressor(n_estimators= 100, random_state=42)\n",
    "ran_for_reg.fit(train_ip,train_op)\n",
    "\n",
    "with open ('HousePrice_Predict_ran_for_reg.pkl', mode = 'wb') as w:\n",
    "    pickle.dump(ran_for_reg, w)\n",
    "with open ('HousePrice_Predict_ran_for_reg.pkl', mode = 'rb') as r:\n",
    "    model_ran_for_reg = pickle.load(r)\n",
    "\n",
    "pred_op = model_ran_for_reg.predict(c1_ip)\n",
    "print(pred_op[0])\n",
    "\n",
    "mean_err = mean_squared_error(c1_op, pred_op)\n",
    "print(mean_err)\n",
    "\n",
    "r_score1 = r2_score(c1_op, pred_op)\n",
    "print(f\"c1 as test, r2 score :{r_score * 100}\")\n",
    "\n",
    "\n",
    "\n",
    "\n"
   ]
  },
  {
   "cell_type": "code",
   "execution_count": null,
   "metadata": {},
   "outputs": [
    {
     "name": "stdout",
     "output_type": "stream",
     "text": [
      "703541.5\n",
      "31260715538.485054\n",
      "c2 as test, r2 score :81.82755372055158\n"
     ]
    }
   ],
   "source": [
    "train_ip = pd.concat([c1_ip, c10_ip, c3_ip, c4_ip, c5_ip, c6_ip, c7_ip, c8_ip, c9_ip])\n",
    "train_op = pd.concat([c1_op, c10_op, c3_op, c4_op, c5_op, c6_op, c7_op, c8_op, c9_op])\n",
    "\n",
    "ran_for_reg = RandomForestRegressor(n_estimators= 100, random_state=42)\n",
    "ran_for_reg.fit(train_ip,train_op)\n",
    "\n",
    "with open ('HousePrice_Predict_ran_for_reg.pkl', mode = 'wb') as w:\n",
    "    pickle.dump(ran_for_reg, w)\n",
    "with open ('HousePrice_Predict_ran_for_reg.pkl', mode = 'rb') as r:\n",
    "    model_ran_for_reg = pickle.load(r)\n",
    "\n",
    "pred_op = model_ran_for_reg.predict(c2_ip)\n",
    "print(pred_op[0])\n",
    "\n",
    "mean_err = mean_squared_error(c2_op, pred_op)\n",
    "print(mean_err)\n",
    "\n",
    "r_score2 = r2_score(c2_op, pred_op)\n",
    "print(f\"c2 as test, r2 score :{r_score * 100}\")"
   ]
  },
  {
   "cell_type": "code",
   "execution_count": null,
   "metadata": {},
   "outputs": [
    {
     "name": "stdout",
     "output_type": "stream",
     "text": [
      "680741.41\n",
      "17773240685.148727\n",
      "c3 as test, r2 score :81.82755372055158\n"
     ]
    }
   ],
   "source": [
    "train_ip = pd.concat([c1_ip, c2_ip, c10_ip, c4_ip, c5_ip, c6_ip, c7_ip, c8_ip, c9_ip])\n",
    "train_op = pd.concat([c1_op, c2_op, c10_op, c4_op, c5_op, c6_op, c7_op, c8_op, c9_op])\n",
    "\n",
    "ran_for_reg = RandomForestRegressor(n_estimators= 100, random_state=42)\n",
    "ran_for_reg.fit(train_ip,train_op)\n",
    "\n",
    "with open ('HousePrice_Predict_ran_for_reg.pkl', mode = 'wb') as w:\n",
    "    pickle.dump(ran_for_reg, w)\n",
    "with open ('HousePrice_Predict_ran_for_reg.pkl', mode = 'rb') as r:\n",
    "    model_ran_for_reg = pickle.load(r)\n",
    "\n",
    "pred_op = model_ran_for_reg.predict(c3_ip)\n",
    "print(pred_op[0])\n",
    "\n",
    "mean_err = mean_squared_error(c3_op, pred_op)\n",
    "print(mean_err)\n",
    "\n",
    "r_score3 = r2_score(c3_op, pred_op)\n",
    "print(f\"c3 as test, r2 score :{r_score * 100}\")"
   ]
  },
  {
   "cell_type": "code",
   "execution_count": null,
   "metadata": {},
   "outputs": [
    {
     "name": "stdout",
     "output_type": "stream",
     "text": [
      "505898.4\n",
      "29936610338.373367\n",
      "c4 as test, r2 score :81.82755372055158\n"
     ]
    }
   ],
   "source": [
    "train_ip = pd.concat([c1_ip, c2_ip, c3_ip, c10_ip, c5_ip, c6_ip, c7_ip, c8_ip, c9_ip])\n",
    "train_op = pd.concat([c1_op, c2_op, c3_op, c10_op, c5_op, c6_op, c7_op, c8_op, c9_op])\n",
    "\n",
    "ran_for_reg = RandomForestRegressor(n_estimators= 100, random_state=42)\n",
    "ran_for_reg.fit(train_ip,train_op)\n",
    "\n",
    "with open ('HousePrice_Predict_ran_for_reg.pkl', mode = 'wb') as w:\n",
    "    pickle.dump(ran_for_reg, w)\n",
    "with open ('HousePrice_Predict_ran_for_reg.pkl', mode = 'rb') as r:\n",
    "    model_ran_for_reg = pickle.load(r)\n",
    "\n",
    "pred_op = model_ran_for_reg.predict(c4_ip)\n",
    "print(pred_op[0])\n",
    "\n",
    "mean_err = mean_squared_error(c4_op, pred_op)\n",
    "print(mean_err)\n",
    "\n",
    "r_score4 = r2_score(c4_op, pred_op)\n",
    "print(f\"c4 as test, r2 score :{r_score * 100}\")"
   ]
  },
  {
   "cell_type": "code",
   "execution_count": null,
   "metadata": {},
   "outputs": [
    {
     "name": "stdout",
     "output_type": "stream",
     "text": [
      "229428.85\n",
      "19200832010.685\n",
      "c5 as test, r2 score :81.82755372055158\n"
     ]
    }
   ],
   "source": [
    "train_ip = pd.concat([c1_ip, c2_ip, c3_ip, c4_ip, c10_ip, c6_ip, c7_ip, c8_ip, c9_ip])\n",
    "train_op = pd.concat([c1_op, c2_op, c3_op, c4_op, c10_op, c6_op, c7_op, c8_op, c9_op])\n",
    "\n",
    "ran_for_reg = RandomForestRegressor(n_estimators= 100, random_state=42)\n",
    "ran_for_reg.fit(train_ip,train_op)\n",
    "\n",
    "with open ('HousePrice_Predict_ran_for_reg.pkl', mode = 'wb') as w:\n",
    "    pickle.dump(ran_for_reg, w)\n",
    "with open ('HousePrice_Predict_ran_for_reg.pkl', mode = 'rb') as r:\n",
    "    model_ran_for_reg = pickle.load(r)\n",
    "\n",
    "pred_op = model_ran_for_reg.predict(c5_ip)\n",
    "print(pred_op[0])\n",
    "\n",
    "mean_err = mean_squared_error(c5_op, pred_op)\n",
    "print(mean_err)\n",
    "\n",
    "r_score5 = r2_score(c5_op, pred_op)\n",
    "print(f\"c5 as test, r2 score :{r_score * 100}\")"
   ]
  },
  {
   "cell_type": "code",
   "execution_count": null,
   "metadata": {},
   "outputs": [
    {
     "name": "stdout",
     "output_type": "stream",
     "text": [
      "398575.0\n",
      "27314894107.432156\n",
      "c6 as test, r2 score :81.82755372055158\n"
     ]
    }
   ],
   "source": [
    "train_ip = pd.concat([c1_ip, c2_ip, c3_ip, c4_ip, c5_ip, c10_ip, c7_ip, c8_ip, c9_ip])\n",
    "train_op = pd.concat([c1_op, c2_op, c3_op, c4_op, c5_op, c10_op, c7_op, c8_op, c9_op])\n",
    "\n",
    "ran_for_reg = RandomForestRegressor(n_estimators= 100, random_state=42)\n",
    "ran_for_reg.fit(train_ip,train_op)\n",
    "\n",
    "with open ('HousePrice_Predict_ran_for_reg.pkl', mode = 'wb') as w:\n",
    "    pickle.dump(ran_for_reg, w)\n",
    "with open ('HousePrice_Predict_ran_for_reg.pkl', mode = 'rb') as r:\n",
    "    model_ran_for_reg = pickle.load(r)\n",
    "\n",
    "pred_op = model_ran_for_reg.predict(c6_ip)\n",
    "print(pred_op[0])\n",
    "\n",
    "mean_err = mean_squared_error(c6_op, pred_op)\n",
    "print(mean_err)\n",
    "\n",
    "r_score6 = r2_score(c6_op, pred_op)\n",
    "print(f\"c6 as test, r2 score :{r_score * 100}\")"
   ]
  },
  {
   "cell_type": "code",
   "execution_count": null,
   "metadata": {},
   "outputs": [
    {
     "name": "stdout",
     "output_type": "stream",
     "text": [
      "453775.73\n",
      "26587939704.51133\n",
      "c7 as test, r2 score :81.82755372055158\n"
     ]
    }
   ],
   "source": [
    "train_ip = pd.concat([c1_ip, c2_ip, c3_ip, c4_ip, c5_ip, c6_ip, c10_ip, c8_ip, c9_ip])\n",
    "train_op = pd.concat([c1_op, c2_op, c3_op, c4_op, c5_op, c6_op, c10_op, c8_op, c9_op])\n",
    "\n",
    "ran_for_reg = RandomForestRegressor(n_estimators= 100, random_state=42)\n",
    "ran_for_reg.fit(train_ip,train_op)\n",
    "\n",
    "with open ('HousePrice_Predict_ran_for_reg.pkl', mode = 'wb') as w:\n",
    "    pickle.dump(ran_for_reg, w)\n",
    "with open ('HousePrice_Predict_ran_for_reg.pkl', mode = 'rb') as r:\n",
    "    model_ran_for_reg = pickle.load(r)\n",
    "\n",
    "pred_op = model_ran_for_reg.predict(c7_ip)\n",
    "print(pred_op[0])\n",
    "\n",
    "mean_err = mean_squared_error(c7_op, pred_op)\n",
    "print(mean_err)\n",
    "\n",
    "r_score7 = r2_score(c7_op, pred_op)\n",
    "print(f\"c7 as test, r2 score :{r_score * 100}\")"
   ]
  },
  {
   "cell_type": "code",
   "execution_count": null,
   "metadata": {},
   "outputs": [
    {
     "name": "stdout",
     "output_type": "stream",
     "text": [
      "790283.0\n",
      "21675752657.161827\n",
      "c8 as test, r2 score :81.82755372055158\n"
     ]
    }
   ],
   "source": [
    "train_ip = pd.concat([c1_ip, c2_ip, c3_ip, c4_ip, c5_ip, c6_ip, c7_ip, c10_ip, c9_ip])\n",
    "train_op = pd.concat([c1_op, c2_op, c3_op, c4_op, c5_op, c6_op, c7_op, c10_op, c9_op])\n",
    "\n",
    "ran_for_reg = RandomForestRegressor(n_estimators= 100, random_state=42)\n",
    "ran_for_reg.fit(train_ip,train_op)\n",
    "\n",
    "with open ('HousePrice_Predict_ran_for_reg.pkl', mode = 'wb') as w:\n",
    "    pickle.dump(ran_for_reg, w)\n",
    "with open ('HousePrice_Predict_ran_for_reg.pkl', mode = 'rb') as r:\n",
    "    model_ran_for_reg = pickle.load(r)\n",
    "\n",
    "pred_op = model_ran_for_reg.predict(c8_ip)\n",
    "print(pred_op[0])\n",
    "\n",
    "mean_err = mean_squared_error(c8_op, pred_op)\n",
    "print(mean_err)\n",
    "\n",
    "r_score8 = r2_score(c8_op, pred_op)\n",
    "print(f\"c8 as test, r2 score :{r_score * 100}\")"
   ]
  },
  {
   "cell_type": "code",
   "execution_count": null,
   "metadata": {},
   "outputs": [
    {
     "name": "stdout",
     "output_type": "stream",
     "text": [
      "1085216.67\n",
      "24599895449.80929\n",
      "c9 as test, r2 score :81.82755372055158\n"
     ]
    }
   ],
   "source": [
    "train_ip = pd.concat([c1_ip, c2_ip, c3_ip, c4_ip, c5_ip, c6_ip, c7_ip, c8_ip, c10_ip])\n",
    "train_op = pd.concat([c1_op, c2_op, c3_op, c4_op, c5_op, c6_op, c7_op, c8_op, c10_op])\n",
    "\n",
    "ran_for_reg = RandomForestRegressor(n_estimators= 100, random_state=42)\n",
    "ran_for_reg.fit(train_ip,train_op)\n",
    "\n",
    "with open ('HousePrice_Predict_ran_for_reg.pkl', mode = 'wb') as w:\n",
    "    pickle.dump(ran_for_reg, w)\n",
    "with open ('HousePrice_Predict_ran_for_reg.pkl', mode = 'rb') as r:\n",
    "    model_ran_for_reg = pickle.load(r)\n",
    "\n",
    "pred_op = model_ran_for_reg.predict(c9_ip)\n",
    "print(pred_op[0])\n",
    "\n",
    "mean_err = mean_squared_error(c9_op, pred_op)\n",
    "print(mean_err)\n",
    "\n",
    "r_score9 = r2_score(c9_op, pred_op)\n",
    "print(f\"c9 as test, r2 score :{r_score * 100}\")"
   ]
  },
  {
   "cell_type": "code",
   "execution_count": null,
   "metadata": {},
   "outputs": [],
   "source": [
    "# r2 = [\"r_score1\", \"r_score2\", \"r_score3\", \"r_score4\", \"r_score5\", \"r_score6\", \"r_score7\", \"r_score8\", \"r_score9\", \"r_score10\"]\n",
    "# avg = np.mean(r2)\n",
    "# print(avg)"
   ]
  },
  {
   "cell_type": "code",
   "execution_count": null,
   "metadata": {},
   "outputs": [
    {
     "name": "stdout",
     "output_type": "stream",
     "text": [
      "0.8118789138510489\n"
     ]
    }
   ],
   "source": [
    "r2 = [r_score1, r_score2, r_score3, r_score4, r_score5, r_score6, r_score7, r_score8, r_score9, r_score10]\n",
    "avg = np.mean(r2)\n",
    "print(avg)"
   ]
  }
 ],
 "metadata": {
  "kernelspec": {
   "display_name": "Python 3",
   "language": "python",
   "name": "python3"
  },
  "language_info": {
   "codemirror_mode": {
    "name": "ipython",
    "version": 3
   },
   "file_extension": ".py",
   "mimetype": "text/x-python",
   "name": "python",
   "nbconvert_exporter": "python",
   "pygments_lexer": "ipython3",
   "version": "3.12.5"
  }
 },
 "nbformat": 4,
 "nbformat_minor": 2
}
