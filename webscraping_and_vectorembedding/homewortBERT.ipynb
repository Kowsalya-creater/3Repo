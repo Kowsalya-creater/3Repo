{
 "cells": [
  {
   "cell_type": "code",
   "execution_count": 3,
   "metadata": {},
   "outputs": [
    {
     "name": "stdout",
     "output_type": "stream",
     "text": [
      "Defaulting to user installation because normal site-packages is not writeable\n",
      "Requirement already satisfied: transformers in /Users/kowsalyasitharthaun/Library/Python/3.9/lib/python/site-packages (4.46.2)\n",
      "Requirement already satisfied: torch in /Users/kowsalyasitharthaun/Library/Python/3.9/lib/python/site-packages (2.2.2)\n",
      "Requirement already satisfied: sentence_transformers in /Users/kowsalyasitharthaun/Library/Python/3.9/lib/python/site-packages (3.3.0)\n",
      "Requirement already satisfied: filelock in /Users/kowsalyasitharthaun/Library/Python/3.9/lib/python/site-packages (from transformers) (3.16.1)\n",
      "Requirement already satisfied: huggingface-hub<1.0,>=0.23.2 in /Users/kowsalyasitharthaun/Library/Python/3.9/lib/python/site-packages (from transformers) (0.26.2)\n",
      "Requirement already satisfied: numpy>=1.17 in /Users/kowsalyasitharthaun/Library/Python/3.9/lib/python/site-packages (from transformers) (1.26.4)\n",
      "Requirement already satisfied: packaging>=20.0 in /Users/kowsalyasitharthaun/Library/Python/3.9/lib/python/site-packages (from transformers) (24.2)\n",
      "Requirement already satisfied: pyyaml>=5.1 in /Users/kowsalyasitharthaun/Library/Python/3.9/lib/python/site-packages (from transformers) (6.0.2)\n",
      "Requirement already satisfied: regex!=2019.12.17 in /Users/kowsalyasitharthaun/Library/Python/3.9/lib/python/site-packages (from transformers) (2024.11.6)\n",
      "Requirement already satisfied: requests in /Users/kowsalyasitharthaun/Library/Python/3.9/lib/python/site-packages (from transformers) (2.32.3)\n",
      "Requirement already satisfied: safetensors>=0.4.1 in /Users/kowsalyasitharthaun/Library/Python/3.9/lib/python/site-packages (from transformers) (0.4.5)\n",
      "Requirement already satisfied: tokenizers<0.21,>=0.20 in /Users/kowsalyasitharthaun/Library/Python/3.9/lib/python/site-packages (from transformers) (0.20.3)\n",
      "Requirement already satisfied: tqdm>=4.27 in /Users/kowsalyasitharthaun/Library/Python/3.9/lib/python/site-packages (from transformers) (4.67.0)\n",
      "Requirement already satisfied: typing-extensions>=4.8.0 in /Users/kowsalyasitharthaun/Library/Python/3.9/lib/python/site-packages (from torch) (4.12.2)\n",
      "Requirement already satisfied: sympy in /Users/kowsalyasitharthaun/Library/Python/3.9/lib/python/site-packages (from torch) (1.13.3)\n",
      "Requirement already satisfied: networkx in /Users/kowsalyasitharthaun/Library/Python/3.9/lib/python/site-packages (from torch) (3.2.1)\n",
      "Requirement already satisfied: jinja2 in /Users/kowsalyasitharthaun/Library/Python/3.9/lib/python/site-packages (from torch) (3.1.4)\n",
      "Requirement already satisfied: fsspec in /Users/kowsalyasitharthaun/Library/Python/3.9/lib/python/site-packages (from torch) (2024.10.0)\n",
      "Requirement already satisfied: scikit-learn in /Users/kowsalyasitharthaun/Library/Python/3.9/lib/python/site-packages (from sentence_transformers) (1.5.2)\n",
      "Requirement already satisfied: scipy in /Users/kowsalyasitharthaun/Library/Python/3.9/lib/python/site-packages (from sentence_transformers) (1.13.1)\n",
      "Requirement already satisfied: Pillow in /Users/kowsalyasitharthaun/Library/Python/3.9/lib/python/site-packages (from sentence_transformers) (11.0.0)\n",
      "Requirement already satisfied: MarkupSafe>=2.0 in /Users/kowsalyasitharthaun/Library/Python/3.9/lib/python/site-packages (from jinja2->torch) (3.0.2)\n",
      "Requirement already satisfied: charset-normalizer<4,>=2 in /Users/kowsalyasitharthaun/Library/Python/3.9/lib/python/site-packages (from requests->transformers) (3.4.0)\n",
      "Requirement already satisfied: idna<4,>=2.5 in /Users/kowsalyasitharthaun/Library/Python/3.9/lib/python/site-packages (from requests->transformers) (3.10)\n",
      "Requirement already satisfied: urllib3<3,>=1.21.1 in /Users/kowsalyasitharthaun/Library/Python/3.9/lib/python/site-packages (from requests->transformers) (2.2.3)\n",
      "Requirement already satisfied: certifi>=2017.4.17 in /Users/kowsalyasitharthaun/Library/Python/3.9/lib/python/site-packages (from requests->transformers) (2024.8.30)\n",
      "Requirement already satisfied: joblib>=1.2.0 in /Users/kowsalyasitharthaun/Library/Python/3.9/lib/python/site-packages (from scikit-learn->sentence_transformers) (1.4.2)\n",
      "Requirement already satisfied: threadpoolctl>=3.1.0 in /Users/kowsalyasitharthaun/Library/Python/3.9/lib/python/site-packages (from scikit-learn->sentence_transformers) (3.5.0)\n",
      "Requirement already satisfied: mpmath<1.4,>=1.1.0 in /Users/kowsalyasitharthaun/Library/Python/3.9/lib/python/site-packages (from sympy->torch) (1.3.0)\n",
      "Note: you may need to restart the kernel to use updated packages.\n"
     ]
    }
   ],
   "source": [
    "%pip install transformers torch sentence_transformers\n"
   ]
  },
  {
   "cell_type": "code",
   "execution_count": 4,
   "metadata": {},
   "outputs": [
    {
     "name": "stderr",
     "output_type": "stream",
     "text": [
      "/Users/kowsalyasitharthaun/Library/Python/3.9/lib/python/site-packages/urllib3/__init__.py:35: NotOpenSSLWarning: urllib3 v2 only supports OpenSSL 1.1.1+, currently the 'ssl' module is compiled with 'LibreSSL 2.8.3'. See: https://github.com/urllib3/urllib3/issues/3020\n",
      "  warnings.warn(\n",
      "/Users/kowsalyasitharthaun/Library/Python/3.9/lib/python/site-packages/tqdm/auto.py:21: TqdmWarning: IProgress not found. Please update jupyter and ipywidgets. See https://ipywidgets.readthedocs.io/en/stable/user_install.html\n",
      "  from .autonotebook import tqdm as notebook_tqdm\n"
     ]
    }
   ],
   "source": [
    "from transformers import BertTokenizer, BertModel\n",
    "import torch\n",
    "from langchain.schema import Document\n",
    "from langchain.vectorstores import Chroma"
   ]
  },
  {
   "cell_type": "code",
   "execution_count": 5,
   "metadata": {},
   "outputs": [],
   "source": [
    "\n",
    "\n",
    "class BertEmbeddingModel:\n",
    "    def __init__(self, model_name='bert-base-uncased'):\n",
    "        \"\"\"\n",
    "        Initialize the BERT model and tokenizer.\n",
    "        \"\"\"\n",
    "        self.tokenizer = BertTokenizer.from_pretrained(model_name)\n",
    "        self.model = BertModel.from_pretrained(model_name)\n",
    "    \n",
    "    def embed_documents(self, sentence):\n",
    "        \"\"\"\n",
    "        Encode a sentence and return its embeddings.\n",
    "        \n",
    "        Args:\n",
    "            sentence (str): The input sentence.\n",
    "        \n",
    "        Returns:\n",
    "            list[float]: A 1D list representing the sentence embedding.\n",
    "        \"\"\"\n",
    "        # Tokenize the input sentence\n",
    "        inputs = self.tokenizer(sentence, return_tensors=\"pt\", padding=True, truncation=True)\n",
    "        \n",
    "        # Pass the input through the BERT model\n",
    "        with torch.no_grad():\n",
    "            outputs = self.model(**inputs)\n",
    "        \n",
    "        # Use mean pooling over the token embeddings\n",
    "        embeddings = outputs.last_hidden_state.mean(dim=1).squeeze().tolist()  # Convert to list\n",
    "        \n",
    "        return embeddings\n",
    "    \n",
    "    def embed_query(self, query):\n",
    "        \"\"\"\n",
    "        Encode a query and return its embeddings.\n",
    "        \n",
    "        Args:\n",
    "            query (str): The input query.\n",
    "        \n",
    "        Returns:\n",
    "            torch.Tensor: A tensor representing the query embedding.\n",
    "        \"\"\"\n",
    "        # Tokenize the input query\n",
    "        inputs = self.tokenizer(query, return_tensors=\"pt\", padding=True, truncation=True)\n",
    "        \n",
    "        # Pass the input through the BERT model\n",
    "        with torch.no_grad():\n",
    "            outputs = self.model(**inputs)\n",
    "        \n",
    "        # Use mean pooling over the token embeddings\n",
    "        query_embedding = outputs.last_hidden_state.mean(dim=1).squeeze()  # Keep it as tensor for similarity calculation\n",
    "        \n",
    "        return query_embedding\n",
    "\n"
   ]
  },
  {
   "cell_type": "code",
   "execution_count": 6,
   "metadata": {},
   "outputs": [],
   "source": [
    "\n",
    "\n",
    "# class BertEmbeddingModel:\n",
    "#     def __init__(self, model_name='bert-base-uncased'):\n",
    "#         \"\"\"\n",
    "#         Initialize the BERT model and tokenizer.\n",
    "#         \"\"\"\n",
    "#         self.tokenizer = BertTokenizer.from_pretrained(model_name)\n",
    "#         self.model = BertModel.from_pretrained(model_name)\n",
    "    \n",
    "#     def get_embeddings(self, sentence):\n",
    "#         \"\"\"\n",
    "#         Encode a sentence and return its embeddings.\n",
    "        \n",
    "#         Args:\n",
    "#             sentence (str): The input sentence.\n",
    "        \n",
    "#         Returns:\n",
    "#             torch.Tensor: The embeddings from the last hidden state of BERT.\n",
    "#         \"\"\"\n",
    "#         # Tokenize the input sentence\n",
    "#         inputs = self.tokenizer(sentence, return_tensors=\"pt\")\n",
    "        \n",
    "#         # Pass the input through the BERT model\n",
    "#         outputs = self.model(**inputs)\n",
    "        \n",
    "#         # Extract the last hidden state (embeddings)\n",
    "#         embeddings = outputs.last_hidden_state\n",
    "        \n",
    "#         return embeddings\n",
    "\n",
    "# # Example usage\n",
    "# if __name__ == \"__main__\":\n",
    "#     # Initialize the model\n",
    "#     bert_model = BertEmbeddingModel()\n",
    "\n",
    "#     # Input sentence\n",
    "#     sentence = \"The cat sits on the mat.\"\n",
    "\n",
    "#     # Get embeddings\n",
    "#     embeddings = bert_model.get_embeddings(sentence)\n",
    "#     print(f\"BERT embeddings for the sentence: {embeddings}\")\n"
   ]
  },
  {
   "cell_type": "code",
   "execution_count": 7,
   "metadata": {},
   "outputs": [
    {
     "data": {
      "text/plain": [
       "'class BertEmbeddingModel():\\n    def __init__(self,modelname= \\'bert-base-uncased\\'):\\n        self.tokenizer = BertTokenizer.from_pretrained(modelname)\\n        self.model = BertModel.from_pretrained(modelname)\\n\\n    def embed_documents(self):\\n        sentence = \"The cat sits on the mat.\"\\n        input = self.tokenizer(sentence, return_tensors=\"pt\")\\n        with torch.no_grad():\\n            outputs = self.model(**inputs)\\n            embeddings = outputs.last_hidden_state.mean(dim=1)  # Example for getting sentence embeddings\\n            print(f\"Bert embeddings for the sentence: {embeddings}\")\\n            #return(embeddings)\\n            cls_embedding = outputs.last_hidden_state[:, 0, :]\\n            print(f\"CLS token embedding: {cls_embedding}\")\\no = BertEmbeddingModel()\\no.embed_documents\\n'"
      ]
     },
     "execution_count": 7,
     "metadata": {},
     "output_type": "execute_result"
    }
   ],
   "source": [
    "'''class BertEmbeddingModel():\n",
    "    def __init__(self,modelname= 'bert-base-uncased'):\n",
    "        self.tokenizer = BertTokenizer.from_pretrained(modelname)\n",
    "        self.model = BertModel.from_pretrained(modelname)\n",
    "\n",
    "    def embed_documents(self):\n",
    "        sentence = \"The cat sits on the mat.\"\n",
    "        input = self.tokenizer(sentence, return_tensors=\"pt\")\n",
    "        with torch.no_grad():\n",
    "            outputs = self.model(**inputs)\n",
    "            embeddings = outputs.last_hidden_state.mean(dim=1)  # Example for getting sentence embeddings\n",
    "            print(f\"Bert embeddings for the sentence: {embeddings}\")\n",
    "            #return(embeddings)\n",
    "            cls_embedding = outputs.last_hidden_state[:, 0, :]\n",
    "            print(f\"CLS token embedding: {cls_embedding}\")\n",
    "o = BertEmbeddingModel()\n",
    "o.embed_documents\n",
    "'''\n",
    "\n",
    "    \n",
    "\n",
    "\n",
    "\n",
    "\n"
   ]
  },
  {
   "cell_type": "code",
   "execution_count": null,
   "metadata": {},
   "outputs": [],
   "source": []
  },
  {
   "cell_type": "code",
   "execution_count": 8,
   "metadata": {},
   "outputs": [],
   "source": [
    "\n",
    "# # Load pre-trained BERT model and tokenizer\n",
    "# tokenizer = BertTokenizer.from_pretrained('bert-base-uncased')\n",
    "# model = BertModel.from_pretrained('bert-base-uncased')\n",
    "\n",
    "# # Encode a sentence and get embeddings\n",
    "# sentence = \"The cat sits on the mat.\"\n",
    "# inputs = tokenizer(sentence, return_tensors=\"pt\")\n",
    "# outputs = model(**inputs)\n",
    "\n",
    "# # Get the embeddings from the output (last hidden state)\n",
    "# embeddings = outputs.last_hidden_state\n",
    "# print(f\"BERT embeddings for the sentence: {embeddings}\")"
   ]
  },
  {
   "cell_type": "code",
   "execution_count": 9,
   "metadata": {},
   "outputs": [],
   "source": [
    "# class BertEmbedding:\n",
    "#     def __init__(self,modelname : str):\n",
    "#         self.model = BertModel.from_pretrained('bert-base-uncased')\n",
    "#         self.tokenizer = BertTokenizer.from_pretrained('bert-base-uncased')\n",
    "\n",
    "#     def embed_documents(self):\n",
    "#         sentence = \"The cat sits on the mat.\"\n",
    "#         self.inputs = tokenizer(sentence, return_tensors=\"pt\")\n",
    "#         self.outputs = model(**inputs)\n",
    "        \n",
    "\n"
   ]
  },
  {
   "cell_type": "code",
   "execution_count": 10,
   "metadata": {},
   "outputs": [],
   "source": [
    "# class BertEmbeddingForLangChain:\n",
    "#     def __init__(self, model_name='bert-base-uncased'):\n",
    "#         self.tokenizer = BertTokenizer.from_pretrained(model_name)\n",
    "#         self.model = BertModel.from_pretrained(model_name)\n",
    "\n",
    "#     def embed_documents(self, texts):\n",
    "#         return [self.embed_query(text) for text in texts]\n",
    "\n",
    "#     def embed_query(self, text):\n",
    "#         inputs = self.tokenizer(text, return_tensors='pt', padding=True, truncation=True, max_length=512)\n",
    "#         with torch.no_grad():\n",
    "#             outputs = self.model(**inputs)\n",
    "#         cls_embedding = outputs.last_hidden_state[:, 0, :].squeeze().numpy()\n",
    "#         return cls_embedding\n",
    "\n"
   ]
  },
  {
   "cell_type": "code",
   "execution_count": 11,
   "metadata": {},
   "outputs": [],
   "source": [
    "\n",
    "\n",
    "# tokenizer = BertTokenizer.from_pretrained('bert-base-uncased')\n",
    "# model = BertModel.from_pretrained('bert-base-uncased')\n",
    "# sentence = \"The cat sits on the mat.\"\n",
    "# inputs = tokenizer(sentence, return_tensors=\"pt\")\n",
    "# with torch.no_grad():\n",
    "#     outputs = model(**inputs)\n",
    "# embeddings = outputs.last_hidden_state.mean(dim=1)  # Example for getting sentence embeddings\n",
    "\n"
   ]
  },
  {
   "cell_type": "code",
   "execution_count": 12,
   "metadata": {},
   "outputs": [
    {
     "name": "stdout",
     "output_type": "stream",
     "text": [
      "[Document(metadata={}, page_content='T'), Document(metadata={}, page_content='h'), Document(metadata={}, page_content='e'), Document(metadata={}, page_content=' '), Document(metadata={}, page_content='c'), Document(metadata={}, page_content='a'), Document(metadata={}, page_content='t'), Document(metadata={}, page_content=' '), Document(metadata={}, page_content='s'), Document(metadata={}, page_content='i'), Document(metadata={}, page_content='t'), Document(metadata={}, page_content='s'), Document(metadata={}, page_content=' '), Document(metadata={}, page_content='o'), Document(metadata={}, page_content='n'), Document(metadata={}, page_content=' '), Document(metadata={}, page_content='t'), Document(metadata={}, page_content='h'), Document(metadata={}, page_content='e'), Document(metadata={}, page_content=' '), Document(metadata={}, page_content='m'), Document(metadata={}, page_content='a'), Document(metadata={}, page_content='t'), Document(metadata={}, page_content='.')]\n"
     ]
    }
   ],
   "source": [
    "\n",
    "sentence = \"The cat sits on the mat.\"\n",
    "documents = [Document(page_content=sent) for sent in sentence]\n",
    "print(documents)"
   ]
  },
  {
   "cell_type": "code",
   "execution_count": 13,
   "metadata": {},
   "outputs": [],
   "source": [
    "vectorstore = Chroma.from_documents(\n",
    "    documents=documents,\n",
    "    embedding= BertEmbeddingModel(),\n",
    "    persist_directory=\"sample_sentence_new\"\n",
    ")\n"
   ]
  },
  {
   "cell_type": "code",
   "execution_count": 15,
   "metadata": {},
   "outputs": [
    {
     "ename": "ValueError",
     "evalue": "Expected embeddings to be a list of floats or ints, a list of lists, a numpy array, or a list of numpy arrays, got [tensor([-3.8855e-02, -1.2471e-01, -9.2201e-03, -7.3344e-02,  5.5915e-01,\n        -2.7064e-01,  9.7387e-02,  3.4504e-01, -2.6210e-01,  1.3808e-02,\n         2.2466e-01, -5.5098e-01, -3.8770e-01,  2.4255e-01, -2.2029e-01,\n         1.0884e-02,  2.9325e-01,  2.0332e-01, -1.9766e-01,  5.9850e-01,\n         6.6307e-02, -1.1382e-01, -3.0335e-01,  1.3687e-01,  2.1185e-01,\n         1.1167e-02, -3.8477e-02,  8.0996e-02,  3.2921e-02, -1.4221e-01,\n         2.4666e-01, -1.5174e-01, -1.3303e-01, -6.9335e-02, -1.6171e-01,\n        -1.0300e-02, -1.4088e-01, -1.5260e-01, -4.2659e-01,  1.3648e-01,\n        -4.0489e-01, -2.3946e-01,  2.1970e-01,  1.8988e-01, -7.1899e-02,\n        -4.9142e-01,  3.2201e-01, -3.5161e-01,  3.0190e-01, -1.5636e-01,\n        -2.3208e-01,  4.1479e-01, -2.5853e-01,  2.5969e-01,  4.2936e-03,\n         2.6918e-01, -5.9448e-02, -3.9154e-01, -1.7338e-01, -1.4429e-01,\n        -1.2289e-01,  9.4519e-02,  2.1711e-01, -5.7459e-01, -8.6385e-02,\n         1.6234e-01,  8.7025e-02,  9.4272e-02, -2.7625e-01,  3.3766e-01,\n        -4.8603e-01, -1.9936e-01,  2.3508e-01,  1.2796e-01, -3.2536e-01,\n        -1.1818e-01, -7.3464e-04,  5.3907e-01,  3.0507e-01, -1.8236e-01,\n        -1.5918e-01,  5.6264e-01, -4.6832e-02,  5.0648e-01,  3.4166e-01,\n         3.8132e-01, -3.1267e-01,  6.7348e-02, -1.4665e-01,  7.3024e-01,\n        -2.5116e-01,  5.5128e-02,  4.8839e-02,  2.5103e-01,  3.4859e-01,\n        -2.8679e-01,  2.9947e-01, -3.1021e-01,  3.6499e-02,  2.4952e-01,\n         1.2424e-01, -3.2766e-01,  9.4993e-02,  3.8474e-01, -1.0651e-01,\n        -2.7360e-01,  2.9586e-01,  1.8576e-01,  6.2504e-02, -4.9161e-01,\n        -1.3972e-01, -1.8780e-01,  1.4499e-01, -1.3601e-01, -1.2313e-01,\n         9.4393e-01,  2.6541e-01, -1.3278e-01, -2.3688e-01,  2.3651e-01,\n        -1.5581e-01, -1.5424e-01,  1.8947e-01,  6.8209e-01,  2.7950e-01,\n         1.6668e-01, -2.7915e-01, -2.0853e-01,  1.7706e-01, -4.5364e-01,\n         3.0238e-01,  3.2802e-01,  4.8885e-01, -4.5749e-01, -2.5717e-02,\n         8.8245e-01, -3.8512e-02,  4.1992e-03, -5.7765e-01,  2.0225e-01,\n         3.7289e-02, -3.4966e-02, -2.4050e-01,  4.3866e-02,  3.2484e-01,\n        -3.0401e-02, -3.3561e-01,  1.4869e-01,  4.7981e-01, -9.4056e-02,\n         1.2398e-01,  4.6149e-02, -6.4755e-02, -2.7919e-01, -4.0974e-01,\n        -3.1847e-01, -4.2047e-01,  1.3273e-01,  1.8241e-01,  3.0862e-01,\n         3.3197e-01, -3.5942e-01, -2.1801e-01,  9.4179e-02, -1.7174e-01,\n        -1.4031e-01,  2.2994e-01,  6.3956e-01, -1.3532e-01,  3.6013e-01,\n        -1.5295e-01,  1.1110e-01,  8.4717e-01, -1.0363e-01,  1.8489e-01,\n         5.2682e-02, -1.5628e-01, -1.4438e-01,  4.0065e-02,  4.7782e-02,\n        -1.1950e+00,  7.2935e-02, -1.5655e-01,  3.2047e-01,  2.5398e-01,\n        -2.4016e-01,  4.9297e-01, -6.6392e-01, -3.7060e-01,  5.2523e-02,\n        -4.4636e-02, -4.6570e-01, -2.5880e-01,  4.2032e-01,  6.8537e-01,\n        -4.7040e-01, -4.4512e-01, -8.1729e-01,  1.9749e-01,  9.4603e-02,\n         1.9158e-02, -4.3400e-01,  5.3513e-02,  4.0531e-01,  1.7243e-02,\n         7.3655e-01,  4.7864e-02,  5.1784e-02, -1.3033e-01,  2.4632e-01,\n        -3.7717e-01,  3.0618e-01,  4.7290e-01,  1.6458e-01,  2.4329e-01,\n        -1.9112e-01,  4.1205e-01,  1.7802e-02, -3.1776e-01,  3.5935e-01,\n         2.3634e-01, -1.3160e-01, -5.7264e-01,  5.0396e-01, -3.6132e-01,\n         2.1178e-01,  4.0415e-01, -9.0041e-03,  3.9776e-02,  3.3921e-01,\n        -1.3416e-01,  5.7887e-02,  1.3453e-01,  3.4750e-01, -3.7073e-01,\n        -4.6548e-01, -2.3134e-01,  1.0294e-01,  7.0255e-02,  2.5009e-02,\n        -4.0684e-02,  4.3740e-01,  8.2357e-01,  1.4177e-01, -7.2488e-02,\n         7.3149e-02,  1.2564e-01,  3.5636e-01,  1.1678e-01, -1.2626e-01,\n        -1.1771e-01, -5.6678e-01,  4.8317e-02, -6.0796e-01, -1.9182e-01,\n        -2.0039e-02, -2.2126e-01,  5.5616e-01,  1.1782e-01,  7.8060e-02,\n         4.3885e-01, -2.9898e-02,  5.9568e-01,  1.4621e-02, -3.5953e-01,\n        -1.0029e-01,  1.0603e-02,  2.5675e-02, -8.2879e-02, -2.2859e-01,\n         7.0192e-02, -2.2783e-01,  1.8781e-01, -1.1235e-01,  1.8993e-01,\n        -3.8784e-01,  4.7842e-01, -2.4441e-01, -1.3634e-02, -3.2094e-01,\n        -1.3043e-01,  2.7765e-01, -6.1949e-01, -2.8388e-01,  2.3448e-01,\n        -5.4338e-01,  2.3392e-01, -3.6204e-01,  1.1778e-01, -4.7347e-01,\n        -1.3006e-01,  3.0037e-02, -1.1508e-02, -4.6254e-01,  1.2945e-01,\n        -2.9028e-03,  4.0947e-01,  7.6637e-02,  3.2887e-03, -8.1415e-02,\n        -5.4697e-02, -1.2731e-01,  2.3057e-01,  8.7178e-02, -4.6588e-01,\n         1.1761e-01,  1.2951e-02, -1.6704e-01, -2.9253e+00, -1.8135e-01,\n         2.2596e-01, -1.8139e-01,  2.2280e-02, -6.1614e-02, -2.3281e-01,\n        -1.2929e-01, -6.6249e-01, -1.0417e-01, -2.7749e-01, -4.8966e-01,\n         6.4844e-01,  2.5662e-01,  7.6456e-02, -3.6900e-01,  2.4478e-01,\n        -3.0348e-01, -8.2499e-02,  2.9182e-01, -3.1392e-01, -1.5990e-01,\n        -1.3350e-01, -6.2184e-01,  1.8171e-01,  1.0869e+00, -1.4354e-01,\n        -9.8239e-02, -5.3533e-01,  9.4838e-02, -2.2405e-01, -2.1824e-01,\n         6.7055e-02,  7.1968e-02, -3.1319e-02,  2.8624e-01, -1.7012e-01,\n        -1.4133e-01,  9.1797e-02,  3.3075e-02,  2.5846e-01, -2.0357e-01,\n         4.2260e-01,  2.6412e-01,  6.9706e-01,  5.2503e-02, -1.6338e-01,\n        -6.1475e-01, -1.3822e-01,  1.5543e-01,  9.2928e-02, -7.4424e-03,\n        -7.9949e-02, -1.0800e-02,  1.7503e-01,  3.9617e-02,  5.0868e-01,\n         1.5093e-01,  2.6669e-01, -4.0444e-01,  2.0161e-01, -4.4576e-01,\n        -1.7721e-01,  3.8470e-01, -3.2291e-01, -4.2525e-01, -6.4137e-01,\n        -4.7621e-01,  3.3372e-01,  4.9977e-02, -3.1229e-04, -5.7050e-01,\n        -5.7211e-01, -8.9662e-01, -7.4677e-01,  1.0453e-01,  1.8588e-01,\n        -1.9139e-01,  2.8937e-01, -2.4331e-01, -4.0074e-01, -2.4911e-01,\n         4.5568e-03,  1.2775e-01, -8.3640e-02, -1.0585e+00,  1.4276e-01,\n        -1.9102e-01,  5.6603e-02,  3.1430e-02,  1.2767e-01,  1.0989e-01,\n        -5.3145e-04,  1.7693e-01,  1.3314e-01, -4.6512e-02,  5.7329e-02,\n        -2.8985e-01,  8.2359e-02,  2.5257e-01, -1.4470e-01, -5.7098e-01,\n         2.2691e-01,  1.6849e-01,  1.8034e-01,  4.9080e-01, -3.6136e-01,\n        -6.4747e-02,  1.8552e-02,  2.6677e-01, -1.9550e-01, -7.7862e-01,\n         1.1612e-01, -2.7014e-01,  5.4242e-02, -9.1825e-02,  5.8287e-01,\n         5.0265e-01, -2.1448e-01,  1.1850e-01, -5.5516e-02,  2.6610e-01,\n        -9.9994e-02, -2.5115e-01, -4.8319e-01, -1.6760e-01,  5.6476e-03,\n        -3.1885e-01,  1.0437e-01, -1.3999e-01,  4.0343e-01, -2.0741e-01,\n        -1.1867e-01,  1.4227e-02, -3.0678e-03,  1.6855e-01, -7.0769e-02,\n        -3.4468e-01, -1.4811e-01,  1.9756e-02, -1.8041e-01,  6.1698e-02,\n        -3.6872e-01,  1.4053e-01, -1.8644e-01,  7.6094e-02, -1.5147e-01,\n         4.1831e-02,  5.2419e-02,  4.6889e-01, -7.6011e-02, -5.1612e-01,\n         2.3902e-01,  3.6339e-02,  2.0910e-01, -2.2540e-01,  4.6942e-01,\n        -4.1021e-01, -1.2775e-01, -2.4195e-01,  3.2747e-01,  1.1304e-01,\n        -1.0373e-01,  4.5736e-01, -5.3828e-02,  2.7663e-01,  4.7583e-01,\n        -6.5242e-02, -1.3483e-01,  3.8241e-01, -8.1963e-02, -3.6144e-01,\n         1.9811e-01,  2.7573e-01,  8.9246e-03,  2.0626e-02,  9.0658e-02,\n        -6.4138e-02, -2.2966e-01, -4.5822e-02, -1.8339e-01, -9.1933e-02,\n        -5.9439e-01, -3.1748e-01,  6.2870e-02,  8.4016e-02, -1.2060e-02,\n        -5.6628e-01,  3.1767e-01, -3.6997e-02, -1.2771e-01,  5.7814e-01,\n        -1.9852e-01, -2.2044e-01, -6.8201e-01, -1.0192e-01,  1.4576e-01,\n        -2.8711e-01,  1.7126e-01,  4.9474e-01, -3.0937e-02,  2.3848e-01,\n        -1.2046e-01, -1.3353e-02,  4.0807e-02, -6.9967e-02,  1.5089e-01,\n         1.0945e-01, -1.1536e-01,  5.3505e-02, -3.2427e-01, -3.9442e-01,\n        -6.7868e-02,  3.3591e-02, -2.9581e-02,  1.5482e-01,  1.6482e-01,\n        -2.4102e-02,  4.5642e-01,  1.5237e-01, -5.8125e-01, -1.4452e-01,\n         2.3951e-01, -1.4933e-01, -4.8220e-01, -5.4363e-01, -1.5312e-01,\n        -4.4693e-02, -1.8080e-01, -6.0974e-02,  1.9740e-01, -9.6360e-02,\n         2.7979e-01,  1.5468e-01, -1.4132e-01,  3.3035e-01,  1.2569e-01,\n        -1.5389e-01,  2.1843e-01,  3.1762e-01,  4.7791e-01, -1.8678e-01,\n         1.3205e-01, -3.5592e-01,  2.3202e-01, -2.1924e-01,  1.6291e-01,\n         2.8907e-01,  1.1627e-01,  2.3697e-01,  1.2347e-01,  3.3761e-01,\n         5.0916e-02, -2.3338e-01, -2.3292e-01,  2.1654e-01, -2.9493e-01,\n         1.5937e-02, -9.9943e-04, -5.2188e-02, -1.3980e-01,  1.6848e-01,\n        -4.7712e-02,  3.2688e-01, -1.3792e-01, -1.5473e-01,  2.3343e-01,\n         2.5672e-01,  1.0784e-01, -3.0473e-02, -5.6589e-01, -2.9073e-01,\n         2.0372e-01, -4.6423e-01, -1.9107e-01, -6.6333e-02,  1.6244e-01,\n        -8.4573e-01,  8.3544e-02, -3.5250e-02,  2.8147e-01,  7.8774e-01,\n        -6.5629e-02,  1.5547e-01, -6.6713e-02, -1.6151e-02, -3.6966e-02,\n         2.9242e-01, -3.1556e-02,  2.4031e-01,  4.7216e-02,  3.3065e-01,\n         2.4529e-01,  1.1595e-01,  2.9757e-01,  1.3488e-01,  2.0984e-01,\n         1.8621e-01,  2.0288e-01, -3.1417e-01, -8.0084e-01, -2.3061e-02,\n         1.8626e-01,  3.1275e-01, -2.9040e-01, -1.2252e-01, -9.3099e-02,\n        -9.2661e-02, -2.7132e-01, -1.0466e-01, -1.1082e-01, -1.7762e-01,\n         1.3364e-01,  1.9306e-01, -4.8822e-01,  2.4814e-01, -1.1258e-01,\n        -5.6011e-01, -1.9544e-01,  4.6279e-01, -2.1934e-01, -3.6920e-01,\n         4.7996e-01,  8.2647e-02,  2.5754e-01,  3.0562e-01, -7.1108e-01,\n         2.9010e-01,  3.3512e-01,  2.6543e-01, -1.2568e-01,  1.8044e-02,\n        -2.0083e-01,  7.2790e-01, -2.2090e-01, -4.3827e-01, -3.3327e-02,\n         1.7963e-01,  3.2273e-01, -7.9525e-02, -2.8489e-01,  2.1919e-01,\n         6.4567e-02,  1.2120e-01, -4.1954e-02,  1.8645e-01,  2.1645e-01,\n        -7.7073e-01,  4.1495e-01,  6.1755e-01,  4.0754e-01,  3.1441e-02,\n        -2.1940e-01, -3.7521e-01,  4.4680e-01,  4.1939e-01,  2.8205e-01,\n         2.5542e-01, -5.1098e-01, -3.4634e-01,  5.5458e-03, -1.3160e-01,\n         2.3129e-01, -3.4147e-01,  9.1517e-02,  5.6919e-01, -9.4496e-02,\n        -5.2003e-01,  3.0574e-01, -2.4302e-03,  3.4188e-01,  4.4949e-01,\n         6.6907e-02,  2.2472e-01, -9.9962e-02,  6.5241e-01, -1.5310e-01,\n        -2.2993e-01, -3.4104e-01,  1.6860e-01,  2.8650e-01,  1.6440e-01,\n        -5.4621e-01, -6.8923e-02,  1.5146e-01, -2.6018e-01,  6.4534e-02,\n        -1.2788e-02,  1.0465e-01, -3.1313e-01,  1.8790e-01, -2.8007e-01,\n         3.0698e-01, -4.1342e-01, -1.8413e-01, -3.5264e-01,  4.2478e-01,\n        -1.7314e-01,  4.4197e-01, -7.0316e-02,  5.2409e-01, -2.7752e-01,\n         1.8385e-01,  6.0415e-02, -2.6349e-03,  9.2287e-03,  2.9919e-01,\n        -9.2809e-02, -1.7203e-01, -4.6283e-01, -4.5771e-01,  4.6477e-01,\n        -6.9502e-01,  2.6069e-02,  9.2883e-02,  2.4271e-01, -1.8807e-01,\n         4.0504e-02, -1.1205e-01,  3.6772e-01, -1.5983e-01, -2.4109e-02,\n        -2.5498e-01, -4.4170e-02, -3.9347e-01, -1.7189e-01,  6.2494e-01,\n         3.6575e-01, -2.6409e-01, -3.5400e-01,  1.2921e-01,  2.8841e-01,\n         1.3971e-01, -1.4198e-01,  3.8453e-02, -2.1390e-01,  2.7356e-01,\n        -2.3771e-01, -2.3342e-01, -7.3670e-01,  3.0583e-01,  2.3525e-01,\n         3.7008e-01, -4.6465e-02, -1.5293e+00, -1.3056e-01, -2.5421e-01,\n        -6.8160e-01,  4.3946e-01, -4.2704e-01,  2.3943e-02,  1.2388e-01,\n         3.0782e-02, -5.2459e-01,  1.9445e-01, -3.0102e-01, -4.1197e-02,\n        -1.9695e-01,  1.5177e-01,  1.3668e-01])] in query.",
     "output_type": "error",
     "traceback": [
      "\u001b[0;31m---------------------------------------------------------------------------\u001b[0m",
      "\u001b[0;31mValueError\u001b[0m                                Traceback (most recent call last)",
      "File \u001b[0;32m~/Library/Python/3.9/lib/python/site-packages/chromadb/api/models/CollectionCommon.py:90\u001b[0m, in \u001b[0;36mvalidation_context.<locals>.decorator.<locals>.wrapper\u001b[0;34m(self, *args, **kwargs)\u001b[0m\n\u001b[1;32m     89\u001b[0m \u001b[38;5;28;01mtry\u001b[39;00m:\n\u001b[0;32m---> 90\u001b[0m     \u001b[38;5;28;01mreturn\u001b[39;00m \u001b[43mfunc\u001b[49m\u001b[43m(\u001b[49m\u001b[38;5;28;43mself\u001b[39;49m\u001b[43m,\u001b[49m\u001b[43m \u001b[49m\u001b[38;5;241;43m*\u001b[39;49m\u001b[43margs\u001b[49m\u001b[43m,\u001b[49m\u001b[43m \u001b[49m\u001b[38;5;241;43m*\u001b[39;49m\u001b[38;5;241;43m*\u001b[39;49m\u001b[43mkwargs\u001b[49m\u001b[43m)\u001b[49m\n\u001b[1;32m     91\u001b[0m \u001b[38;5;28;01mexcept\u001b[39;00m \u001b[38;5;167;01mException\u001b[39;00m \u001b[38;5;28;01mas\u001b[39;00m e:\n",
      "File \u001b[0;32m~/Library/Python/3.9/lib/python/site-packages/chromadb/api/models/CollectionCommon.py:280\u001b[0m, in \u001b[0;36mCollectionCommon._validate_and_prepare_query_request\u001b[0;34m(self, query_embeddings, query_texts, query_images, query_uris, n_results, where, where_document, include)\u001b[0m\n\u001b[1;32m    262\u001b[0m \u001b[38;5;129m@validation_context\u001b[39m(\u001b[38;5;124m\"\u001b[39m\u001b[38;5;124mquery\u001b[39m\u001b[38;5;124m\"\u001b[39m)\n\u001b[1;32m    263\u001b[0m \u001b[38;5;28;01mdef\u001b[39;00m \u001b[38;5;21m_validate_and_prepare_query_request\u001b[39m(\n\u001b[1;32m    264\u001b[0m     \u001b[38;5;28mself\u001b[39m,\n\u001b[0;32m   (...)\u001b[0m\n\u001b[1;32m    278\u001b[0m ) \u001b[38;5;241m-\u001b[39m\u001b[38;5;241m>\u001b[39m QueryRequest:\n\u001b[1;32m    279\u001b[0m     \u001b[38;5;66;03m# Unpack\u001b[39;00m\n\u001b[0;32m--> 280\u001b[0m     query_records \u001b[38;5;241m=\u001b[39m \u001b[43mnormalize_base_record_set\u001b[49m\u001b[43m(\u001b[49m\n\u001b[1;32m    281\u001b[0m \u001b[43m        \u001b[49m\u001b[43membeddings\u001b[49m\u001b[38;5;241;43m=\u001b[39;49m\u001b[43mquery_embeddings\u001b[49m\u001b[43m,\u001b[49m\n\u001b[1;32m    282\u001b[0m \u001b[43m        \u001b[49m\u001b[43mdocuments\u001b[49m\u001b[38;5;241;43m=\u001b[39;49m\u001b[43mquery_texts\u001b[49m\u001b[43m,\u001b[49m\n\u001b[1;32m    283\u001b[0m \u001b[43m        \u001b[49m\u001b[43mimages\u001b[49m\u001b[38;5;241;43m=\u001b[39;49m\u001b[43mquery_images\u001b[49m\u001b[43m,\u001b[49m\n\u001b[1;32m    284\u001b[0m \u001b[43m        \u001b[49m\u001b[43muris\u001b[49m\u001b[38;5;241;43m=\u001b[39;49m\u001b[43mquery_uris\u001b[49m\u001b[43m,\u001b[49m\n\u001b[1;32m    285\u001b[0m \u001b[43m    \u001b[49m\u001b[43m)\u001b[49m\n\u001b[1;32m    287\u001b[0m     filters \u001b[38;5;241m=\u001b[39m FilterSet(\n\u001b[1;32m    288\u001b[0m         where\u001b[38;5;241m=\u001b[39mwhere,\n\u001b[1;32m    289\u001b[0m         where_document\u001b[38;5;241m=\u001b[39mwhere_document,\n\u001b[1;32m    290\u001b[0m     )\n",
      "File \u001b[0;32m~/Library/Python/3.9/lib/python/site-packages/chromadb/api/types.py:158\u001b[0m, in \u001b[0;36mnormalize_base_record_set\u001b[0;34m(embeddings, documents, images, uris)\u001b[0m\n\u001b[1;32m    153\u001b[0m \u001b[38;5;250m\u001b[39m\u001b[38;5;124;03m\"\"\"\u001b[39;00m\n\u001b[1;32m    154\u001b[0m \u001b[38;5;124;03mUnpacks and normalizes the fields of a BaseRecordSet.\u001b[39;00m\n\u001b[1;32m    155\u001b[0m \u001b[38;5;124;03m\"\"\"\u001b[39;00m\n\u001b[1;32m    157\u001b[0m \u001b[38;5;28;01mreturn\u001b[39;00m BaseRecordSet(\n\u001b[0;32m--> 158\u001b[0m     embeddings\u001b[38;5;241m=\u001b[39m\u001b[43mnormalize_embeddings\u001b[49m\u001b[43m(\u001b[49m\u001b[43membeddings\u001b[49m\u001b[43m)\u001b[49m,\n\u001b[1;32m    159\u001b[0m     documents\u001b[38;5;241m=\u001b[39mmaybe_cast_one_to_many(documents),\n\u001b[1;32m    160\u001b[0m     images\u001b[38;5;241m=\u001b[39mmaybe_cast_one_to_many(images),\n\u001b[1;32m    161\u001b[0m     uris\u001b[38;5;241m=\u001b[39mmaybe_cast_one_to_many(uris),\n\u001b[1;32m    162\u001b[0m )\n",
      "File \u001b[0;32m~/Library/Python/3.9/lib/python/site-packages/chromadb/api/types.py:82\u001b[0m, in \u001b[0;36mnormalize_embeddings\u001b[0;34m(target)\u001b[0m\n\u001b[1;32m     80\u001b[0m         \u001b[38;5;28;01mreturn\u001b[39;00m \u001b[38;5;28mlist\u001b[39m(target)\n\u001b[0;32m---> 82\u001b[0m \u001b[38;5;28;01mraise\u001b[39;00m \u001b[38;5;167;01mValueError\u001b[39;00m(\n\u001b[1;32m     83\u001b[0m     \u001b[38;5;124mf\u001b[39m\u001b[38;5;124m\"\u001b[39m\u001b[38;5;124mExpected embeddings to be a list of floats or ints, a list of lists, a numpy array, or a list of numpy arrays, got \u001b[39m\u001b[38;5;132;01m{\u001b[39;00mtarget\u001b[38;5;132;01m}\u001b[39;00m\u001b[38;5;124m\"\u001b[39m\n\u001b[1;32m     84\u001b[0m )\n",
      "\u001b[0;31mValueError\u001b[0m: Expected embeddings to be a list of floats or ints, a list of lists, a numpy array, or a list of numpy arrays, got [tensor([-3.8855e-02, -1.2471e-01, -9.2201e-03, -7.3344e-02,  5.5915e-01,\n        -2.7064e-01,  9.7387e-02,  3.4504e-01, -2.6210e-01,  1.3808e-02,\n         2.2466e-01, -5.5098e-01, -3.8770e-01,  2.4255e-01, -2.2029e-01,\n         1.0884e-02,  2.9325e-01,  2.0332e-01, -1.9766e-01,  5.9850e-01,\n         6.6307e-02, -1.1382e-01, -3.0335e-01,  1.3687e-01,  2.1185e-01,\n         1.1167e-02, -3.8477e-02,  8.0996e-02,  3.2921e-02, -1.4221e-01,\n         2.4666e-01, -1.5174e-01, -1.3303e-01, -6.9335e-02, -1.6171e-01,\n        -1.0300e-02, -1.4088e-01, -1.5260e-01, -4.2659e-01,  1.3648e-01,\n        -4.0489e-01, -2.3946e-01,  2.1970e-01,  1.8988e-01, -7.1899e-02,\n        -4.9142e-01,  3.2201e-01, -3.5161e-01,  3.0190e-01, -1.5636e-01,\n        -2.3208e-01,  4.1479e-01, -2.5853e-01,  2.5969e-01,  4.2936e-03,\n         2.6918e-01, -5.9448e-02, -3.9154e-01, -1.7338e-01, -1.4429e-01,\n        -1.2289e-01,  9.4519e-02,  2.1711e-01, -5.7459e-01, -8.6385e-02,\n         1.6234e-01,  8.7025e-02,  9.4272e-02, -2.7625e-01,  3.3766e-01,\n        -4.8603e-01, -1.9936e-01,  2.3508e-01,  1.2796e-01, -3.2536e-01,\n        -1.1818e-01, -7.3464e-04,  5.3907e-01,  3.0507e-01, -1.8236e-01,\n        -1.5918e-01,  5.6264e-01, -4.6832e-02,  5.0648e-01,  3.4166e-01,\n         3.8132e-01, -3.1267e-01,  6.7348e-02, -1.4665e-01,  7.3024e-01,\n        -2.5116e-01,  5.5128e-02,  4.8839e-02,  2.5103e-01,  3.4859e-01,\n        -2.8679e-01,  2.9947e-01, -3.1021e-01,  3.6499e-02,  2.4952e-01,\n         1.2424e-01, -3.2766e-01,  9.4993e-02,  3.8474e-01, -1.0651e-01,\n        -2.7360e-01,  2.9586e-01,  1.8576e-01,  6.2504e-02, -4.9161e-01,\n        -1.3972e-01, -1.8780e-01,  1.4499e-01, -1.3601e-01, -1.2313e-01,\n         9.4393e-01,  2.6541e-01, -1.3278e-01, -2.3688e-01,  2.3651e-01,\n        -1.5581e-01, -1.5424e-01,  1.8947e-01,  6.8209e-01,  2.7950e-01,\n         1.6668e-01, -2.7915e-01, -2.0853e-01,  1.7706e-01, -4.5364e-01,\n         3.0238e-01,  3.2802e-01,  4.8885e-01, -4.5749e-01, -2.5717e-02,\n         8.8245e-01, -3.8512e-02,  4.1992e-03, -5.7765e-01,  2.0225e-01,\n         3.7289e-02, -3.4966e-02, -2.4050e-01,  4.3866e-02,  3.2484e-01,\n        -3.0401e-02, -3.3561e-01,  1.4869e-01,  4.7981e-01, -9.4056e-02,\n         1.2398e-01,  4.6149e-02, -6.4755e-02, -2.7919e-01, -4.0974e-01,\n        -3.1847e-01, -4.2047e-01,  1.3273e-01,  1.8241e-01,  3.0862e-01,\n         3.3197e-01, -3.5942e-01, -2.1801e-01,  9.4179e-02, -1.7174e-01,\n        -1.4031e-01,  2.2994e-01,  6.3956e-01, -1.3532e-01,  3.6013e-01,\n        -1.5295e-01,  1.1110e-01,  8.4717e-01, -1.0363e-01,  1.8489e-01,\n         5.2682e-02, -1.5628e-01, -1.4438e-01,  4.0065e-02,  4.7782e-02,\n        -1.1950e+00,  7.2935e-02, -1.5655e-01,  3.2047e-01,  2.5398e-01,\n        -2.4016e-01,  4.9297e-01, -6.6392e-01, -3.7060e-01,  5.2523e-02,\n        -4.4636e-02, -4.6570e-01, -2.5880e-01,  4.2032e-01,  6.8537e-01,\n        -4.7040e-01, -4.4512e-01, -8.1729e-01,  1.9749e-01,  9.4603e-02,\n         1.9158e-02, -4.3400e-01,  5.3513e-02,  4.0531e-01,  1.7243e-02,\n         7.3655e-01,  4.7864e-02,  5.1784e-02, -1.3033e-01,  2.4632e-01,\n        -3.7717e-01,  3.0618e-01,  4.7290e-01,  1.6458e-01,  2.4329e-01,\n        -1.9112e-01,  4.1205e-01,  1.7802e-02, -3.1776e-01,  3.5935e-01,\n         2.3634e-01, -1.3160e-01, -5.7264e-01,  5.0396e-01, -3.6132e-01,\n         2.1178e-01,  4.0415e-01, -9.0041e-03,  3.9776e-02,  3.3921e-01,\n        -1.3416e-01,  5.7887e-02,  1.3453e-01,  3.4750e-01, -3.7073e-01,\n        -4.6548e-01, -2.3134e-01,  1.0294e-01,  7.0255e-02,  2.5009e-02,\n        -4.0684e-02,  4.3740e-01,  8.2357e-01,  1.4177e-01, -7.2488e-02,\n         7.3149e-02,  1.2564e-01,  3.5636e-01,  1.1678e-01, -1.2626e-01,\n        -1.1771e-01, -5.6678e-01,  4.8317e-02, -6.0796e-01, -1.9182e-01,\n        -2.0039e-02, -2.2126e-01,  5.5616e-01,  1.1782e-01,  7.8060e-02,\n         4.3885e-01, -2.9898e-02,  5.9568e-01,  1.4621e-02, -3.5953e-01,\n        -1.0029e-01,  1.0603e-02,  2.5675e-02, -8.2879e-02, -2.2859e-01,\n         7.0192e-02, -2.2783e-01,  1.8781e-01, -1.1235e-01,  1.8993e-01,\n        -3.8784e-01,  4.7842e-01, -2.4441e-01, -1.3634e-02, -3.2094e-01,\n        -1.3043e-01,  2.7765e-01, -6.1949e-01, -2.8388e-01,  2.3448e-01,\n        -5.4338e-01,  2.3392e-01, -3.6204e-01,  1.1778e-01, -4.7347e-01,\n        -1.3006e-01,  3.0037e-02, -1.1508e-02, -4.6254e-01,  1.2945e-01,\n        -2.9028e-03,  4.0947e-01,  7.6637e-02,  3.2887e-03, -8.1415e-02,\n        -5.4697e-02, -1.2731e-01,  2.3057e-01,  8.7178e-02, -4.6588e-01,\n         1.1761e-01,  1.2951e-02, -1.6704e-01, -2.9253e+00, -1.8135e-01,\n         2.2596e-01, -1.8139e-01,  2.2280e-02, -6.1614e-02, -2.3281e-01,\n        -1.2929e-01, -6.6249e-01, -1.0417e-01, -2.7749e-01, -4.8966e-01,\n         6.4844e-01,  2.5662e-01,  7.6456e-02, -3.6900e-01,  2.4478e-01,\n        -3.0348e-01, -8.2499e-02,  2.9182e-01, -3.1392e-01, -1.5990e-01,\n        -1.3350e-01, -6.2184e-01,  1.8171e-01,  1.0869e+00, -1.4354e-01,\n        -9.8239e-02, -5.3533e-01,  9.4838e-02, -2.2405e-01, -2.1824e-01,\n         6.7055e-02,  7.1968e-02, -3.1319e-02,  2.8624e-01, -1.7012e-01,\n        -1.4133e-01,  9.1797e-02,  3.3075e-02,  2.5846e-01, -2.0357e-01,\n         4.2260e-01,  2.6412e-01,  6.9706e-01,  5.2503e-02, -1.6338e-01,\n        -6.1475e-01, -1.3822e-01,  1.5543e-01,  9.2928e-02, -7.4424e-03,\n        -7.9949e-02, -1.0800e-02,  1.7503e-01,  3.9617e-02,  5.0868e-01,\n         1.5093e-01,  2.6669e-01, -4.0444e-01,  2.0161e-01, -4.4576e-01,\n        -1.7721e-01,  3.8470e-01, -3.2291e-01, -4.2525e-01, -6.4137e-01,\n        -4.7621e-01,  3.3372e-01,  4.9977e-02, -3.1229e-04, -5.7050e-01,\n        -5.7211e-01, -8.9662e-01, -7.4677e-01,  1.0453e-01,  1.8588e-01,\n        -1.9139e-01,  2.8937e-01, -2.4331e-01, -4.0074e-01, -2.4911e-01,\n         4.5568e-03,  1.2775e-01, -8.3640e-02, -1.0585e+00,  1.4276e-01,\n        -1.9102e-01,  5.6603e-02,  3.1430e-02,  1.2767e-01,  1.0989e-01,\n        -5.3145e-04,  1.7693e-01,  1.3314e-01, -4.6512e-02,  5.7329e-02,\n        -2.8985e-01,  8.2359e-02,  2.5257e-01, -1.4470e-01, -5.7098e-01,\n         2.2691e-01,  1.6849e-01,  1.8034e-01,  4.9080e-01, -3.6136e-01,\n        -6.4747e-02,  1.8552e-02,  2.6677e-01, -1.9550e-01, -7.7862e-01,\n         1.1612e-01, -2.7014e-01,  5.4242e-02, -9.1825e-02,  5.8287e-01,\n         5.0265e-01, -2.1448e-01,  1.1850e-01, -5.5516e-02,  2.6610e-01,\n        -9.9994e-02, -2.5115e-01, -4.8319e-01, -1.6760e-01,  5.6476e-03,\n        -3.1885e-01,  1.0437e-01, -1.3999e-01,  4.0343e-01, -2.0741e-01,\n        -1.1867e-01,  1.4227e-02, -3.0678e-03,  1.6855e-01, -7.0769e-02,\n        -3.4468e-01, -1.4811e-01,  1.9756e-02, -1.8041e-01,  6.1698e-02,\n        -3.6872e-01,  1.4053e-01, -1.8644e-01,  7.6094e-02, -1.5147e-01,\n         4.1831e-02,  5.2419e-02,  4.6889e-01, -7.6011e-02, -5.1612e-01,\n         2.3902e-01,  3.6339e-02,  2.0910e-01, -2.2540e-01,  4.6942e-01,\n        -4.1021e-01, -1.2775e-01, -2.4195e-01,  3.2747e-01,  1.1304e-01,\n        -1.0373e-01,  4.5736e-01, -5.3828e-02,  2.7663e-01,  4.7583e-01,\n        -6.5242e-02, -1.3483e-01,  3.8241e-01, -8.1963e-02, -3.6144e-01,\n         1.9811e-01,  2.7573e-01,  8.9246e-03,  2.0626e-02,  9.0658e-02,\n        -6.4138e-02, -2.2966e-01, -4.5822e-02, -1.8339e-01, -9.1933e-02,\n        -5.9439e-01, -3.1748e-01,  6.2870e-02,  8.4016e-02, -1.2060e-02,\n        -5.6628e-01,  3.1767e-01, -3.6997e-02, -1.2771e-01,  5.7814e-01,\n        -1.9852e-01, -2.2044e-01, -6.8201e-01, -1.0192e-01,  1.4576e-01,\n        -2.8711e-01,  1.7126e-01,  4.9474e-01, -3.0937e-02,  2.3848e-01,\n        -1.2046e-01, -1.3353e-02,  4.0807e-02, -6.9967e-02,  1.5089e-01,\n         1.0945e-01, -1.1536e-01,  5.3505e-02, -3.2427e-01, -3.9442e-01,\n        -6.7868e-02,  3.3591e-02, -2.9581e-02,  1.5482e-01,  1.6482e-01,\n        -2.4102e-02,  4.5642e-01,  1.5237e-01, -5.8125e-01, -1.4452e-01,\n         2.3951e-01, -1.4933e-01, -4.8220e-01, -5.4363e-01, -1.5312e-01,\n        -4.4693e-02, -1.8080e-01, -6.0974e-02,  1.9740e-01, -9.6360e-02,\n         2.7979e-01,  1.5468e-01, -1.4132e-01,  3.3035e-01,  1.2569e-01,\n        -1.5389e-01,  2.1843e-01,  3.1762e-01,  4.7791e-01, -1.8678e-01,\n         1.3205e-01, -3.5592e-01,  2.3202e-01, -2.1924e-01,  1.6291e-01,\n         2.8907e-01,  1.1627e-01,  2.3697e-01,  1.2347e-01,  3.3761e-01,\n         5.0916e-02, -2.3338e-01, -2.3292e-01,  2.1654e-01, -2.9493e-01,\n         1.5937e-02, -9.9943e-04, -5.2188e-02, -1.3980e-01,  1.6848e-01,\n        -4.7712e-02,  3.2688e-01, -1.3792e-01, -1.5473e-01,  2.3343e-01,\n         2.5672e-01,  1.0784e-01, -3.0473e-02, -5.6589e-01, -2.9073e-01,\n         2.0372e-01, -4.6423e-01, -1.9107e-01, -6.6333e-02,  1.6244e-01,\n        -8.4573e-01,  8.3544e-02, -3.5250e-02,  2.8147e-01,  7.8774e-01,\n        -6.5629e-02,  1.5547e-01, -6.6713e-02, -1.6151e-02, -3.6966e-02,\n         2.9242e-01, -3.1556e-02,  2.4031e-01,  4.7216e-02,  3.3065e-01,\n         2.4529e-01,  1.1595e-01,  2.9757e-01,  1.3488e-01,  2.0984e-01,\n         1.8621e-01,  2.0288e-01, -3.1417e-01, -8.0084e-01, -2.3061e-02,\n         1.8626e-01,  3.1275e-01, -2.9040e-01, -1.2252e-01, -9.3099e-02,\n        -9.2661e-02, -2.7132e-01, -1.0466e-01, -1.1082e-01, -1.7762e-01,\n         1.3364e-01,  1.9306e-01, -4.8822e-01,  2.4814e-01, -1.1258e-01,\n        -5.6011e-01, -1.9544e-01,  4.6279e-01, -2.1934e-01, -3.6920e-01,\n         4.7996e-01,  8.2647e-02,  2.5754e-01,  3.0562e-01, -7.1108e-01,\n         2.9010e-01,  3.3512e-01,  2.6543e-01, -1.2568e-01,  1.8044e-02,\n        -2.0083e-01,  7.2790e-01, -2.2090e-01, -4.3827e-01, -3.3327e-02,\n         1.7963e-01,  3.2273e-01, -7.9525e-02, -2.8489e-01,  2.1919e-01,\n         6.4567e-02,  1.2120e-01, -4.1954e-02,  1.8645e-01,  2.1645e-01,\n        -7.7073e-01,  4.1495e-01,  6.1755e-01,  4.0754e-01,  3.1441e-02,\n        -2.1940e-01, -3.7521e-01,  4.4680e-01,  4.1939e-01,  2.8205e-01,\n         2.5542e-01, -5.1098e-01, -3.4634e-01,  5.5458e-03, -1.3160e-01,\n         2.3129e-01, -3.4147e-01,  9.1517e-02,  5.6919e-01, -9.4496e-02,\n        -5.2003e-01,  3.0574e-01, -2.4302e-03,  3.4188e-01,  4.4949e-01,\n         6.6907e-02,  2.2472e-01, -9.9962e-02,  6.5241e-01, -1.5310e-01,\n        -2.2993e-01, -3.4104e-01,  1.6860e-01,  2.8650e-01,  1.6440e-01,\n        -5.4621e-01, -6.8923e-02,  1.5146e-01, -2.6018e-01,  6.4534e-02,\n        -1.2788e-02,  1.0465e-01, -3.1313e-01,  1.8790e-01, -2.8007e-01,\n         3.0698e-01, -4.1342e-01, -1.8413e-01, -3.5264e-01,  4.2478e-01,\n        -1.7314e-01,  4.4197e-01, -7.0316e-02,  5.2409e-01, -2.7752e-01,\n         1.8385e-01,  6.0415e-02, -2.6349e-03,  9.2287e-03,  2.9919e-01,\n        -9.2809e-02, -1.7203e-01, -4.6283e-01, -4.5771e-01,  4.6477e-01,\n        -6.9502e-01,  2.6069e-02,  9.2883e-02,  2.4271e-01, -1.8807e-01,\n         4.0504e-02, -1.1205e-01,  3.6772e-01, -1.5983e-01, -2.4109e-02,\n        -2.5498e-01, -4.4170e-02, -3.9347e-01, -1.7189e-01,  6.2494e-01,\n         3.6575e-01, -2.6409e-01, -3.5400e-01,  1.2921e-01,  2.8841e-01,\n         1.3971e-01, -1.4198e-01,  3.8453e-02, -2.1390e-01,  2.7356e-01,\n        -2.3771e-01, -2.3342e-01, -7.3670e-01,  3.0583e-01,  2.3525e-01,\n         3.7008e-01, -4.6465e-02, -1.5293e+00, -1.3056e-01, -2.5421e-01,\n        -6.8160e-01,  4.3946e-01, -4.2704e-01,  2.3943e-02,  1.2388e-01,\n         3.0782e-02, -5.2459e-01,  1.9445e-01, -3.0102e-01, -4.1197e-02,\n        -1.9695e-01,  1.5177e-01,  1.3668e-01])]",
      "\nDuring handling of the above exception, another exception occurred:\n",
      "\u001b[0;31mValueError\u001b[0m                                Traceback (most recent call last)",
      "Cell \u001b[0;32mIn[15], line 2\u001b[0m\n\u001b[1;32m      1\u001b[0m query \u001b[38;5;241m=\u001b[39m \u001b[38;5;124m\"\u001b[39m\u001b[38;5;124mwhere is the cat sitting?\u001b[39m\u001b[38;5;124m\"\u001b[39m\n\u001b[0;32m----> 2\u001b[0m results \u001b[38;5;241m=\u001b[39m \u001b[43mvectorstore\u001b[49m\u001b[38;5;241;43m.\u001b[39;49m\u001b[43msimilarity_search\u001b[49m\u001b[43m(\u001b[49m\u001b[43mquery\u001b[49m\u001b[43m,\u001b[49m\u001b[43m \u001b[49m\u001b[43mk\u001b[49m\u001b[43m \u001b[49m\u001b[38;5;241;43m=\u001b[39;49m\u001b[43m \u001b[49m\u001b[38;5;241;43m1\u001b[39;49m\u001b[43m)\u001b[49m\n\u001b[1;32m      3\u001b[0m results\n",
      "File \u001b[0;32m~/Library/Python/3.9/lib/python/site-packages/langchain_community/vectorstores/chroma.py:350\u001b[0m, in \u001b[0;36mChroma.similarity_search\u001b[0;34m(self, query, k, filter, **kwargs)\u001b[0m\n\u001b[1;32m    333\u001b[0m \u001b[38;5;28;01mdef\u001b[39;00m \u001b[38;5;21msimilarity_search\u001b[39m(\n\u001b[1;32m    334\u001b[0m     \u001b[38;5;28mself\u001b[39m,\n\u001b[1;32m    335\u001b[0m     query: \u001b[38;5;28mstr\u001b[39m,\n\u001b[0;32m   (...)\u001b[0m\n\u001b[1;32m    338\u001b[0m     \u001b[38;5;241m*\u001b[39m\u001b[38;5;241m*\u001b[39mkwargs: Any,\n\u001b[1;32m    339\u001b[0m ) \u001b[38;5;241m-\u001b[39m\u001b[38;5;241m>\u001b[39m List[Document]:\n\u001b[1;32m    340\u001b[0m \u001b[38;5;250m    \u001b[39m\u001b[38;5;124;03m\"\"\"Run similarity search with Chroma.\u001b[39;00m\n\u001b[1;32m    341\u001b[0m \n\u001b[1;32m    342\u001b[0m \u001b[38;5;124;03m    Args:\u001b[39;00m\n\u001b[0;32m   (...)\u001b[0m\n\u001b[1;32m    348\u001b[0m \u001b[38;5;124;03m        List[Document]: List of documents most similar to the query text.\u001b[39;00m\n\u001b[1;32m    349\u001b[0m \u001b[38;5;124;03m    \"\"\"\u001b[39;00m\n\u001b[0;32m--> 350\u001b[0m     docs_and_scores \u001b[38;5;241m=\u001b[39m \u001b[38;5;28;43mself\u001b[39;49m\u001b[38;5;241;43m.\u001b[39;49m\u001b[43msimilarity_search_with_score\u001b[49m\u001b[43m(\u001b[49m\n\u001b[1;32m    351\u001b[0m \u001b[43m        \u001b[49m\u001b[43mquery\u001b[49m\u001b[43m,\u001b[49m\u001b[43m \u001b[49m\u001b[43mk\u001b[49m\u001b[43m,\u001b[49m\u001b[43m \u001b[49m\u001b[38;5;28;43mfilter\u001b[39;49m\u001b[38;5;241;43m=\u001b[39;49m\u001b[38;5;28;43mfilter\u001b[39;49m\u001b[43m,\u001b[49m\u001b[43m \u001b[49m\u001b[38;5;241;43m*\u001b[39;49m\u001b[38;5;241;43m*\u001b[39;49m\u001b[43mkwargs\u001b[49m\n\u001b[1;32m    352\u001b[0m \u001b[43m    \u001b[49m\u001b[43m)\u001b[49m\n\u001b[1;32m    353\u001b[0m     \u001b[38;5;28;01mreturn\u001b[39;00m [doc \u001b[38;5;28;01mfor\u001b[39;00m doc, _ \u001b[38;5;129;01min\u001b[39;00m docs_and_scores]\n",
      "File \u001b[0;32m~/Library/Python/3.9/lib/python/site-packages/langchain_community/vectorstores/chroma.py:440\u001b[0m, in \u001b[0;36mChroma.similarity_search_with_score\u001b[0;34m(self, query, k, filter, where_document, **kwargs)\u001b[0m\n\u001b[1;32m    438\u001b[0m \u001b[38;5;28;01melse\u001b[39;00m:\n\u001b[1;32m    439\u001b[0m     query_embedding \u001b[38;5;241m=\u001b[39m \u001b[38;5;28mself\u001b[39m\u001b[38;5;241m.\u001b[39m_embedding_function\u001b[38;5;241m.\u001b[39membed_query(query)\n\u001b[0;32m--> 440\u001b[0m     results \u001b[38;5;241m=\u001b[39m \u001b[38;5;28;43mself\u001b[39;49m\u001b[38;5;241;43m.\u001b[39;49m\u001b[43m__query_collection\u001b[49m\u001b[43m(\u001b[49m\n\u001b[1;32m    441\u001b[0m \u001b[43m        \u001b[49m\u001b[43mquery_embeddings\u001b[49m\u001b[38;5;241;43m=\u001b[39;49m\u001b[43m[\u001b[49m\u001b[43mquery_embedding\u001b[49m\u001b[43m]\u001b[49m\u001b[43m,\u001b[49m\n\u001b[1;32m    442\u001b[0m \u001b[43m        \u001b[49m\u001b[43mn_results\u001b[49m\u001b[38;5;241;43m=\u001b[39;49m\u001b[43mk\u001b[49m\u001b[43m,\u001b[49m\n\u001b[1;32m    443\u001b[0m \u001b[43m        \u001b[49m\u001b[43mwhere\u001b[49m\u001b[38;5;241;43m=\u001b[39;49m\u001b[38;5;28;43mfilter\u001b[39;49m\u001b[43m,\u001b[49m\n\u001b[1;32m    444\u001b[0m \u001b[43m        \u001b[49m\u001b[43mwhere_document\u001b[49m\u001b[38;5;241;43m=\u001b[39;49m\u001b[43mwhere_document\u001b[49m\u001b[43m,\u001b[49m\n\u001b[1;32m    445\u001b[0m \u001b[43m        \u001b[49m\u001b[38;5;241;43m*\u001b[39;49m\u001b[38;5;241;43m*\u001b[39;49m\u001b[43mkwargs\u001b[49m\u001b[43m,\u001b[49m\n\u001b[1;32m    446\u001b[0m \u001b[43m    \u001b[49m\u001b[43m)\u001b[49m\n\u001b[1;32m    448\u001b[0m \u001b[38;5;28;01mreturn\u001b[39;00m _results_to_docs_and_scores(results)\n",
      "File \u001b[0;32m~/Library/Python/3.9/lib/python/site-packages/langchain_core/utils/utils.py:53\u001b[0m, in \u001b[0;36mxor_args.<locals>.decorator.<locals>.wrapper\u001b[0;34m(*args, **kwargs)\u001b[0m\n\u001b[1;32m     47\u001b[0m     msg \u001b[38;5;241m=\u001b[39m (\n\u001b[1;32m     48\u001b[0m         \u001b[38;5;124m\"\u001b[39m\u001b[38;5;124mExactly one argument in each of the following\u001b[39m\u001b[38;5;124m\"\u001b[39m\n\u001b[1;32m     49\u001b[0m         \u001b[38;5;124m\"\u001b[39m\u001b[38;5;124m groups must be defined:\u001b[39m\u001b[38;5;124m\"\u001b[39m\n\u001b[1;32m     50\u001b[0m         \u001b[38;5;124mf\u001b[39m\u001b[38;5;124m\"\u001b[39m\u001b[38;5;124m \u001b[39m\u001b[38;5;132;01m{\u001b[39;00m\u001b[38;5;124m'\u001b[39m\u001b[38;5;124m, \u001b[39m\u001b[38;5;124m'\u001b[39m\u001b[38;5;241m.\u001b[39mjoin(invalid_group_names)\u001b[38;5;132;01m}\u001b[39;00m\u001b[38;5;124m\"\u001b[39m\n\u001b[1;32m     51\u001b[0m     )\n\u001b[1;32m     52\u001b[0m     \u001b[38;5;28;01mraise\u001b[39;00m \u001b[38;5;167;01mValueError\u001b[39;00m(msg)\n\u001b[0;32m---> 53\u001b[0m \u001b[38;5;28;01mreturn\u001b[39;00m \u001b[43mfunc\u001b[49m\u001b[43m(\u001b[49m\u001b[38;5;241;43m*\u001b[39;49m\u001b[43margs\u001b[49m\u001b[43m,\u001b[49m\u001b[43m \u001b[49m\u001b[38;5;241;43m*\u001b[39;49m\u001b[38;5;241;43m*\u001b[39;49m\u001b[43mkwargs\u001b[49m\u001b[43m)\u001b[49m\n",
      "File \u001b[0;32m~/Library/Python/3.9/lib/python/site-packages/langchain_community/vectorstores/chroma.py:157\u001b[0m, in \u001b[0;36mChroma.__query_collection\u001b[0;34m(self, query_texts, query_embeddings, n_results, where, where_document, **kwargs)\u001b[0m\n\u001b[1;32m    152\u001b[0m \u001b[38;5;28;01mexcept\u001b[39;00m \u001b[38;5;167;01mImportError\u001b[39;00m:\n\u001b[1;32m    153\u001b[0m     \u001b[38;5;28;01mraise\u001b[39;00m \u001b[38;5;167;01mImportError\u001b[39;00m(\n\u001b[1;32m    154\u001b[0m         \u001b[38;5;124m\"\u001b[39m\u001b[38;5;124mCould not import chromadb python package. \u001b[39m\u001b[38;5;124m\"\u001b[39m\n\u001b[1;32m    155\u001b[0m         \u001b[38;5;124m\"\u001b[39m\u001b[38;5;124mPlease install it with `pip install chromadb`.\u001b[39m\u001b[38;5;124m\"\u001b[39m\n\u001b[1;32m    156\u001b[0m     )\n\u001b[0;32m--> 157\u001b[0m \u001b[38;5;28;01mreturn\u001b[39;00m \u001b[38;5;28;43mself\u001b[39;49m\u001b[38;5;241;43m.\u001b[39;49m\u001b[43m_collection\u001b[49m\u001b[38;5;241;43m.\u001b[39;49m\u001b[43mquery\u001b[49m\u001b[43m(\u001b[49m\u001b[43m  \u001b[49m\u001b[38;5;66;43;03m# type: ignore[return-value]\u001b[39;49;00m\n\u001b[1;32m    158\u001b[0m \u001b[43m    \u001b[49m\u001b[43mquery_texts\u001b[49m\u001b[38;5;241;43m=\u001b[39;49m\u001b[43mquery_texts\u001b[49m\u001b[43m,\u001b[49m\n\u001b[1;32m    159\u001b[0m \u001b[43m    \u001b[49m\u001b[43mquery_embeddings\u001b[49m\u001b[38;5;241;43m=\u001b[39;49m\u001b[43mquery_embeddings\u001b[49m\u001b[43m,\u001b[49m\u001b[43m  \u001b[49m\u001b[38;5;66;43;03m# type: ignore[arg-type]\u001b[39;49;00m\n\u001b[1;32m    160\u001b[0m \u001b[43m    \u001b[49m\u001b[43mn_results\u001b[49m\u001b[38;5;241;43m=\u001b[39;49m\u001b[43mn_results\u001b[49m\u001b[43m,\u001b[49m\n\u001b[1;32m    161\u001b[0m \u001b[43m    \u001b[49m\u001b[43mwhere\u001b[49m\u001b[38;5;241;43m=\u001b[39;49m\u001b[43mwhere\u001b[49m\u001b[43m,\u001b[49m\u001b[43m  \u001b[49m\u001b[38;5;66;43;03m# type: ignore[arg-type]\u001b[39;49;00m\n\u001b[1;32m    162\u001b[0m \u001b[43m    \u001b[49m\u001b[43mwhere_document\u001b[49m\u001b[38;5;241;43m=\u001b[39;49m\u001b[43mwhere_document\u001b[49m\u001b[43m,\u001b[49m\u001b[43m  \u001b[49m\u001b[38;5;66;43;03m# type: ignore[arg-type]\u001b[39;49;00m\n\u001b[1;32m    163\u001b[0m \u001b[43m    \u001b[49m\u001b[38;5;241;43m*\u001b[39;49m\u001b[38;5;241;43m*\u001b[39;49m\u001b[43mkwargs\u001b[49m\u001b[43m,\u001b[49m\n\u001b[1;32m    164\u001b[0m \u001b[43m\u001b[49m\u001b[43m)\u001b[49m\n",
      "File \u001b[0;32m~/Library/Python/3.9/lib/python/site-packages/chromadb/api/models/Collection.py:210\u001b[0m, in \u001b[0;36mCollection.query\u001b[0;34m(self, query_embeddings, query_texts, query_images, query_uris, n_results, where, where_document, include)\u001b[0m\n\u001b[1;32m    167\u001b[0m \u001b[38;5;28;01mdef\u001b[39;00m \u001b[38;5;21mquery\u001b[39m(\n\u001b[1;32m    168\u001b[0m     \u001b[38;5;28mself\u001b[39m,\n\u001b[1;32m    169\u001b[0m     query_embeddings: Optional[\n\u001b[0;32m   (...)\u001b[0m\n\u001b[1;32m    185\u001b[0m     ],\n\u001b[1;32m    186\u001b[0m ) \u001b[38;5;241m-\u001b[39m\u001b[38;5;241m>\u001b[39m QueryResult:\n\u001b[1;32m    187\u001b[0m \u001b[38;5;250m    \u001b[39m\u001b[38;5;124;03m\"\"\"Get the n_results nearest neighbor embeddings for provided query_embeddings or query_texts.\u001b[39;00m\n\u001b[1;32m    188\u001b[0m \n\u001b[1;32m    189\u001b[0m \u001b[38;5;124;03m    Args:\u001b[39;00m\n\u001b[0;32m   (...)\u001b[0m\n\u001b[1;32m    207\u001b[0m \n\u001b[1;32m    208\u001b[0m \u001b[38;5;124;03m    \"\"\"\u001b[39;00m\n\u001b[0;32m--> 210\u001b[0m     query_request \u001b[38;5;241m=\u001b[39m \u001b[38;5;28;43mself\u001b[39;49m\u001b[38;5;241;43m.\u001b[39;49m\u001b[43m_validate_and_prepare_query_request\u001b[49m\u001b[43m(\u001b[49m\n\u001b[1;32m    211\u001b[0m \u001b[43m        \u001b[49m\u001b[43mquery_embeddings\u001b[49m\u001b[38;5;241;43m=\u001b[39;49m\u001b[43mquery_embeddings\u001b[49m\u001b[43m,\u001b[49m\n\u001b[1;32m    212\u001b[0m \u001b[43m        \u001b[49m\u001b[43mquery_texts\u001b[49m\u001b[38;5;241;43m=\u001b[39;49m\u001b[43mquery_texts\u001b[49m\u001b[43m,\u001b[49m\n\u001b[1;32m    213\u001b[0m \u001b[43m        \u001b[49m\u001b[43mquery_images\u001b[49m\u001b[38;5;241;43m=\u001b[39;49m\u001b[43mquery_images\u001b[49m\u001b[43m,\u001b[49m\n\u001b[1;32m    214\u001b[0m \u001b[43m        \u001b[49m\u001b[43mquery_uris\u001b[49m\u001b[38;5;241;43m=\u001b[39;49m\u001b[43mquery_uris\u001b[49m\u001b[43m,\u001b[49m\n\u001b[1;32m    215\u001b[0m \u001b[43m        \u001b[49m\u001b[43mn_results\u001b[49m\u001b[38;5;241;43m=\u001b[39;49m\u001b[43mn_results\u001b[49m\u001b[43m,\u001b[49m\n\u001b[1;32m    216\u001b[0m \u001b[43m        \u001b[49m\u001b[43mwhere\u001b[49m\u001b[38;5;241;43m=\u001b[39;49m\u001b[43mwhere\u001b[49m\u001b[43m,\u001b[49m\n\u001b[1;32m    217\u001b[0m \u001b[43m        \u001b[49m\u001b[43mwhere_document\u001b[49m\u001b[38;5;241;43m=\u001b[39;49m\u001b[43mwhere_document\u001b[49m\u001b[43m,\u001b[49m\n\u001b[1;32m    218\u001b[0m \u001b[43m        \u001b[49m\u001b[43minclude\u001b[49m\u001b[38;5;241;43m=\u001b[39;49m\u001b[43minclude\u001b[49m\u001b[43m,\u001b[49m\n\u001b[1;32m    219\u001b[0m \u001b[43m    \u001b[49m\u001b[43m)\u001b[49m\n\u001b[1;32m    221\u001b[0m     query_results \u001b[38;5;241m=\u001b[39m \u001b[38;5;28mself\u001b[39m\u001b[38;5;241m.\u001b[39m_client\u001b[38;5;241m.\u001b[39m_query(\n\u001b[1;32m    222\u001b[0m         collection_id\u001b[38;5;241m=\u001b[39m\u001b[38;5;28mself\u001b[39m\u001b[38;5;241m.\u001b[39mid,\n\u001b[1;32m    223\u001b[0m         query_embeddings\u001b[38;5;241m=\u001b[39mquery_request[\u001b[38;5;124m\"\u001b[39m\u001b[38;5;124membeddings\u001b[39m\u001b[38;5;124m\"\u001b[39m],\n\u001b[0;32m   (...)\u001b[0m\n\u001b[1;32m    229\u001b[0m         database\u001b[38;5;241m=\u001b[39m\u001b[38;5;28mself\u001b[39m\u001b[38;5;241m.\u001b[39mdatabase,\n\u001b[1;32m    230\u001b[0m     )\n\u001b[1;32m    232\u001b[0m     \u001b[38;5;28;01mreturn\u001b[39;00m \u001b[38;5;28mself\u001b[39m\u001b[38;5;241m.\u001b[39m_transform_query_response(\n\u001b[1;32m    233\u001b[0m         response\u001b[38;5;241m=\u001b[39mquery_results, include\u001b[38;5;241m=\u001b[39mquery_request[\u001b[38;5;124m\"\u001b[39m\u001b[38;5;124minclude\u001b[39m\u001b[38;5;124m\"\u001b[39m]\n\u001b[1;32m    234\u001b[0m     )\n",
      "File \u001b[0;32m~/Library/Python/3.9/lib/python/site-packages/chromadb/api/models/CollectionCommon.py:93\u001b[0m, in \u001b[0;36mvalidation_context.<locals>.decorator.<locals>.wrapper\u001b[0;34m(self, *args, **kwargs)\u001b[0m\n\u001b[1;32m     91\u001b[0m \u001b[38;5;28;01mexcept\u001b[39;00m \u001b[38;5;167;01mException\u001b[39;00m \u001b[38;5;28;01mas\u001b[39;00m e:\n\u001b[1;32m     92\u001b[0m     msg \u001b[38;5;241m=\u001b[39m \u001b[38;5;124mf\u001b[39m\u001b[38;5;124m\"\u001b[39m\u001b[38;5;132;01m{\u001b[39;00m\u001b[38;5;28mstr\u001b[39m(e)\u001b[38;5;132;01m}\u001b[39;00m\u001b[38;5;124m in \u001b[39m\u001b[38;5;132;01m{\u001b[39;00mname\u001b[38;5;132;01m}\u001b[39;00m\u001b[38;5;124m.\u001b[39m\u001b[38;5;124m\"\u001b[39m\n\u001b[0;32m---> 93\u001b[0m     \u001b[38;5;28;01mraise\u001b[39;00m \u001b[38;5;28mtype\u001b[39m(e)(msg)\u001b[38;5;241m.\u001b[39mwith_traceback(e\u001b[38;5;241m.\u001b[39m__traceback__)\n",
      "File \u001b[0;32m~/Library/Python/3.9/lib/python/site-packages/chromadb/api/models/CollectionCommon.py:90\u001b[0m, in \u001b[0;36mvalidation_context.<locals>.decorator.<locals>.wrapper\u001b[0;34m(self, *args, **kwargs)\u001b[0m\n\u001b[1;32m     87\u001b[0m \u001b[38;5;129m@functools\u001b[39m\u001b[38;5;241m.\u001b[39mwraps(func)\n\u001b[1;32m     88\u001b[0m \u001b[38;5;28;01mdef\u001b[39;00m \u001b[38;5;21mwrapper\u001b[39m(\u001b[38;5;28mself\u001b[39m: Any, \u001b[38;5;241m*\u001b[39margs: Any, \u001b[38;5;241m*\u001b[39m\u001b[38;5;241m*\u001b[39mkwargs: Any) \u001b[38;5;241m-\u001b[39m\u001b[38;5;241m>\u001b[39m T:\n\u001b[1;32m     89\u001b[0m     \u001b[38;5;28;01mtry\u001b[39;00m:\n\u001b[0;32m---> 90\u001b[0m         \u001b[38;5;28;01mreturn\u001b[39;00m \u001b[43mfunc\u001b[49m\u001b[43m(\u001b[49m\u001b[38;5;28;43mself\u001b[39;49m\u001b[43m,\u001b[49m\u001b[43m \u001b[49m\u001b[38;5;241;43m*\u001b[39;49m\u001b[43margs\u001b[49m\u001b[43m,\u001b[49m\u001b[43m \u001b[49m\u001b[38;5;241;43m*\u001b[39;49m\u001b[38;5;241;43m*\u001b[39;49m\u001b[43mkwargs\u001b[49m\u001b[43m)\u001b[49m\n\u001b[1;32m     91\u001b[0m     \u001b[38;5;28;01mexcept\u001b[39;00m \u001b[38;5;167;01mException\u001b[39;00m \u001b[38;5;28;01mas\u001b[39;00m e:\n\u001b[1;32m     92\u001b[0m         msg \u001b[38;5;241m=\u001b[39m \u001b[38;5;124mf\u001b[39m\u001b[38;5;124m\"\u001b[39m\u001b[38;5;132;01m{\u001b[39;00m\u001b[38;5;28mstr\u001b[39m(e)\u001b[38;5;132;01m}\u001b[39;00m\u001b[38;5;124m in \u001b[39m\u001b[38;5;132;01m{\u001b[39;00mname\u001b[38;5;132;01m}\u001b[39;00m\u001b[38;5;124m.\u001b[39m\u001b[38;5;124m\"\u001b[39m\n",
      "File \u001b[0;32m~/Library/Python/3.9/lib/python/site-packages/chromadb/api/models/CollectionCommon.py:280\u001b[0m, in \u001b[0;36mCollectionCommon._validate_and_prepare_query_request\u001b[0;34m(self, query_embeddings, query_texts, query_images, query_uris, n_results, where, where_document, include)\u001b[0m\n\u001b[1;32m    262\u001b[0m \u001b[38;5;129m@validation_context\u001b[39m(\u001b[38;5;124m\"\u001b[39m\u001b[38;5;124mquery\u001b[39m\u001b[38;5;124m\"\u001b[39m)\n\u001b[1;32m    263\u001b[0m \u001b[38;5;28;01mdef\u001b[39;00m \u001b[38;5;21m_validate_and_prepare_query_request\u001b[39m(\n\u001b[1;32m    264\u001b[0m     \u001b[38;5;28mself\u001b[39m,\n\u001b[0;32m   (...)\u001b[0m\n\u001b[1;32m    278\u001b[0m ) \u001b[38;5;241m-\u001b[39m\u001b[38;5;241m>\u001b[39m QueryRequest:\n\u001b[1;32m    279\u001b[0m     \u001b[38;5;66;03m# Unpack\u001b[39;00m\n\u001b[0;32m--> 280\u001b[0m     query_records \u001b[38;5;241m=\u001b[39m \u001b[43mnormalize_base_record_set\u001b[49m\u001b[43m(\u001b[49m\n\u001b[1;32m    281\u001b[0m \u001b[43m        \u001b[49m\u001b[43membeddings\u001b[49m\u001b[38;5;241;43m=\u001b[39;49m\u001b[43mquery_embeddings\u001b[49m\u001b[43m,\u001b[49m\n\u001b[1;32m    282\u001b[0m \u001b[43m        \u001b[49m\u001b[43mdocuments\u001b[49m\u001b[38;5;241;43m=\u001b[39;49m\u001b[43mquery_texts\u001b[49m\u001b[43m,\u001b[49m\n\u001b[1;32m    283\u001b[0m \u001b[43m        \u001b[49m\u001b[43mimages\u001b[49m\u001b[38;5;241;43m=\u001b[39;49m\u001b[43mquery_images\u001b[49m\u001b[43m,\u001b[49m\n\u001b[1;32m    284\u001b[0m \u001b[43m        \u001b[49m\u001b[43muris\u001b[49m\u001b[38;5;241;43m=\u001b[39;49m\u001b[43mquery_uris\u001b[49m\u001b[43m,\u001b[49m\n\u001b[1;32m    285\u001b[0m \u001b[43m    \u001b[49m\u001b[43m)\u001b[49m\n\u001b[1;32m    287\u001b[0m     filters \u001b[38;5;241m=\u001b[39m FilterSet(\n\u001b[1;32m    288\u001b[0m         where\u001b[38;5;241m=\u001b[39mwhere,\n\u001b[1;32m    289\u001b[0m         where_document\u001b[38;5;241m=\u001b[39mwhere_document,\n\u001b[1;32m    290\u001b[0m     )\n\u001b[1;32m    292\u001b[0m     \u001b[38;5;66;03m# Validate\u001b[39;00m\n",
      "File \u001b[0;32m~/Library/Python/3.9/lib/python/site-packages/chromadb/api/types.py:158\u001b[0m, in \u001b[0;36mnormalize_base_record_set\u001b[0;34m(embeddings, documents, images, uris)\u001b[0m\n\u001b[1;32m    147\u001b[0m \u001b[38;5;28;01mdef\u001b[39;00m \u001b[38;5;21mnormalize_base_record_set\u001b[39m(\n\u001b[1;32m    148\u001b[0m     embeddings: Optional[Union[OneOrMany[Embedding], OneOrMany[PyEmbedding]]] \u001b[38;5;241m=\u001b[39m \u001b[38;5;28;01mNone\u001b[39;00m,\n\u001b[1;32m    149\u001b[0m     documents: Optional[OneOrMany[Document]] \u001b[38;5;241m=\u001b[39m \u001b[38;5;28;01mNone\u001b[39;00m,\n\u001b[1;32m    150\u001b[0m     images: Optional[OneOrMany[Image]] \u001b[38;5;241m=\u001b[39m \u001b[38;5;28;01mNone\u001b[39;00m,\n\u001b[1;32m    151\u001b[0m     uris: Optional[OneOrMany[URI]] \u001b[38;5;241m=\u001b[39m \u001b[38;5;28;01mNone\u001b[39;00m,\n\u001b[1;32m    152\u001b[0m ) \u001b[38;5;241m-\u001b[39m\u001b[38;5;241m>\u001b[39m BaseRecordSet:\n\u001b[1;32m    153\u001b[0m \u001b[38;5;250m    \u001b[39m\u001b[38;5;124;03m\"\"\"\u001b[39;00m\n\u001b[1;32m    154\u001b[0m \u001b[38;5;124;03m    Unpacks and normalizes the fields of a BaseRecordSet.\u001b[39;00m\n\u001b[1;32m    155\u001b[0m \u001b[38;5;124;03m    \"\"\"\u001b[39;00m\n\u001b[1;32m    157\u001b[0m     \u001b[38;5;28;01mreturn\u001b[39;00m BaseRecordSet(\n\u001b[0;32m--> 158\u001b[0m         embeddings\u001b[38;5;241m=\u001b[39m\u001b[43mnormalize_embeddings\u001b[49m\u001b[43m(\u001b[49m\u001b[43membeddings\u001b[49m\u001b[43m)\u001b[49m,\n\u001b[1;32m    159\u001b[0m         documents\u001b[38;5;241m=\u001b[39mmaybe_cast_one_to_many(documents),\n\u001b[1;32m    160\u001b[0m         images\u001b[38;5;241m=\u001b[39mmaybe_cast_one_to_many(images),\n\u001b[1;32m    161\u001b[0m         uris\u001b[38;5;241m=\u001b[39mmaybe_cast_one_to_many(uris),\n\u001b[1;32m    162\u001b[0m     )\n",
      "File \u001b[0;32m~/Library/Python/3.9/lib/python/site-packages/chromadb/api/types.py:82\u001b[0m, in \u001b[0;36mnormalize_embeddings\u001b[0;34m(target)\u001b[0m\n\u001b[1;32m     79\u001b[0m     \u001b[38;5;28;01mif\u001b[39;00m target\u001b[38;5;241m.\u001b[39mndim \u001b[38;5;241m==\u001b[39m \u001b[38;5;241m2\u001b[39m:\n\u001b[1;32m     80\u001b[0m         \u001b[38;5;28;01mreturn\u001b[39;00m \u001b[38;5;28mlist\u001b[39m(target)\n\u001b[0;32m---> 82\u001b[0m \u001b[38;5;28;01mraise\u001b[39;00m \u001b[38;5;167;01mValueError\u001b[39;00m(\n\u001b[1;32m     83\u001b[0m     \u001b[38;5;124mf\u001b[39m\u001b[38;5;124m\"\u001b[39m\u001b[38;5;124mExpected embeddings to be a list of floats or ints, a list of lists, a numpy array, or a list of numpy arrays, got \u001b[39m\u001b[38;5;132;01m{\u001b[39;00mtarget\u001b[38;5;132;01m}\u001b[39;00m\u001b[38;5;124m\"\u001b[39m\n\u001b[1;32m     84\u001b[0m )\n",
      "\u001b[0;31mValueError\u001b[0m: Expected embeddings to be a list of floats or ints, a list of lists, a numpy array, or a list of numpy arrays, got [tensor([-3.8855e-02, -1.2471e-01, -9.2201e-03, -7.3344e-02,  5.5915e-01,\n        -2.7064e-01,  9.7387e-02,  3.4504e-01, -2.6210e-01,  1.3808e-02,\n         2.2466e-01, -5.5098e-01, -3.8770e-01,  2.4255e-01, -2.2029e-01,\n         1.0884e-02,  2.9325e-01,  2.0332e-01, -1.9766e-01,  5.9850e-01,\n         6.6307e-02, -1.1382e-01, -3.0335e-01,  1.3687e-01,  2.1185e-01,\n         1.1167e-02, -3.8477e-02,  8.0996e-02,  3.2921e-02, -1.4221e-01,\n         2.4666e-01, -1.5174e-01, -1.3303e-01, -6.9335e-02, -1.6171e-01,\n        -1.0300e-02, -1.4088e-01, -1.5260e-01, -4.2659e-01,  1.3648e-01,\n        -4.0489e-01, -2.3946e-01,  2.1970e-01,  1.8988e-01, -7.1899e-02,\n        -4.9142e-01,  3.2201e-01, -3.5161e-01,  3.0190e-01, -1.5636e-01,\n        -2.3208e-01,  4.1479e-01, -2.5853e-01,  2.5969e-01,  4.2936e-03,\n         2.6918e-01, -5.9448e-02, -3.9154e-01, -1.7338e-01, -1.4429e-01,\n        -1.2289e-01,  9.4519e-02,  2.1711e-01, -5.7459e-01, -8.6385e-02,\n         1.6234e-01,  8.7025e-02,  9.4272e-02, -2.7625e-01,  3.3766e-01,\n        -4.8603e-01, -1.9936e-01,  2.3508e-01,  1.2796e-01, -3.2536e-01,\n        -1.1818e-01, -7.3464e-04,  5.3907e-01,  3.0507e-01, -1.8236e-01,\n        -1.5918e-01,  5.6264e-01, -4.6832e-02,  5.0648e-01,  3.4166e-01,\n         3.8132e-01, -3.1267e-01,  6.7348e-02, -1.4665e-01,  7.3024e-01,\n        -2.5116e-01,  5.5128e-02,  4.8839e-02,  2.5103e-01,  3.4859e-01,\n        -2.8679e-01,  2.9947e-01, -3.1021e-01,  3.6499e-02,  2.4952e-01,\n         1.2424e-01, -3.2766e-01,  9.4993e-02,  3.8474e-01, -1.0651e-01,\n        -2.7360e-01,  2.9586e-01,  1.8576e-01,  6.2504e-02, -4.9161e-01,\n        -1.3972e-01, -1.8780e-01,  1.4499e-01, -1.3601e-01, -1.2313e-01,\n         9.4393e-01,  2.6541e-01, -1.3278e-01, -2.3688e-01,  2.3651e-01,\n        -1.5581e-01, -1.5424e-01,  1.8947e-01,  6.8209e-01,  2.7950e-01,\n         1.6668e-01, -2.7915e-01, -2.0853e-01,  1.7706e-01, -4.5364e-01,\n         3.0238e-01,  3.2802e-01,  4.8885e-01, -4.5749e-01, -2.5717e-02,\n         8.8245e-01, -3.8512e-02,  4.1992e-03, -5.7765e-01,  2.0225e-01,\n         3.7289e-02, -3.4966e-02, -2.4050e-01,  4.3866e-02,  3.2484e-01,\n        -3.0401e-02, -3.3561e-01,  1.4869e-01,  4.7981e-01, -9.4056e-02,\n         1.2398e-01,  4.6149e-02, -6.4755e-02, -2.7919e-01, -4.0974e-01,\n        -3.1847e-01, -4.2047e-01,  1.3273e-01,  1.8241e-01,  3.0862e-01,\n         3.3197e-01, -3.5942e-01, -2.1801e-01,  9.4179e-02, -1.7174e-01,\n        -1.4031e-01,  2.2994e-01,  6.3956e-01, -1.3532e-01,  3.6013e-01,\n        -1.5295e-01,  1.1110e-01,  8.4717e-01, -1.0363e-01,  1.8489e-01,\n         5.2682e-02, -1.5628e-01, -1.4438e-01,  4.0065e-02,  4.7782e-02,\n        -1.1950e+00,  7.2935e-02, -1.5655e-01,  3.2047e-01,  2.5398e-01,\n        -2.4016e-01,  4.9297e-01, -6.6392e-01, -3.7060e-01,  5.2523e-02,\n        -4.4636e-02, -4.6570e-01, -2.5880e-01,  4.2032e-01,  6.8537e-01,\n        -4.7040e-01, -4.4512e-01, -8.1729e-01,  1.9749e-01,  9.4603e-02,\n         1.9158e-02, -4.3400e-01,  5.3513e-02,  4.0531e-01,  1.7243e-02,\n         7.3655e-01,  4.7864e-02,  5.1784e-02, -1.3033e-01,  2.4632e-01,\n        -3.7717e-01,  3.0618e-01,  4.7290e-01,  1.6458e-01,  2.4329e-01,\n        -1.9112e-01,  4.1205e-01,  1.7802e-02, -3.1776e-01,  3.5935e-01,\n         2.3634e-01, -1.3160e-01, -5.7264e-01,  5.0396e-01, -3.6132e-01,\n         2.1178e-01,  4.0415e-01, -9.0041e-03,  3.9776e-02,  3.3921e-01,\n        -1.3416e-01,  5.7887e-02,  1.3453e-01,  3.4750e-01, -3.7073e-01,\n        -4.6548e-01, -2.3134e-01,  1.0294e-01,  7.0255e-02,  2.5009e-02,\n        -4.0684e-02,  4.3740e-01,  8.2357e-01,  1.4177e-01, -7.2488e-02,\n         7.3149e-02,  1.2564e-01,  3.5636e-01,  1.1678e-01, -1.2626e-01,\n        -1.1771e-01, -5.6678e-01,  4.8317e-02, -6.0796e-01, -1.9182e-01,\n        -2.0039e-02, -2.2126e-01,  5.5616e-01,  1.1782e-01,  7.8060e-02,\n         4.3885e-01, -2.9898e-02,  5.9568e-01,  1.4621e-02, -3.5953e-01,\n        -1.0029e-01,  1.0603e-02,  2.5675e-02, -8.2879e-02, -2.2859e-01,\n         7.0192e-02, -2.2783e-01,  1.8781e-01, -1.1235e-01,  1.8993e-01,\n        -3.8784e-01,  4.7842e-01, -2.4441e-01, -1.3634e-02, -3.2094e-01,\n        -1.3043e-01,  2.7765e-01, -6.1949e-01, -2.8388e-01,  2.3448e-01,\n        -5.4338e-01,  2.3392e-01, -3.6204e-01,  1.1778e-01, -4.7347e-01,\n        -1.3006e-01,  3.0037e-02, -1.1508e-02, -4.6254e-01,  1.2945e-01,\n        -2.9028e-03,  4.0947e-01,  7.6637e-02,  3.2887e-03, -8.1415e-02,\n        -5.4697e-02, -1.2731e-01,  2.3057e-01,  8.7178e-02, -4.6588e-01,\n         1.1761e-01,  1.2951e-02, -1.6704e-01, -2.9253e+00, -1.8135e-01,\n         2.2596e-01, -1.8139e-01,  2.2280e-02, -6.1614e-02, -2.3281e-01,\n        -1.2929e-01, -6.6249e-01, -1.0417e-01, -2.7749e-01, -4.8966e-01,\n         6.4844e-01,  2.5662e-01,  7.6456e-02, -3.6900e-01,  2.4478e-01,\n        -3.0348e-01, -8.2499e-02,  2.9182e-01, -3.1392e-01, -1.5990e-01,\n        -1.3350e-01, -6.2184e-01,  1.8171e-01,  1.0869e+00, -1.4354e-01,\n        -9.8239e-02, -5.3533e-01,  9.4838e-02, -2.2405e-01, -2.1824e-01,\n         6.7055e-02,  7.1968e-02, -3.1319e-02,  2.8624e-01, -1.7012e-01,\n        -1.4133e-01,  9.1797e-02,  3.3075e-02,  2.5846e-01, -2.0357e-01,\n         4.2260e-01,  2.6412e-01,  6.9706e-01,  5.2503e-02, -1.6338e-01,\n        -6.1475e-01, -1.3822e-01,  1.5543e-01,  9.2928e-02, -7.4424e-03,\n        -7.9949e-02, -1.0800e-02,  1.7503e-01,  3.9617e-02,  5.0868e-01,\n         1.5093e-01,  2.6669e-01, -4.0444e-01,  2.0161e-01, -4.4576e-01,\n        -1.7721e-01,  3.8470e-01, -3.2291e-01, -4.2525e-01, -6.4137e-01,\n        -4.7621e-01,  3.3372e-01,  4.9977e-02, -3.1229e-04, -5.7050e-01,\n        -5.7211e-01, -8.9662e-01, -7.4677e-01,  1.0453e-01,  1.8588e-01,\n        -1.9139e-01,  2.8937e-01, -2.4331e-01, -4.0074e-01, -2.4911e-01,\n         4.5568e-03,  1.2775e-01, -8.3640e-02, -1.0585e+00,  1.4276e-01,\n        -1.9102e-01,  5.6603e-02,  3.1430e-02,  1.2767e-01,  1.0989e-01,\n        -5.3145e-04,  1.7693e-01,  1.3314e-01, -4.6512e-02,  5.7329e-02,\n        -2.8985e-01,  8.2359e-02,  2.5257e-01, -1.4470e-01, -5.7098e-01,\n         2.2691e-01,  1.6849e-01,  1.8034e-01,  4.9080e-01, -3.6136e-01,\n        -6.4747e-02,  1.8552e-02,  2.6677e-01, -1.9550e-01, -7.7862e-01,\n         1.1612e-01, -2.7014e-01,  5.4242e-02, -9.1825e-02,  5.8287e-01,\n         5.0265e-01, -2.1448e-01,  1.1850e-01, -5.5516e-02,  2.6610e-01,\n        -9.9994e-02, -2.5115e-01, -4.8319e-01, -1.6760e-01,  5.6476e-03,\n        -3.1885e-01,  1.0437e-01, -1.3999e-01,  4.0343e-01, -2.0741e-01,\n        -1.1867e-01,  1.4227e-02, -3.0678e-03,  1.6855e-01, -7.0769e-02,\n        -3.4468e-01, -1.4811e-01,  1.9756e-02, -1.8041e-01,  6.1698e-02,\n        -3.6872e-01,  1.4053e-01, -1.8644e-01,  7.6094e-02, -1.5147e-01,\n         4.1831e-02,  5.2419e-02,  4.6889e-01, -7.6011e-02, -5.1612e-01,\n         2.3902e-01,  3.6339e-02,  2.0910e-01, -2.2540e-01,  4.6942e-01,\n        -4.1021e-01, -1.2775e-01, -2.4195e-01,  3.2747e-01,  1.1304e-01,\n        -1.0373e-01,  4.5736e-01, -5.3828e-02,  2.7663e-01,  4.7583e-01,\n        -6.5242e-02, -1.3483e-01,  3.8241e-01, -8.1963e-02, -3.6144e-01,\n         1.9811e-01,  2.7573e-01,  8.9246e-03,  2.0626e-02,  9.0658e-02,\n        -6.4138e-02, -2.2966e-01, -4.5822e-02, -1.8339e-01, -9.1933e-02,\n        -5.9439e-01, -3.1748e-01,  6.2870e-02,  8.4016e-02, -1.2060e-02,\n        -5.6628e-01,  3.1767e-01, -3.6997e-02, -1.2771e-01,  5.7814e-01,\n        -1.9852e-01, -2.2044e-01, -6.8201e-01, -1.0192e-01,  1.4576e-01,\n        -2.8711e-01,  1.7126e-01,  4.9474e-01, -3.0937e-02,  2.3848e-01,\n        -1.2046e-01, -1.3353e-02,  4.0807e-02, -6.9967e-02,  1.5089e-01,\n         1.0945e-01, -1.1536e-01,  5.3505e-02, -3.2427e-01, -3.9442e-01,\n        -6.7868e-02,  3.3591e-02, -2.9581e-02,  1.5482e-01,  1.6482e-01,\n        -2.4102e-02,  4.5642e-01,  1.5237e-01, -5.8125e-01, -1.4452e-01,\n         2.3951e-01, -1.4933e-01, -4.8220e-01, -5.4363e-01, -1.5312e-01,\n        -4.4693e-02, -1.8080e-01, -6.0974e-02,  1.9740e-01, -9.6360e-02,\n         2.7979e-01,  1.5468e-01, -1.4132e-01,  3.3035e-01,  1.2569e-01,\n        -1.5389e-01,  2.1843e-01,  3.1762e-01,  4.7791e-01, -1.8678e-01,\n         1.3205e-01, -3.5592e-01,  2.3202e-01, -2.1924e-01,  1.6291e-01,\n         2.8907e-01,  1.1627e-01,  2.3697e-01,  1.2347e-01,  3.3761e-01,\n         5.0916e-02, -2.3338e-01, -2.3292e-01,  2.1654e-01, -2.9493e-01,\n         1.5937e-02, -9.9943e-04, -5.2188e-02, -1.3980e-01,  1.6848e-01,\n        -4.7712e-02,  3.2688e-01, -1.3792e-01, -1.5473e-01,  2.3343e-01,\n         2.5672e-01,  1.0784e-01, -3.0473e-02, -5.6589e-01, -2.9073e-01,\n         2.0372e-01, -4.6423e-01, -1.9107e-01, -6.6333e-02,  1.6244e-01,\n        -8.4573e-01,  8.3544e-02, -3.5250e-02,  2.8147e-01,  7.8774e-01,\n        -6.5629e-02,  1.5547e-01, -6.6713e-02, -1.6151e-02, -3.6966e-02,\n         2.9242e-01, -3.1556e-02,  2.4031e-01,  4.7216e-02,  3.3065e-01,\n         2.4529e-01,  1.1595e-01,  2.9757e-01,  1.3488e-01,  2.0984e-01,\n         1.8621e-01,  2.0288e-01, -3.1417e-01, -8.0084e-01, -2.3061e-02,\n         1.8626e-01,  3.1275e-01, -2.9040e-01, -1.2252e-01, -9.3099e-02,\n        -9.2661e-02, -2.7132e-01, -1.0466e-01, -1.1082e-01, -1.7762e-01,\n         1.3364e-01,  1.9306e-01, -4.8822e-01,  2.4814e-01, -1.1258e-01,\n        -5.6011e-01, -1.9544e-01,  4.6279e-01, -2.1934e-01, -3.6920e-01,\n         4.7996e-01,  8.2647e-02,  2.5754e-01,  3.0562e-01, -7.1108e-01,\n         2.9010e-01,  3.3512e-01,  2.6543e-01, -1.2568e-01,  1.8044e-02,\n        -2.0083e-01,  7.2790e-01, -2.2090e-01, -4.3827e-01, -3.3327e-02,\n         1.7963e-01,  3.2273e-01, -7.9525e-02, -2.8489e-01,  2.1919e-01,\n         6.4567e-02,  1.2120e-01, -4.1954e-02,  1.8645e-01,  2.1645e-01,\n        -7.7073e-01,  4.1495e-01,  6.1755e-01,  4.0754e-01,  3.1441e-02,\n        -2.1940e-01, -3.7521e-01,  4.4680e-01,  4.1939e-01,  2.8205e-01,\n         2.5542e-01, -5.1098e-01, -3.4634e-01,  5.5458e-03, -1.3160e-01,\n         2.3129e-01, -3.4147e-01,  9.1517e-02,  5.6919e-01, -9.4496e-02,\n        -5.2003e-01,  3.0574e-01, -2.4302e-03,  3.4188e-01,  4.4949e-01,\n         6.6907e-02,  2.2472e-01, -9.9962e-02,  6.5241e-01, -1.5310e-01,\n        -2.2993e-01, -3.4104e-01,  1.6860e-01,  2.8650e-01,  1.6440e-01,\n        -5.4621e-01, -6.8923e-02,  1.5146e-01, -2.6018e-01,  6.4534e-02,\n        -1.2788e-02,  1.0465e-01, -3.1313e-01,  1.8790e-01, -2.8007e-01,\n         3.0698e-01, -4.1342e-01, -1.8413e-01, -3.5264e-01,  4.2478e-01,\n        -1.7314e-01,  4.4197e-01, -7.0316e-02,  5.2409e-01, -2.7752e-01,\n         1.8385e-01,  6.0415e-02, -2.6349e-03,  9.2287e-03,  2.9919e-01,\n        -9.2809e-02, -1.7203e-01, -4.6283e-01, -4.5771e-01,  4.6477e-01,\n        -6.9502e-01,  2.6069e-02,  9.2883e-02,  2.4271e-01, -1.8807e-01,\n         4.0504e-02, -1.1205e-01,  3.6772e-01, -1.5983e-01, -2.4109e-02,\n        -2.5498e-01, -4.4170e-02, -3.9347e-01, -1.7189e-01,  6.2494e-01,\n         3.6575e-01, -2.6409e-01, -3.5400e-01,  1.2921e-01,  2.8841e-01,\n         1.3971e-01, -1.4198e-01,  3.8453e-02, -2.1390e-01,  2.7356e-01,\n        -2.3771e-01, -2.3342e-01, -7.3670e-01,  3.0583e-01,  2.3525e-01,\n         3.7008e-01, -4.6465e-02, -1.5293e+00, -1.3056e-01, -2.5421e-01,\n        -6.8160e-01,  4.3946e-01, -4.2704e-01,  2.3943e-02,  1.2388e-01,\n         3.0782e-02, -5.2459e-01,  1.9445e-01, -3.0102e-01, -4.1197e-02,\n        -1.9695e-01,  1.5177e-01,  1.3668e-01])] in query."
     ]
    }
   ],
   "source": [
    "query = \"where is the cat sitting?\"\n",
    "results = vectorstore.similarity_search(query, k = 1)\n",
    "results\n"
   ]
  },
  {
   "cell_type": "code",
   "execution_count": 16,
   "metadata": {},
   "outputs": [
    {
     "ename": "NameError",
     "evalue": "name 'query_embedding' is not defined",
     "output_type": "error",
     "traceback": [
      "\u001b[0;31m---------------------------------------------------------------------------\u001b[0m",
      "\u001b[0;31mNameError\u001b[0m                                 Traceback (most recent call last)",
      "Cell \u001b[0;32mIn[16], line 1\u001b[0m\n\u001b[0;32m----> 1\u001b[0m \u001b[38;5;28mprint\u001b[39m(\u001b[43mquery_embedding\u001b[49m\u001b[38;5;241m.\u001b[39mshape)\n\u001b[1;32m      2\u001b[0m \u001b[38;5;28mprint\u001b[39m(vectorstore\u001b[38;5;241m.\u001b[39membedding_dimension)  \u001b[38;5;66;03m# If supported by your vectorstore\u001b[39;00m\n",
      "\u001b[0;31mNameError\u001b[0m: name 'query_embedding' is not defined"
     ]
    }
   ],
   "source": [
    "print(query_embedding.shape)\n",
    "print(vectorstore.embedding_dimension)  # If supported by your vectorstore\n"
   ]
  }
 ],
 "metadata": {
  "kernelspec": {
   "display_name": "Python 3",
   "language": "python",
   "name": "python3"
  },
  "language_info": {
   "codemirror_mode": {
    "name": "ipython",
    "version": 3
   },
   "file_extension": ".py",
   "mimetype": "text/x-python",
   "name": "python",
   "nbconvert_exporter": "python",
   "pygments_lexer": "ipython3",
   "version": "3.9.6"
  }
 },
 "nbformat": 4,
 "nbformat_minor": 2
}
